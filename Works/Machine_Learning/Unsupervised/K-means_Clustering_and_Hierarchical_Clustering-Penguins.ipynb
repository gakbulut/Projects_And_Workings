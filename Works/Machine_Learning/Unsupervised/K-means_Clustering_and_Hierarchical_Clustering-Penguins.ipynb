{
 "cells": [
  {
   "cell_type": "markdown",
   "id": "24acda1f-48de-48d0-82d0-3d48b9328ebd",
   "metadata": {},
   "source": [
    "# UNSUPERWISED LEARNING"
   ]
  },
  {
   "cell_type": "markdown",
   "id": "8749bdfa-1076-4ee3-a727-e0baf0e3bf0e",
   "metadata": {},
   "source": [
    "* Hopkins Test\n",
    "* K-Means Clustering\n",
    "    * Silhouette Analysis\n",
    "    * Elbow Method\n",
    "* Hierarchical Clustering\n",
    "    * Dendrogram\n"
   ]
  },
  {
   "cell_type": "code",
   "execution_count": 1,
   "id": "774f3930",
   "metadata": {},
   "outputs": [],
   "source": [
    "import pandas as pd\n",
    "import matplotlib.pyplot as plt\n",
    "import numpy as np\n",
    "import seaborn as sns\n",
    "from collections import Counter\n",
    "pd.set_option('display.float_format', '{:.2f}'.format)\n",
    "\n",
    "import warnings\n",
    "warnings.filterwarnings(\"ignore\")"
   ]
  },
  {
   "cell_type": "code",
   "execution_count": 2,
   "id": "4db62e5d",
   "metadata": {},
   "outputs": [],
   "source": [
    "data = pd.read_csv(\"penguins.csv\", index_col=0)"
   ]
  },
  {
   "cell_type": "code",
   "execution_count": 3,
   "id": "d16b3275",
   "metadata": {},
   "outputs": [
    {
     "name": "stdout",
     "output_type": "stream",
     "text": [
      "<class 'pandas.core.frame.DataFrame'>\n",
      "Int64Index: 344 entries, 1 to 344\n",
      "Data columns (total 8 columns):\n",
      " #   Column             Non-Null Count  Dtype  \n",
      "---  ------             --------------  -----  \n",
      " 0   species            344 non-null    object \n",
      " 1   island             344 non-null    object \n",
      " 2   bill_length_mm     342 non-null    float64\n",
      " 3   bill_depth_mm      342 non-null    float64\n",
      " 4   flipper_length_mm  342 non-null    float64\n",
      " 5   body_mass_g        342 non-null    float64\n",
      " 6   sex                333 non-null    object \n",
      " 7   year               344 non-null    int64  \n",
      "dtypes: float64(4), int64(1), object(3)\n",
      "memory usage: 24.2+ KB\n"
     ]
    }
   ],
   "source": [
    "data.info()"
   ]
  },
  {
   "cell_type": "code",
   "execution_count": 4,
   "id": "9f36d224",
   "metadata": {},
   "outputs": [
    {
     "data": {
      "text/html": [
       "<div>\n",
       "<style scoped>\n",
       "    .dataframe tbody tr th:only-of-type {\n",
       "        vertical-align: middle;\n",
       "    }\n",
       "\n",
       "    .dataframe tbody tr th {\n",
       "        vertical-align: top;\n",
       "    }\n",
       "\n",
       "    .dataframe thead th {\n",
       "        text-align: right;\n",
       "    }\n",
       "</style>\n",
       "<table border=\"1\" class=\"dataframe\">\n",
       "  <thead>\n",
       "    <tr style=\"text-align: right;\">\n",
       "      <th></th>\n",
       "      <th>bill_length_mm</th>\n",
       "      <th>bill_depth_mm</th>\n",
       "      <th>flipper_length_mm</th>\n",
       "      <th>body_mass_g</th>\n",
       "      <th>year</th>\n",
       "    </tr>\n",
       "  </thead>\n",
       "  <tbody>\n",
       "    <tr>\n",
       "      <th>count</th>\n",
       "      <td>342.00</td>\n",
       "      <td>342.00</td>\n",
       "      <td>342.00</td>\n",
       "      <td>342.00</td>\n",
       "      <td>344.00</td>\n",
       "    </tr>\n",
       "    <tr>\n",
       "      <th>mean</th>\n",
       "      <td>43.92</td>\n",
       "      <td>17.15</td>\n",
       "      <td>200.92</td>\n",
       "      <td>4201.75</td>\n",
       "      <td>2008.03</td>\n",
       "    </tr>\n",
       "    <tr>\n",
       "      <th>std</th>\n",
       "      <td>5.46</td>\n",
       "      <td>1.97</td>\n",
       "      <td>14.06</td>\n",
       "      <td>801.95</td>\n",
       "      <td>0.82</td>\n",
       "    </tr>\n",
       "    <tr>\n",
       "      <th>min</th>\n",
       "      <td>32.10</td>\n",
       "      <td>13.10</td>\n",
       "      <td>172.00</td>\n",
       "      <td>2700.00</td>\n",
       "      <td>2007.00</td>\n",
       "    </tr>\n",
       "    <tr>\n",
       "      <th>25%</th>\n",
       "      <td>39.23</td>\n",
       "      <td>15.60</td>\n",
       "      <td>190.00</td>\n",
       "      <td>3550.00</td>\n",
       "      <td>2007.00</td>\n",
       "    </tr>\n",
       "    <tr>\n",
       "      <th>50%</th>\n",
       "      <td>44.45</td>\n",
       "      <td>17.30</td>\n",
       "      <td>197.00</td>\n",
       "      <td>4050.00</td>\n",
       "      <td>2008.00</td>\n",
       "    </tr>\n",
       "    <tr>\n",
       "      <th>75%</th>\n",
       "      <td>48.50</td>\n",
       "      <td>18.70</td>\n",
       "      <td>213.00</td>\n",
       "      <td>4750.00</td>\n",
       "      <td>2009.00</td>\n",
       "    </tr>\n",
       "    <tr>\n",
       "      <th>max</th>\n",
       "      <td>59.60</td>\n",
       "      <td>21.50</td>\n",
       "      <td>231.00</td>\n",
       "      <td>6300.00</td>\n",
       "      <td>2009.00</td>\n",
       "    </tr>\n",
       "  </tbody>\n",
       "</table>\n",
       "</div>"
      ],
      "text/plain": [
       "       bill_length_mm  bill_depth_mm  flipper_length_mm  body_mass_g    year\n",
       "count          342.00         342.00             342.00       342.00  344.00\n",
       "mean            43.92          17.15             200.92      4201.75 2008.03\n",
       "std              5.46           1.97              14.06       801.95    0.82\n",
       "min             32.10          13.10             172.00      2700.00 2007.00\n",
       "25%             39.23          15.60             190.00      3550.00 2007.00\n",
       "50%             44.45          17.30             197.00      4050.00 2008.00\n",
       "75%             48.50          18.70             213.00      4750.00 2009.00\n",
       "max             59.60          21.50             231.00      6300.00 2009.00"
      ]
     },
     "execution_count": 4,
     "metadata": {},
     "output_type": "execute_result"
    }
   ],
   "source": [
    "data.describe()"
   ]
  },
  {
   "cell_type": "code",
   "execution_count": 5,
   "id": "811907d9",
   "metadata": {},
   "outputs": [
    {
     "data": {
      "text/plain": [
       "(344, 8)"
      ]
     },
     "execution_count": 5,
     "metadata": {},
     "output_type": "execute_result"
    }
   ],
   "source": [
    "data.shape"
   ]
  },
  {
   "cell_type": "code",
   "execution_count": 6,
   "id": "a8cd2c6e",
   "metadata": {},
   "outputs": [
    {
     "data": {
      "text/plain": [
       "Index(['species', 'island', 'bill_length_mm', 'bill_depth_mm',\n",
       "       'flipper_length_mm', 'body_mass_g', 'sex', 'year'],\n",
       "      dtype='object')"
      ]
     },
     "execution_count": 6,
     "metadata": {},
     "output_type": "execute_result"
    }
   ],
   "source": [
    "data.columns"
   ]
  },
  {
   "cell_type": "code",
   "execution_count": 7,
   "id": "c6aed8b6",
   "metadata": {},
   "outputs": [],
   "source": [
    "data.drop('year', axis=1, inplace=True)  ## delete the year column."
   ]
  },
  {
   "cell_type": "code",
   "execution_count": 8,
   "id": "72892c44",
   "metadata": {},
   "outputs": [
    {
     "data": {
      "text/html": [
       "<div>\n",
       "<style scoped>\n",
       "    .dataframe tbody tr th:only-of-type {\n",
       "        vertical-align: middle;\n",
       "    }\n",
       "\n",
       "    .dataframe tbody tr th {\n",
       "        vertical-align: top;\n",
       "    }\n",
       "\n",
       "    .dataframe thead th {\n",
       "        text-align: right;\n",
       "    }\n",
       "</style>\n",
       "<table border=\"1\" class=\"dataframe\">\n",
       "  <thead>\n",
       "    <tr style=\"text-align: right;\">\n",
       "      <th></th>\n",
       "      <th>species</th>\n",
       "      <th>island</th>\n",
       "      <th>bill_length_mm</th>\n",
       "      <th>bill_depth_mm</th>\n",
       "      <th>flipper_length_mm</th>\n",
       "      <th>body_mass_g</th>\n",
       "      <th>sex</th>\n",
       "    </tr>\n",
       "  </thead>\n",
       "  <tbody>\n",
       "    <tr>\n",
       "      <th>1</th>\n",
       "      <td>Adelie</td>\n",
       "      <td>Torgersen</td>\n",
       "      <td>39.10</td>\n",
       "      <td>18.70</td>\n",
       "      <td>181.00</td>\n",
       "      <td>3750.00</td>\n",
       "      <td>male</td>\n",
       "    </tr>\n",
       "    <tr>\n",
       "      <th>2</th>\n",
       "      <td>Adelie</td>\n",
       "      <td>Torgersen</td>\n",
       "      <td>39.50</td>\n",
       "      <td>17.40</td>\n",
       "      <td>186.00</td>\n",
       "      <td>3800.00</td>\n",
       "      <td>female</td>\n",
       "    </tr>\n",
       "    <tr>\n",
       "      <th>3</th>\n",
       "      <td>Adelie</td>\n",
       "      <td>Torgersen</td>\n",
       "      <td>40.30</td>\n",
       "      <td>18.00</td>\n",
       "      <td>195.00</td>\n",
       "      <td>3250.00</td>\n",
       "      <td>female</td>\n",
       "    </tr>\n",
       "    <tr>\n",
       "      <th>4</th>\n",
       "      <td>Adelie</td>\n",
       "      <td>Torgersen</td>\n",
       "      <td>NaN</td>\n",
       "      <td>NaN</td>\n",
       "      <td>NaN</td>\n",
       "      <td>NaN</td>\n",
       "      <td>NaN</td>\n",
       "    </tr>\n",
       "    <tr>\n",
       "      <th>5</th>\n",
       "      <td>Adelie</td>\n",
       "      <td>Torgersen</td>\n",
       "      <td>36.70</td>\n",
       "      <td>19.30</td>\n",
       "      <td>193.00</td>\n",
       "      <td>3450.00</td>\n",
       "      <td>female</td>\n",
       "    </tr>\n",
       "  </tbody>\n",
       "</table>\n",
       "</div>"
      ],
      "text/plain": [
       "  species     island  bill_length_mm  bill_depth_mm  flipper_length_mm  \\\n",
       "1  Adelie  Torgersen           39.10          18.70             181.00   \n",
       "2  Adelie  Torgersen           39.50          17.40             186.00   \n",
       "3  Adelie  Torgersen           40.30          18.00             195.00   \n",
       "4  Adelie  Torgersen             NaN            NaN                NaN   \n",
       "5  Adelie  Torgersen           36.70          19.30             193.00   \n",
       "\n",
       "   body_mass_g     sex  \n",
       "1      3750.00    male  \n",
       "2      3800.00  female  \n",
       "3      3250.00  female  \n",
       "4          NaN     NaN  \n",
       "5      3450.00  female  "
      ]
     },
     "execution_count": 8,
     "metadata": {},
     "output_type": "execute_result"
    }
   ],
   "source": [
    "data.head()"
   ]
  },
  {
   "cell_type": "code",
   "execution_count": 9,
   "id": "d20a8cc9",
   "metadata": {},
   "outputs": [
    {
     "data": {
      "text/html": [
       "<div>\n",
       "<style scoped>\n",
       "    .dataframe tbody tr th:only-of-type {\n",
       "        vertical-align: middle;\n",
       "    }\n",
       "\n",
       "    .dataframe tbody tr th {\n",
       "        vertical-align: top;\n",
       "    }\n",
       "\n",
       "    .dataframe thead th {\n",
       "        text-align: right;\n",
       "    }\n",
       "</style>\n",
       "<table border=\"1\" class=\"dataframe\">\n",
       "  <thead>\n",
       "    <tr style=\"text-align: right;\">\n",
       "      <th></th>\n",
       "      <th>species</th>\n",
       "      <th>island</th>\n",
       "      <th>bill_length_mm</th>\n",
       "      <th>bill_depth_mm</th>\n",
       "      <th>flipper_length_mm</th>\n",
       "      <th>body_mass_g</th>\n",
       "      <th>sex</th>\n",
       "    </tr>\n",
       "  </thead>\n",
       "  <tbody>\n",
       "    <tr>\n",
       "      <th>340</th>\n",
       "      <td>Chinstrap</td>\n",
       "      <td>Dream</td>\n",
       "      <td>55.80</td>\n",
       "      <td>19.80</td>\n",
       "      <td>207.00</td>\n",
       "      <td>4000.00</td>\n",
       "      <td>male</td>\n",
       "    </tr>\n",
       "    <tr>\n",
       "      <th>341</th>\n",
       "      <td>Chinstrap</td>\n",
       "      <td>Dream</td>\n",
       "      <td>43.50</td>\n",
       "      <td>18.10</td>\n",
       "      <td>202.00</td>\n",
       "      <td>3400.00</td>\n",
       "      <td>female</td>\n",
       "    </tr>\n",
       "    <tr>\n",
       "      <th>342</th>\n",
       "      <td>Chinstrap</td>\n",
       "      <td>Dream</td>\n",
       "      <td>49.60</td>\n",
       "      <td>18.20</td>\n",
       "      <td>193.00</td>\n",
       "      <td>3775.00</td>\n",
       "      <td>male</td>\n",
       "    </tr>\n",
       "    <tr>\n",
       "      <th>343</th>\n",
       "      <td>Chinstrap</td>\n",
       "      <td>Dream</td>\n",
       "      <td>50.80</td>\n",
       "      <td>19.00</td>\n",
       "      <td>210.00</td>\n",
       "      <td>4100.00</td>\n",
       "      <td>male</td>\n",
       "    </tr>\n",
       "    <tr>\n",
       "      <th>344</th>\n",
       "      <td>Chinstrap</td>\n",
       "      <td>Dream</td>\n",
       "      <td>50.20</td>\n",
       "      <td>18.70</td>\n",
       "      <td>198.00</td>\n",
       "      <td>3775.00</td>\n",
       "      <td>female</td>\n",
       "    </tr>\n",
       "  </tbody>\n",
       "</table>\n",
       "</div>"
      ],
      "text/plain": [
       "       species island  bill_length_mm  bill_depth_mm  flipper_length_mm  \\\n",
       "340  Chinstrap  Dream           55.80          19.80             207.00   \n",
       "341  Chinstrap  Dream           43.50          18.10             202.00   \n",
       "342  Chinstrap  Dream           49.60          18.20             193.00   \n",
       "343  Chinstrap  Dream           50.80          19.00             210.00   \n",
       "344  Chinstrap  Dream           50.20          18.70             198.00   \n",
       "\n",
       "     body_mass_g     sex  \n",
       "340      4000.00    male  \n",
       "341      3400.00  female  \n",
       "342      3775.00    male  \n",
       "343      4100.00    male  \n",
       "344      3775.00  female  "
      ]
     },
     "execution_count": 9,
     "metadata": {},
     "output_type": "execute_result"
    }
   ],
   "source": [
    "data.tail()"
   ]
  },
  {
   "cell_type": "code",
   "execution_count": 10,
   "id": "ee22a1b3",
   "metadata": {},
   "outputs": [
    {
     "data": {
      "text/plain": [
       "species               0\n",
       "island                0\n",
       "bill_length_mm        2\n",
       "bill_depth_mm         2\n",
       "flipper_length_mm     2\n",
       "body_mass_g           2\n",
       "sex                  11\n",
       "dtype: int64"
      ]
     },
     "execution_count": 10,
     "metadata": {},
     "output_type": "execute_result"
    }
   ],
   "source": [
    "data.isnull().sum()"
   ]
  },
  {
   "cell_type": "code",
   "execution_count": 11,
   "id": "8eeea82b",
   "metadata": {},
   "outputs": [
    {
     "data": {
      "text/plain": [
       "Adelie       152\n",
       "Gentoo       124\n",
       "Chinstrap     68\n",
       "Name: species, dtype: int64"
      ]
     },
     "execution_count": 11,
     "metadata": {},
     "output_type": "execute_result"
    }
   ],
   "source": [
    "data[\"species\"].value_counts()"
   ]
  },
  {
   "cell_type": "code",
   "execution_count": 12,
   "id": "ad93ce7d",
   "metadata": {},
   "outputs": [
    {
     "data": {
      "text/plain": [
       "Biscoe       168\n",
       "Dream        124\n",
       "Torgersen     52\n",
       "Name: island, dtype: int64"
      ]
     },
     "execution_count": 12,
     "metadata": {},
     "output_type": "execute_result"
    }
   ],
   "source": [
    "data[\"island\"].value_counts()"
   ]
  },
  {
   "cell_type": "code",
   "execution_count": 13,
   "id": "f85339d3",
   "metadata": {},
   "outputs": [
    {
     "data": {
      "text/html": [
       "<div>\n",
       "<style scoped>\n",
       "    .dataframe tbody tr th:only-of-type {\n",
       "        vertical-align: middle;\n",
       "    }\n",
       "\n",
       "    .dataframe tbody tr th {\n",
       "        vertical-align: top;\n",
       "    }\n",
       "\n",
       "    .dataframe thead th {\n",
       "        text-align: right;\n",
       "    }\n",
       "</style>\n",
       "<table border=\"1\" class=\"dataframe\">\n",
       "  <thead>\n",
       "    <tr style=\"text-align: right;\">\n",
       "      <th></th>\n",
       "      <th>species</th>\n",
       "      <th>island</th>\n",
       "      <th>bill_length_mm</th>\n",
       "      <th>bill_depth_mm</th>\n",
       "      <th>flipper_length_mm</th>\n",
       "      <th>body_mass_g</th>\n",
       "      <th>sex</th>\n",
       "    </tr>\n",
       "  </thead>\n",
       "  <tbody>\n",
       "    <tr>\n",
       "      <th>4</th>\n",
       "      <td>Adelie</td>\n",
       "      <td>Torgersen</td>\n",
       "      <td>NaN</td>\n",
       "      <td>NaN</td>\n",
       "      <td>NaN</td>\n",
       "      <td>NaN</td>\n",
       "      <td>NaN</td>\n",
       "    </tr>\n",
       "    <tr>\n",
       "      <th>9</th>\n",
       "      <td>Adelie</td>\n",
       "      <td>Torgersen</td>\n",
       "      <td>34.10</td>\n",
       "      <td>18.10</td>\n",
       "      <td>193.00</td>\n",
       "      <td>3475.00</td>\n",
       "      <td>NaN</td>\n",
       "    </tr>\n",
       "    <tr>\n",
       "      <th>10</th>\n",
       "      <td>Adelie</td>\n",
       "      <td>Torgersen</td>\n",
       "      <td>42.00</td>\n",
       "      <td>20.20</td>\n",
       "      <td>190.00</td>\n",
       "      <td>4250.00</td>\n",
       "      <td>NaN</td>\n",
       "    </tr>\n",
       "    <tr>\n",
       "      <th>11</th>\n",
       "      <td>Adelie</td>\n",
       "      <td>Torgersen</td>\n",
       "      <td>37.80</td>\n",
       "      <td>17.10</td>\n",
       "      <td>186.00</td>\n",
       "      <td>3300.00</td>\n",
       "      <td>NaN</td>\n",
       "    </tr>\n",
       "    <tr>\n",
       "      <th>12</th>\n",
       "      <td>Adelie</td>\n",
       "      <td>Torgersen</td>\n",
       "      <td>37.80</td>\n",
       "      <td>17.30</td>\n",
       "      <td>180.00</td>\n",
       "      <td>3700.00</td>\n",
       "      <td>NaN</td>\n",
       "    </tr>\n",
       "    <tr>\n",
       "      <th>48</th>\n",
       "      <td>Adelie</td>\n",
       "      <td>Dream</td>\n",
       "      <td>37.50</td>\n",
       "      <td>18.90</td>\n",
       "      <td>179.00</td>\n",
       "      <td>2975.00</td>\n",
       "      <td>NaN</td>\n",
       "    </tr>\n",
       "    <tr>\n",
       "      <th>179</th>\n",
       "      <td>Gentoo</td>\n",
       "      <td>Biscoe</td>\n",
       "      <td>44.50</td>\n",
       "      <td>14.30</td>\n",
       "      <td>216.00</td>\n",
       "      <td>4100.00</td>\n",
       "      <td>NaN</td>\n",
       "    </tr>\n",
       "    <tr>\n",
       "      <th>219</th>\n",
       "      <td>Gentoo</td>\n",
       "      <td>Biscoe</td>\n",
       "      <td>46.20</td>\n",
       "      <td>14.40</td>\n",
       "      <td>214.00</td>\n",
       "      <td>4650.00</td>\n",
       "      <td>NaN</td>\n",
       "    </tr>\n",
       "    <tr>\n",
       "      <th>257</th>\n",
       "      <td>Gentoo</td>\n",
       "      <td>Biscoe</td>\n",
       "      <td>47.30</td>\n",
       "      <td>13.80</td>\n",
       "      <td>216.00</td>\n",
       "      <td>4725.00</td>\n",
       "      <td>NaN</td>\n",
       "    </tr>\n",
       "    <tr>\n",
       "      <th>269</th>\n",
       "      <td>Gentoo</td>\n",
       "      <td>Biscoe</td>\n",
       "      <td>44.50</td>\n",
       "      <td>15.70</td>\n",
       "      <td>217.00</td>\n",
       "      <td>4875.00</td>\n",
       "      <td>NaN</td>\n",
       "    </tr>\n",
       "    <tr>\n",
       "      <th>272</th>\n",
       "      <td>Gentoo</td>\n",
       "      <td>Biscoe</td>\n",
       "      <td>NaN</td>\n",
       "      <td>NaN</td>\n",
       "      <td>NaN</td>\n",
       "      <td>NaN</td>\n",
       "      <td>NaN</td>\n",
       "    </tr>\n",
       "  </tbody>\n",
       "</table>\n",
       "</div>"
      ],
      "text/plain": [
       "    species     island  bill_length_mm  bill_depth_mm  flipper_length_mm  \\\n",
       "4    Adelie  Torgersen             NaN            NaN                NaN   \n",
       "9    Adelie  Torgersen           34.10          18.10             193.00   \n",
       "10   Adelie  Torgersen           42.00          20.20             190.00   \n",
       "11   Adelie  Torgersen           37.80          17.10             186.00   \n",
       "12   Adelie  Torgersen           37.80          17.30             180.00   \n",
       "48   Adelie      Dream           37.50          18.90             179.00   \n",
       "179  Gentoo     Biscoe           44.50          14.30             216.00   \n",
       "219  Gentoo     Biscoe           46.20          14.40             214.00   \n",
       "257  Gentoo     Biscoe           47.30          13.80             216.00   \n",
       "269  Gentoo     Biscoe           44.50          15.70             217.00   \n",
       "272  Gentoo     Biscoe             NaN            NaN                NaN   \n",
       "\n",
       "     body_mass_g  sex  \n",
       "4            NaN  NaN  \n",
       "9        3475.00  NaN  \n",
       "10       4250.00  NaN  \n",
       "11       3300.00  NaN  \n",
       "12       3700.00  NaN  \n",
       "48       2975.00  NaN  \n",
       "179      4100.00  NaN  \n",
       "219      4650.00  NaN  \n",
       "257      4725.00  NaN  \n",
       "269      4875.00  NaN  \n",
       "272          NaN  NaN  "
      ]
     },
     "execution_count": 13,
     "metadata": {},
     "output_type": "execute_result"
    }
   ],
   "source": [
    "data[data[\"sex\"].isna()]"
   ]
  },
  {
   "cell_type": "code",
   "execution_count": 15,
   "id": "b3cb4e24",
   "metadata": {},
   "outputs": [
    {
     "data": {
      "text/html": [
       "<div>\n",
       "<style scoped>\n",
       "    .dataframe tbody tr th:only-of-type {\n",
       "        vertical-align: middle;\n",
       "    }\n",
       "\n",
       "    .dataframe tbody tr th {\n",
       "        vertical-align: top;\n",
       "    }\n",
       "\n",
       "    .dataframe thead th {\n",
       "        text-align: right;\n",
       "    }\n",
       "</style>\n",
       "<table border=\"1\" class=\"dataframe\">\n",
       "  <thead>\n",
       "    <tr style=\"text-align: right;\">\n",
       "      <th></th>\n",
       "      <th>species</th>\n",
       "      <th>island</th>\n",
       "      <th>bill_length_mm</th>\n",
       "      <th>bill_depth_mm</th>\n",
       "      <th>flipper_length_mm</th>\n",
       "      <th>body_mass_g</th>\n",
       "      <th>sex</th>\n",
       "    </tr>\n",
       "  </thead>\n",
       "  <tbody>\n",
       "    <tr>\n",
       "      <th>0</th>\n",
       "      <td>Adelie</td>\n",
       "      <td>Torgersen</td>\n",
       "      <td>39.10</td>\n",
       "      <td>18.70</td>\n",
       "      <td>181.00</td>\n",
       "      <td>3750.00</td>\n",
       "      <td>male</td>\n",
       "    </tr>\n",
       "    <tr>\n",
       "      <th>1</th>\n",
       "      <td>Adelie</td>\n",
       "      <td>Torgersen</td>\n",
       "      <td>39.50</td>\n",
       "      <td>17.40</td>\n",
       "      <td>186.00</td>\n",
       "      <td>3800.00</td>\n",
       "      <td>female</td>\n",
       "    </tr>\n",
       "    <tr>\n",
       "      <th>2</th>\n",
       "      <td>Adelie</td>\n",
       "      <td>Torgersen</td>\n",
       "      <td>40.30</td>\n",
       "      <td>18.00</td>\n",
       "      <td>195.00</td>\n",
       "      <td>3250.00</td>\n",
       "      <td>female</td>\n",
       "    </tr>\n",
       "    <tr>\n",
       "      <th>3</th>\n",
       "      <td>Adelie</td>\n",
       "      <td>Torgersen</td>\n",
       "      <td>36.70</td>\n",
       "      <td>19.30</td>\n",
       "      <td>193.00</td>\n",
       "      <td>3450.00</td>\n",
       "      <td>female</td>\n",
       "    </tr>\n",
       "    <tr>\n",
       "      <th>4</th>\n",
       "      <td>Adelie</td>\n",
       "      <td>Torgersen</td>\n",
       "      <td>38.90</td>\n",
       "      <td>17.80</td>\n",
       "      <td>181.00</td>\n",
       "      <td>3625.00</td>\n",
       "      <td>female</td>\n",
       "    </tr>\n",
       "  </tbody>\n",
       "</table>\n",
       "</div>"
      ],
      "text/plain": [
       "  species     island  bill_length_mm  bill_depth_mm  flipper_length_mm  \\\n",
       "0  Adelie  Torgersen           39.10          18.70             181.00   \n",
       "1  Adelie  Torgersen           39.50          17.40             186.00   \n",
       "2  Adelie  Torgersen           40.30          18.00             195.00   \n",
       "3  Adelie  Torgersen           36.70          19.30             193.00   \n",
       "4  Adelie  Torgersen           38.90          17.80             181.00   \n",
       "\n",
       "   body_mass_g     sex  \n",
       "0      3750.00    male  \n",
       "1      3800.00  female  \n",
       "2      3250.00  female  \n",
       "3      3450.00  female  \n",
       "4      3625.00  female  "
      ]
     },
     "execution_count": 15,
     "metadata": {},
     "output_type": "execute_result"
    }
   ],
   "source": [
    "data.drop(index= [4, 272], inplace= True) # drop records inplace\n",
    "data.reset_index(inplace= True, drop = True)\n",
    "data.head()"
   ]
  },
  {
   "cell_type": "code",
   "execution_count": 16,
   "id": "1e4041c2",
   "metadata": {},
   "outputs": [
    {
     "data": {
      "text/plain": [
       "species              0\n",
       "island               0\n",
       "bill_length_mm       0\n",
       "bill_depth_mm        0\n",
       "flipper_length_mm    0\n",
       "body_mass_g          0\n",
       "sex                  9\n",
       "dtype: int64"
      ]
     },
     "execution_count": 16,
     "metadata": {},
     "output_type": "execute_result"
    }
   ],
   "source": [
    "data.isna().sum()"
   ]
  },
  {
   "cell_type": "markdown",
   "id": "00656b43",
   "metadata": {},
   "source": [
    "# EDA"
   ]
  },
  {
   "cell_type": "code",
   "execution_count": 17,
   "id": "76318df1",
   "metadata": {},
   "outputs": [],
   "source": [
    "def bar_plot(variable):\n",
    "    # get feature\n",
    "    var = data[variable]\n",
    "    # count number of categorical variable\n",
    "    varValue = var.value_counts()\n",
    "    # visualize\n",
    "    plt.figure(figsize= (9, 3))\n",
    "    plt.bar(varValue.index, varValue)\n",
    "    plt.xticks(varValue.index, varValue.index.values)\n",
    "    plt.ylabel(\"Frequency\")\n",
    "    plt.title(variable)\n",
    "    plt.show()\n",
    "    print(\"{}: \\n{}\".format(variable, varValue))"
   ]
  },
  {
   "cell_type": "code",
   "execution_count": 18,
   "id": "a77441c9",
   "metadata": {},
   "outputs": [
    {
     "data": {
      "image/png": "[encoded data removed]",
      "text/plain": [
       "<Figure size 648x216 with 1 Axes>"
      ]
     },
     "metadata": {
      "needs_background": "light"
     },
     "output_type": "display_data"
    },
    {
     "name": "stdout",
     "output_type": "stream",
     "text": [
      "species: \n",
      "Adelie       150\n",
      "Gentoo       122\n",
      "Chinstrap     68\n",
      "Name: species, dtype: int64\n"
     ]
    },
    {
     "data": {
      "image/png": "[encoded data removed]",
      "text/plain": [
       "<Figure size 648x216 with 1 Axes>"
      ]
     },
     "metadata": {
      "needs_background": "light"
     },
     "output_type": "display_data"
    },
    {
     "name": "stdout",
     "output_type": "stream",
     "text": [
      "island: \n",
      "Biscoe       166\n",
      "Dream        124\n",
      "Torgersen     50\n",
      "Name: island, dtype: int64\n"
     ]
    },
    {
     "data": {
      "image/png": "[encoded data removed]",
      "text/plain": [
       "<Figure size 648x216 with 1 Axes>"
      ]
     },
     "metadata": {
      "needs_background": "light"
     },
     "output_type": "display_data"
    },
    {
     "name": "stdout",
     "output_type": "stream",
     "text": [
      "sex: \n",
      "male      167\n",
      "female    164\n",
      "Name: sex, dtype: int64\n"
     ]
    }
   ],
   "source": [
    "category1 = [\"species\",\"island\",\"sex\"]    ## bar_plots for categorical variables\n",
    "for c in category1:\n",
    "    bar_plot(c)"
   ]
  },
  {
   "cell_type": "code",
   "execution_count": 19,
   "id": "11bb33ec",
   "metadata": {},
   "outputs": [],
   "source": [
    "def plot_hist(variable):                             ##histograms for the numeric variables.\n",
    "    plt.hist(data[variable], bins = 30)\n",
    "    plt.xlabel(variable)\n",
    "    plt.ylabel(\"Frequency\")\n",
    "    plt.title(\"{} distribution with hist\".format(variable))\n",
    "    plt.show()"
   ]
  },
  {
   "cell_type": "code",
   "execution_count": 20,
   "id": "18d140f2",
   "metadata": {},
   "outputs": [
    {
     "data": {
      "image/png": "[encoded data removed]",
      "text/plain": [
       "<Figure size 432x288 with 1 Axes>"
      ]
     },
     "metadata": {
      "needs_background": "light"
     },
     "output_type": "display_data"
    },
    {
     "data": {
      "image/png": "[encoded data removed]",
      "text/plain": [
       "<Figure size 432x288 with 1 Axes>"
      ]
     },
     "metadata": {
      "needs_background": "light"
     },
     "output_type": "display_data"
    },
    {
     "data": {
      "image/png": "[encoded data removed]",
      "text/plain": [
       "<Figure size 432x288 with 1 Axes>"
      ]
     },
     "metadata": {
      "needs_background": "light"
     },
     "output_type": "display_data"
    },
    {
     "data": {
      "image/png": "[encoded data removed]",
      "text/plain": [
       "<Figure size 432x288 with 1 Axes>"
      ]
     },
     "metadata": {
      "needs_background": "light"
     },
     "output_type": "display_data"
    }
   ],
   "source": [
    "numericVar = [\"bill_length_mm\", \"bill_depth_mm\", \"flipper_length_mm\",\"body_mass_g\"]\n",
    "for n in numericVar:\n",
    "    plot_hist(n)"
   ]
  },
  {
   "cell_type": "code",
   "execution_count": 21,
   "id": "cc56fe49",
   "metadata": {},
   "outputs": [
    {
     "data": {
      "text/html": [
       "<div>\n",
       "<style scoped>\n",
       "    .dataframe tbody tr th:only-of-type {\n",
       "        vertical-align: middle;\n",
       "    }\n",
       "\n",
       "    .dataframe tbody tr th {\n",
       "        vertical-align: top;\n",
       "    }\n",
       "\n",
       "    .dataframe thead th {\n",
       "        text-align: right;\n",
       "    }\n",
       "</style>\n",
       "<table border=\"1\" class=\"dataframe\">\n",
       "  <thead>\n",
       "    <tr style=\"text-align: right;\">\n",
       "      <th></th>\n",
       "      <th>bill_length_mm</th>\n",
       "      <th>bill_depth_mm</th>\n",
       "      <th>flipper_length_mm</th>\n",
       "      <th>body_mass_g</th>\n",
       "    </tr>\n",
       "  </thead>\n",
       "  <tbody>\n",
       "    <tr>\n",
       "      <th>bill_length_mm</th>\n",
       "      <td>1.00</td>\n",
       "      <td>-0.23</td>\n",
       "      <td>0.66</td>\n",
       "      <td>0.59</td>\n",
       "    </tr>\n",
       "    <tr>\n",
       "      <th>bill_depth_mm</th>\n",
       "      <td>-0.23</td>\n",
       "      <td>1.00</td>\n",
       "      <td>-0.58</td>\n",
       "      <td>-0.47</td>\n",
       "    </tr>\n",
       "    <tr>\n",
       "      <th>flipper_length_mm</th>\n",
       "      <td>0.66</td>\n",
       "      <td>-0.58</td>\n",
       "      <td>1.00</td>\n",
       "      <td>0.87</td>\n",
       "    </tr>\n",
       "    <tr>\n",
       "      <th>body_mass_g</th>\n",
       "      <td>0.59</td>\n",
       "      <td>-0.47</td>\n",
       "      <td>0.87</td>\n",
       "      <td>1.00</td>\n",
       "    </tr>\n",
       "  </tbody>\n",
       "</table>\n",
       "</div>"
      ],
      "text/plain": [
       "                   bill_length_mm  bill_depth_mm  flipper_length_mm  \\\n",
       "bill_length_mm               1.00          -0.23               0.66   \n",
       "bill_depth_mm               -0.23           1.00              -0.58   \n",
       "flipper_length_mm            0.66          -0.58               1.00   \n",
       "body_mass_g                  0.59          -0.47               0.87   \n",
       "\n",
       "                   body_mass_g  \n",
       "bill_length_mm            0.59  \n",
       "bill_depth_mm            -0.47  \n",
       "flipper_length_mm         0.87  \n",
       "body_mass_g               1.00  "
      ]
     },
     "execution_count": 21,
     "metadata": {},
     "output_type": "execute_result"
    }
   ],
   "source": [
    "corr=data.corr()\n",
    "corr"
   ]
  },
  {
   "cell_type": "code",
   "execution_count": 22,
   "id": "9008c64e",
   "metadata": {},
   "outputs": [
    {
     "data": {
      "image/png": "[encoded data removed]",
      "text/plain": [
       "<Figure size 432x288 with 2 Axes>"
      ]
     },
     "metadata": {
      "needs_background": "light"
     },
     "output_type": "display_data"
    }
   ],
   "source": [
    "sns.heatmap(corr)\n",
    "plt.show()"
   ]
  },
  {
   "cell_type": "code",
   "execution_count": 23,
   "id": "8c3350a5",
   "metadata": {},
   "outputs": [
    {
     "data": {
      "image/png": "[encoded data removed]",
      "text/plain": [
       "<Figure size 432x288 with 1 Axes>"
      ]
     },
     "metadata": {
      "needs_background": "light"
     },
     "output_type": "display_data"
    }
   ],
   "source": [
    "sns.scatterplot(x='species', y='island', data=data)\n",
    "plt.xlabel(\"species\", c='b')\n",
    "plt.ylabel(\"island\", c= 'r')\n",
    "plt.title('species vs. island', c='g')\n",
    "plt.show()"
   ]
  },
  {
   "cell_type": "code",
   "execution_count": 24,
   "id": "aa70d074",
   "metadata": {},
   "outputs": [
    {
     "data": {
      "image/png": "[encoded data removed]",
      "text/plain": [
       "<Figure size 432x288 with 1 Axes>"
      ]
     },
     "metadata": {
      "needs_background": "light"
     },
     "output_type": "display_data"
    }
   ],
   "source": [
    "sns.scatterplot(x='species', y='body_mass_g', data=data)\n",
    "plt.xlabel(\"species\", c='b')\n",
    "plt.ylabel(\"body_mass_g\", c= 'r')\n",
    "plt.title('species vs. body mass', c='g')\n",
    "plt.show()"
   ]
  },
  {
   "cell_type": "code",
   "execution_count": 25,
   "id": "e5bc3184",
   "metadata": {},
   "outputs": [
    {
     "data": {
      "image/png": "[encoded data removed]",
      "text/plain": [
       "<Figure size 432x288 with 1 Axes>"
      ]
     },
     "metadata": {
      "needs_background": "light"
     },
     "output_type": "display_data"
    }
   ],
   "source": [
    "sns.scatterplot(x=\"bill_length_mm\", y= \"bill_depth_mm\", data=data)\n",
    "plt.xlabel(\"bill_length_mm\", c='b')\n",
    "plt.ylabel(\"bill_depth_mm\", c= 'r')\n",
    "plt.title('bill length vs. bill depth', c='g')\n",
    "plt.show()"
   ]
  },
  {
   "cell_type": "markdown",
   "id": "b7eff20b",
   "metadata": {},
   "source": [
    "Detecting Outliers"
   ]
  },
  {
   "cell_type": "code",
   "execution_count": 26,
   "id": "049a2633",
   "metadata": {},
   "outputs": [],
   "source": [
    "def detect_outliers(data, features):\n",
    "    outlier_indices = []\n",
    "    for c in features:\n",
    "        # 1st quartile Q1\n",
    "        Q1 = np.percentile(data[c], 25)\n",
    "        # Q1 = df[c].quantile(0.25)\n",
    "        # 3st quartile Q3\n",
    "        Q3 = np.percentile(data[c], 75)\n",
    "        # Q3 = df[c].quantile(0.75)\n",
    "        # IQR\n",
    "        IQR = Q3 - Q1\n",
    "        # Outlier step\n",
    "        outlier_step = IQR * 1.5\n",
    "        # detect outlier and their indices\n",
    "        outlier_list_col = data[(data[c] < Q1 - outlier_step) | (data[c] > Q3 + outlier_step)].index\n",
    "        # store indices\n",
    "        outlier_indices.extend(outlier_list_col)\n",
    "    outlier_indices = Counter(outlier_indices)\n",
    "    multiple_outliers = list(i for i, v in outlier_indices.items() if v > 2)\n",
    "    return multiple_outliers"
   ]
  },
  {
   "cell_type": "code",
   "execution_count": 27,
   "id": "3d335b15",
   "metadata": {},
   "outputs": [
    {
     "data": {
      "text/html": [
       "<div>\n",
       "<style scoped>\n",
       "    .dataframe tbody tr th:only-of-type {\n",
       "        vertical-align: middle;\n",
       "    }\n",
       "\n",
       "    .dataframe tbody tr th {\n",
       "        vertical-align: top;\n",
       "    }\n",
       "\n",
       "    .dataframe thead th {\n",
       "        text-align: right;\n",
       "    }\n",
       "</style>\n",
       "<table border=\"1\" class=\"dataframe\">\n",
       "  <thead>\n",
       "    <tr style=\"text-align: right;\">\n",
       "      <th></th>\n",
       "      <th>species</th>\n",
       "      <th>island</th>\n",
       "      <th>bill_length_mm</th>\n",
       "      <th>bill_depth_mm</th>\n",
       "      <th>flipper_length_mm</th>\n",
       "      <th>body_mass_g</th>\n",
       "      <th>sex</th>\n",
       "    </tr>\n",
       "  </thead>\n",
       "  <tbody>\n",
       "  </tbody>\n",
       "</table>\n",
       "</div>"
      ],
      "text/plain": [
       "Empty DataFrame\n",
       "Columns: [species, island, bill_length_mm, bill_depth_mm, flipper_length_mm, body_mass_g, sex]\n",
       "Index: []"
      ]
     },
     "execution_count": 27,
     "metadata": {},
     "output_type": "execute_result"
    }
   ],
   "source": [
    "data.loc[detect_outliers(data, ['bill_length_mm', 'bill_depth_mm', 'flipper_length_mm','body_mass_g'])]"
   ]
  },
  {
   "cell_type": "markdown",
   "id": "d71a63da",
   "metadata": {},
   "source": [
    "As can be seen, there is no outliers in the data"
   ]
  },
  {
   "cell_type": "markdown",
   "id": "1ad8e06e",
   "metadata": {},
   "source": [
    "## Missing Values in Sex Column"
   ]
  },
  {
   "cell_type": "code",
   "execution_count": 28,
   "id": "6db92613",
   "metadata": {},
   "outputs": [],
   "source": [
    "data2 = data.copy()"
   ]
  },
  {
   "cell_type": "code",
   "execution_count": 29,
   "id": "1a331d83",
   "metadata": {},
   "outputs": [],
   "source": [
    "data2[\"Sex\"] = [0 if i == \"male\" else 1 for i in data2.sex]\n",
    "data2.drop(columns= [\"species\", \"island\", \"sex\"], inplace= True)\n",
    "data_array_imp = np.array(data2)"
   ]
  },
  {
   "cell_type": "code",
   "execution_count": 30,
   "id": "699101ba",
   "metadata": {},
   "outputs": [],
   "source": [
    "from sklearn.preprocessing import MinMaxScaler\n",
    "sc = MinMaxScaler()"
   ]
  },
  {
   "cell_type": "code",
   "execution_count": 31,
   "id": "8df840cd",
   "metadata": {},
   "outputs": [],
   "source": [
    "array_norm = sc.fit_transform(data_array_imp)\n",
    "from sklearn.impute import KNNImputer\n",
    "\n",
    "imputer = KNNImputer(n_neighbors= 4)\n",
    "data_array_imp = imputer.fit_transform(array_norm)"
   ]
  },
  {
   "cell_type": "code",
   "execution_count": 32,
   "id": "1c6d6a4b",
   "metadata": {},
   "outputs": [],
   "source": [
    "data_imputed = pd.DataFrame(data_array_imp, columns= ['bill_length_mm','bill_depth_mm','flipper_length_mm','body_mass_g','sex'])"
   ]
  },
  {
   "cell_type": "code",
   "execution_count": 33,
   "id": "d3333d85",
   "metadata": {},
   "outputs": [
    {
     "data": {
      "text/html": [
       "<div>\n",
       "<style scoped>\n",
       "    .dataframe tbody tr th:only-of-type {\n",
       "        vertical-align: middle;\n",
       "    }\n",
       "\n",
       "    .dataframe tbody tr th {\n",
       "        vertical-align: top;\n",
       "    }\n",
       "\n",
       "    .dataframe thead th {\n",
       "        text-align: right;\n",
       "    }\n",
       "</style>\n",
       "<table border=\"1\" class=\"dataframe\">\n",
       "  <thead>\n",
       "    <tr style=\"text-align: right;\">\n",
       "      <th></th>\n",
       "      <th>species</th>\n",
       "      <th>island</th>\n",
       "      <th>bill_length_mm</th>\n",
       "      <th>bill_depth_mm</th>\n",
       "      <th>flipper_length_mm</th>\n",
       "      <th>body_mass_g</th>\n",
       "      <th>sex</th>\n",
       "    </tr>\n",
       "  </thead>\n",
       "  <tbody>\n",
       "    <tr>\n",
       "      <th>0</th>\n",
       "      <td>Adelie</td>\n",
       "      <td>Torgersen</td>\n",
       "      <td>39.10</td>\n",
       "      <td>18.70</td>\n",
       "      <td>181.00</td>\n",
       "      <td>3750.00</td>\n",
       "      <td>0</td>\n",
       "    </tr>\n",
       "    <tr>\n",
       "      <th>1</th>\n",
       "      <td>Adelie</td>\n",
       "      <td>Torgersen</td>\n",
       "      <td>39.50</td>\n",
       "      <td>17.40</td>\n",
       "      <td>186.00</td>\n",
       "      <td>3800.00</td>\n",
       "      <td>1</td>\n",
       "    </tr>\n",
       "    <tr>\n",
       "      <th>2</th>\n",
       "      <td>Adelie</td>\n",
       "      <td>Torgersen</td>\n",
       "      <td>40.30</td>\n",
       "      <td>18.00</td>\n",
       "      <td>195.00</td>\n",
       "      <td>3250.00</td>\n",
       "      <td>1</td>\n",
       "    </tr>\n",
       "    <tr>\n",
       "      <th>3</th>\n",
       "      <td>Adelie</td>\n",
       "      <td>Torgersen</td>\n",
       "      <td>36.70</td>\n",
       "      <td>19.30</td>\n",
       "      <td>193.00</td>\n",
       "      <td>3450.00</td>\n",
       "      <td>1</td>\n",
       "    </tr>\n",
       "    <tr>\n",
       "      <th>4</th>\n",
       "      <td>Adelie</td>\n",
       "      <td>Torgersen</td>\n",
       "      <td>38.90</td>\n",
       "      <td>17.80</td>\n",
       "      <td>181.00</td>\n",
       "      <td>3625.00</td>\n",
       "      <td>1</td>\n",
       "    </tr>\n",
       "  </tbody>\n",
       "</table>\n",
       "</div>"
      ],
      "text/plain": [
       "  species     island  bill_length_mm  bill_depth_mm  flipper_length_mm  \\\n",
       "0  Adelie  Torgersen           39.10          18.70             181.00   \n",
       "1  Adelie  Torgersen           39.50          17.40             186.00   \n",
       "2  Adelie  Torgersen           40.30          18.00             195.00   \n",
       "3  Adelie  Torgersen           36.70          19.30             193.00   \n",
       "4  Adelie  Torgersen           38.90          17.80             181.00   \n",
       "\n",
       "   body_mass_g  sex  \n",
       "0      3750.00    0  \n",
       "1      3800.00    1  \n",
       "2      3250.00    1  \n",
       "3      3450.00    1  \n",
       "4      3625.00    1  "
      ]
     },
     "execution_count": 33,
     "metadata": {},
     "output_type": "execute_result"
    }
   ],
   "source": [
    "data[\"sex\"] = data_imputed[\"sex\"].astype(int)\n",
    "data.head()"
   ]
  },
  {
   "cell_type": "code",
   "execution_count": 34,
   "id": "98f15bda",
   "metadata": {},
   "outputs": [
    {
     "data": {
      "text/plain": [
       "species              0\n",
       "island               0\n",
       "bill_length_mm       0\n",
       "bill_depth_mm        0\n",
       "flipper_length_mm    0\n",
       "body_mass_g          0\n",
       "sex                  0\n",
       "dtype: int64"
      ]
     },
     "execution_count": 34,
     "metadata": {},
     "output_type": "execute_result"
    }
   ],
   "source": [
    "data.isnull().sum()"
   ]
  },
  {
   "cell_type": "code",
   "execution_count": 35,
   "id": "4012af9a",
   "metadata": {},
   "outputs": [
    {
     "data": {
      "text/plain": [
       "{'Biscoe': 0, 'Dream': 1, 'Torgersen': 2}"
      ]
     },
     "execution_count": 35,
     "metadata": {},
     "output_type": "execute_result"
    }
   ],
   "source": [
    "island_map = {\"Biscoe\": 0,\n",
    "               \"Dream\": 1,\n",
    "             \"Torgersen\":2}\n",
    "island_map"
   ]
  },
  {
   "cell_type": "code",
   "execution_count": 36,
   "id": "b2cf7d17",
   "metadata": {},
   "outputs": [],
   "source": [
    "data[\"Island\"] = data[\"island\"].map(island_map)\n",
    "data.drop('island', axis=1, inplace= True)"
   ]
  },
  {
   "cell_type": "code",
   "execution_count": 37,
   "id": "fb8f148a",
   "metadata": {},
   "outputs": [
    {
     "data": {
      "text/html": [
       "<div>\n",
       "<style scoped>\n",
       "    .dataframe tbody tr th:only-of-type {\n",
       "        vertical-align: middle;\n",
       "    }\n",
       "\n",
       "    .dataframe tbody tr th {\n",
       "        vertical-align: top;\n",
       "    }\n",
       "\n",
       "    .dataframe thead th {\n",
       "        text-align: right;\n",
       "    }\n",
       "</style>\n",
       "<table border=\"1\" class=\"dataframe\">\n",
       "  <thead>\n",
       "    <tr style=\"text-align: right;\">\n",
       "      <th></th>\n",
       "      <th>species</th>\n",
       "      <th>bill_length_mm</th>\n",
       "      <th>bill_depth_mm</th>\n",
       "      <th>flipper_length_mm</th>\n",
       "      <th>body_mass_g</th>\n",
       "      <th>sex</th>\n",
       "      <th>Island</th>\n",
       "    </tr>\n",
       "  </thead>\n",
       "  <tbody>\n",
       "    <tr>\n",
       "      <th>0</th>\n",
       "      <td>Adelie</td>\n",
       "      <td>39.10</td>\n",
       "      <td>18.70</td>\n",
       "      <td>181.00</td>\n",
       "      <td>3750.00</td>\n",
       "      <td>0</td>\n",
       "      <td>2</td>\n",
       "    </tr>\n",
       "    <tr>\n",
       "      <th>1</th>\n",
       "      <td>Adelie</td>\n",
       "      <td>39.50</td>\n",
       "      <td>17.40</td>\n",
       "      <td>186.00</td>\n",
       "      <td>3800.00</td>\n",
       "      <td>1</td>\n",
       "      <td>2</td>\n",
       "    </tr>\n",
       "    <tr>\n",
       "      <th>2</th>\n",
       "      <td>Adelie</td>\n",
       "      <td>40.30</td>\n",
       "      <td>18.00</td>\n",
       "      <td>195.00</td>\n",
       "      <td>3250.00</td>\n",
       "      <td>1</td>\n",
       "      <td>2</td>\n",
       "    </tr>\n",
       "    <tr>\n",
       "      <th>3</th>\n",
       "      <td>Adelie</td>\n",
       "      <td>36.70</td>\n",
       "      <td>19.30</td>\n",
       "      <td>193.00</td>\n",
       "      <td>3450.00</td>\n",
       "      <td>1</td>\n",
       "      <td>2</td>\n",
       "    </tr>\n",
       "    <tr>\n",
       "      <th>4</th>\n",
       "      <td>Adelie</td>\n",
       "      <td>38.90</td>\n",
       "      <td>17.80</td>\n",
       "      <td>181.00</td>\n",
       "      <td>3625.00</td>\n",
       "      <td>1</td>\n",
       "      <td>2</td>\n",
       "    </tr>\n",
       "  </tbody>\n",
       "</table>\n",
       "</div>"
      ],
      "text/plain": [
       "  species  bill_length_mm  bill_depth_mm  flipper_length_mm  body_mass_g  sex  \\\n",
       "0  Adelie           39.10          18.70             181.00      3750.00    0   \n",
       "1  Adelie           39.50          17.40             186.00      3800.00    1   \n",
       "2  Adelie           40.30          18.00             195.00      3250.00    1   \n",
       "3  Adelie           36.70          19.30             193.00      3450.00    1   \n",
       "4  Adelie           38.90          17.80             181.00      3625.00    1   \n",
       "\n",
       "   Island  \n",
       "0       2  \n",
       "1       2  \n",
       "2       2  \n",
       "3       2  \n",
       "4       2  "
      ]
     },
     "execution_count": 37,
     "metadata": {},
     "output_type": "execute_result"
    }
   ],
   "source": [
    "data.head()"
   ]
  },
  {
   "cell_type": "markdown",
   "id": "e53d0f18",
   "metadata": {},
   "source": [
    "# Modelling"
   ]
  },
  {
   "cell_type": "markdown",
   "id": "9995e20a",
   "metadata": {},
   "source": [
    "Since we are doing an unsupervised model, we are dropping the species column."
   ]
  },
  {
   "cell_type": "markdown",
   "id": "bad02c50",
   "metadata": {},
   "source": [
    "## Hopkins Test"
   ]
  },
  {
   "cell_type": "code",
   "execution_count": 38,
   "id": "0c7fbd01",
   "metadata": {},
   "outputs": [],
   "source": [
    "data_copy= data.copy()"
   ]
  },
  {
   "cell_type": "code",
   "execution_count": 39,
   "id": "e45362b1",
   "metadata": {
    "tags": []
   },
   "outputs": [],
   "source": [
    "data.drop('species', axis=1, inplace=True)"
   ]
  },
  {
   "cell_type": "code",
   "execution_count": 40,
   "id": "4cf9af27-2b09-410f-a2cc-c32c86c34029",
   "metadata": {},
   "outputs": [],
   "source": [
    "X = data"
   ]
  },
  {
   "cell_type": "code",
   "execution_count": 41,
   "id": "54270370-ff7e-4ef1-ae42-58c02a82eefa",
   "metadata": {},
   "outputs": [],
   "source": [
    "from sklearn.preprocessing import RobustScaler\n",
    "scaler = RobustScaler()\n",
    "X = scaler.fit_transform(X)"
   ]
  },
  {
   "cell_type": "code",
   "execution_count": 42,
   "id": "3ad2476e",
   "metadata": {},
   "outputs": [
    {
     "data": {
      "text/plain": [
       "0.18391291332084422"
      ]
     },
     "execution_count": 42,
     "metadata": {},
     "output_type": "execute_result"
    }
   ],
   "source": [
    "from pyclustertend import hopkins\n",
    "hopkins(X,X.shape[0])"
   ]
  },
  {
   "cell_type": "markdown",
   "id": "5fb918e2",
   "metadata": {},
   "source": [
    "According to the hopkins test, our data is appropriate for clustering "
   ]
  },
  {
   "cell_type": "markdown",
   "id": "bc5c0899-aa0f-47cf-aa4c-3d49223f5b57",
   "metadata": {},
   "source": [
    "# K-Means Clustering"
   ]
  },
  {
   "cell_type": "code",
   "execution_count": 43,
   "id": "bc4cade6",
   "metadata": {},
   "outputs": [],
   "source": [
    "from sklearn.cluster import KMeans"
   ]
  },
  {
   "cell_type": "markdown",
   "id": "fc392311",
   "metadata": {},
   "source": [
    "## Silhouette Analysis"
   ]
  },
  {
   "cell_type": "code",
   "execution_count": 44,
   "id": "fb2ff656",
   "metadata": {},
   "outputs": [],
   "source": [
    "from sklearn.metrics import silhouette_score"
   ]
  },
  {
   "cell_type": "code",
   "execution_count": 45,
   "id": "e647d42b",
   "metadata": {},
   "outputs": [
    {
     "name": "stdout",
     "output_type": "stream",
     "text": [
      "for n_clusters = 2, the silhouette score is 0.46215790201730106\n",
      "for n_clusters = 3, the silhouette score is 0.3877740975040713\n",
      "for n_clusters = 4, the silhouette score is 0.39692401614193934\n",
      "for n_clusters = 5, the silhouette score is 0.4109115139399629\n",
      "for n_clusters = 6, the silhouette score is 0.42565947026248424\n",
      "for n_clusters = 7, the silhouette score is 0.4452588246353639\n",
      "for n_clusters = 8, the silhouette score is 0.4667403710450512\n"
     ]
    }
   ],
   "source": [
    "range_n_clusters = range(2, 9)\n",
    "for num_clusters in range_n_clusters:\n",
    "    # initialize kmeans\n",
    "    kmeans = KMeans(n_clusters= num_clusters, random_state= 42)\n",
    "    kmeans.fit(X)\n",
    "    cluster_labels = kmeans.labels_\n",
    "    # silhouette score\n",
    "    silhouette_avg = silhouette_score(X, cluster_labels)\n",
    "    print(f\"for n_clusters = {num_clusters}, the silhouette score is {silhouette_avg}\")"
   ]
  },
  {
   "cell_type": "code",
   "execution_count": 46,
   "id": "c748d5dd",
   "metadata": {},
   "outputs": [
    {
     "data": {
      "image/png": "[encoded data removed]",
      "text/plain": [
       "<Figure size 576x396 with 1 Axes>"
      ]
     },
     "metadata": {},
     "output_type": "display_data"
    }
   ],
   "source": [
    "from sklearn.cluster import KMeans\n",
    "from yellowbrick.cluster import SilhouetteVisualizer\n",
    "model3 = KMeans(3, random_state= 42)\n",
    "visualizer = SilhouetteVisualizer(model3)\n",
    "visualizer.fit(X)\n",
    "visualizer.poof();"
   ]
  },
  {
   "cell_type": "markdown",
   "id": "2f20ca13",
   "metadata": {},
   "source": [
    "## Elbow Method"
   ]
  },
  {
   "cell_type": "code",
   "execution_count": 47,
   "id": "ce737649",
   "metadata": {},
   "outputs": [],
   "source": [
    "ssd = []\n",
    "K = range(2, 10)\n",
    "for k in K:\n",
    "    model3 = KMeans(n_clusters= k)\n",
    "    model3.fit(X)\n",
    "    ssd.append(model3.inertia_)"
   ]
  },
  {
   "cell_type": "code",
   "execution_count": 48,
   "id": "37e23ddd",
   "metadata": {},
   "outputs": [
    {
     "data": {
      "text/plain": [
       "Text(0.5, 1.0, 'elbow method')"
      ]
     },
     "execution_count": 48,
     "metadata": {},
     "output_type": "execute_result"
    },
    {
     "data": {
      "image/png": "[encoded data removed]",
      "text/plain": [
       "<Figure size 576x396 with 1 Axes>"
      ]
     },
     "metadata": {},
     "output_type": "display_data"
    }
   ],
   "source": [
    "plt.plot(K, ssd, \"bo-\")\n",
    "plt.xlabel(\"Different K values\")\n",
    "plt.ylabel(\"inertia-error\")\n",
    "plt.title(\"elbow method\")"
   ]
  },
  {
   "cell_type": "code",
   "execution_count": 49,
   "id": "24e58993",
   "metadata": {},
   "outputs": [
    {
     "data": {
      "image/png": "[encoded data removed]",
      "text/plain": [
       "<Figure size 576x396 with 1 Axes>"
      ]
     },
     "metadata": {},
     "output_type": "display_data"
    }
   ],
   "source": [
    "wcss = []\n",
    "for k in range(2, 15):\n",
    "    kmeans = KMeans(n_clusters= k)\n",
    "    kmeans.fit(data)\n",
    "    wcss.append(kmeans.inertia_)\n",
    "    \n",
    "plt.plot(range(2, 15),wcss)\n",
    "plt.xlabel(\"number of k (cluster) value\")\n",
    "plt.ylabel(\"wcss\")\n",
    "plt.show()"
   ]
  },
  {
   "cell_type": "code",
   "execution_count": 50,
   "id": "da0c38b5",
   "metadata": {},
   "outputs": [
    {
     "data": {
      "image/png": "[encoded data removed]",
      "text/plain": [
       "<Figure size 576x396 with 2 Axes>"
      ]
     },
     "metadata": {},
     "output_type": "display_data"
    },
    {
     "data": {
      "text/plain": [
       "<AxesSubplot:title={'center':'Distortion Score Elbow for KMeans Clustering'}, xlabel='k', ylabel='distortion score'>"
      ]
     },
     "execution_count": 50,
     "metadata": {},
     "output_type": "execute_result"
    }
   ],
   "source": [
    "from yellowbrick.cluster import KElbowVisualizer\n",
    "model = KMeans(random_state= 42)\n",
    "visualizer = KElbowVisualizer(model,k= (1,15))\n",
    "visualizer.fit(X)\n",
    "visualizer.show()"
   ]
  },
  {
   "cell_type": "code",
   "execution_count": 51,
   "id": "15091c8b",
   "metadata": {},
   "outputs": [
    {
     "data": {
      "text/html": [
       "<div>\n",
       "<style scoped>\n",
       "    .dataframe tbody tr th:only-of-type {\n",
       "        vertical-align: middle;\n",
       "    }\n",
       "\n",
       "    .dataframe tbody tr th {\n",
       "        vertical-align: top;\n",
       "    }\n",
       "\n",
       "    .dataframe thead th {\n",
       "        text-align: right;\n",
       "    }\n",
       "</style>\n",
       "<table border=\"1\" class=\"dataframe\">\n",
       "  <thead>\n",
       "    <tr style=\"text-align: right;\">\n",
       "      <th></th>\n",
       "      <th>bill_length_mm</th>\n",
       "      <th>bill_depth_mm</th>\n",
       "      <th>flipper_length_mm</th>\n",
       "      <th>body_mass_g</th>\n",
       "      <th>sex</th>\n",
       "      <th>Island</th>\n",
       "    </tr>\n",
       "  </thead>\n",
       "  <tbody>\n",
       "    <tr>\n",
       "      <th>0</th>\n",
       "      <td>39.10</td>\n",
       "      <td>18.70</td>\n",
       "      <td>181.00</td>\n",
       "      <td>3750.00</td>\n",
       "      <td>0</td>\n",
       "      <td>2</td>\n",
       "    </tr>\n",
       "    <tr>\n",
       "      <th>1</th>\n",
       "      <td>39.50</td>\n",
       "      <td>17.40</td>\n",
       "      <td>186.00</td>\n",
       "      <td>3800.00</td>\n",
       "      <td>1</td>\n",
       "      <td>2</td>\n",
       "    </tr>\n",
       "    <tr>\n",
       "      <th>2</th>\n",
       "      <td>40.30</td>\n",
       "      <td>18.00</td>\n",
       "      <td>195.00</td>\n",
       "      <td>3250.00</td>\n",
       "      <td>1</td>\n",
       "      <td>2</td>\n",
       "    </tr>\n",
       "    <tr>\n",
       "      <th>3</th>\n",
       "      <td>36.70</td>\n",
       "      <td>19.30</td>\n",
       "      <td>193.00</td>\n",
       "      <td>3450.00</td>\n",
       "      <td>1</td>\n",
       "      <td>2</td>\n",
       "    </tr>\n",
       "    <tr>\n",
       "      <th>4</th>\n",
       "      <td>38.90</td>\n",
       "      <td>17.80</td>\n",
       "      <td>181.00</td>\n",
       "      <td>3625.00</td>\n",
       "      <td>1</td>\n",
       "      <td>2</td>\n",
       "    </tr>\n",
       "    <tr>\n",
       "      <th>...</th>\n",
       "      <td>...</td>\n",
       "      <td>...</td>\n",
       "      <td>...</td>\n",
       "      <td>...</td>\n",
       "      <td>...</td>\n",
       "      <td>...</td>\n",
       "    </tr>\n",
       "    <tr>\n",
       "      <th>335</th>\n",
       "      <td>55.80</td>\n",
       "      <td>19.80</td>\n",
       "      <td>207.00</td>\n",
       "      <td>4000.00</td>\n",
       "      <td>0</td>\n",
       "      <td>1</td>\n",
       "    </tr>\n",
       "    <tr>\n",
       "      <th>336</th>\n",
       "      <td>43.50</td>\n",
       "      <td>18.10</td>\n",
       "      <td>202.00</td>\n",
       "      <td>3400.00</td>\n",
       "      <td>1</td>\n",
       "      <td>1</td>\n",
       "    </tr>\n",
       "    <tr>\n",
       "      <th>337</th>\n",
       "      <td>49.60</td>\n",
       "      <td>18.20</td>\n",
       "      <td>193.00</td>\n",
       "      <td>3775.00</td>\n",
       "      <td>0</td>\n",
       "      <td>1</td>\n",
       "    </tr>\n",
       "    <tr>\n",
       "      <th>338</th>\n",
       "      <td>50.80</td>\n",
       "      <td>19.00</td>\n",
       "      <td>210.00</td>\n",
       "      <td>4100.00</td>\n",
       "      <td>0</td>\n",
       "      <td>1</td>\n",
       "    </tr>\n",
       "    <tr>\n",
       "      <th>339</th>\n",
       "      <td>50.20</td>\n",
       "      <td>18.70</td>\n",
       "      <td>198.00</td>\n",
       "      <td>3775.00</td>\n",
       "      <td>1</td>\n",
       "      <td>1</td>\n",
       "    </tr>\n",
       "  </tbody>\n",
       "</table>\n",
       "<p>340 rows × 6 columns</p>\n",
       "</div>"
      ],
      "text/plain": [
       "     bill_length_mm  bill_depth_mm  flipper_length_mm  body_mass_g  sex  \\\n",
       "0             39.10          18.70             181.00      3750.00    0   \n",
       "1             39.50          17.40             186.00      3800.00    1   \n",
       "2             40.30          18.00             195.00      3250.00    1   \n",
       "3             36.70          19.30             193.00      3450.00    1   \n",
       "4             38.90          17.80             181.00      3625.00    1   \n",
       "..              ...            ...                ...          ...  ...   \n",
       "335           55.80          19.80             207.00      4000.00    0   \n",
       "336           43.50          18.10             202.00      3400.00    1   \n",
       "337           49.60          18.20             193.00      3775.00    0   \n",
       "338           50.80          19.00             210.00      4100.00    0   \n",
       "339           50.20          18.70             198.00      3775.00    1   \n",
       "\n",
       "     Island  \n",
       "0         2  \n",
       "1         2  \n",
       "2         2  \n",
       "3         2  \n",
       "4         2  \n",
       "..      ...  \n",
       "335       1  \n",
       "336       1  \n",
       "337       1  \n",
       "338       1  \n",
       "339       1  \n",
       "\n",
       "[340 rows x 6 columns]"
      ]
     },
     "execution_count": 51,
     "metadata": {},
     "output_type": "execute_result"
    }
   ],
   "source": [
    "data"
   ]
  },
  {
   "cell_type": "code",
   "execution_count": 52,
   "id": "e9e1e54c",
   "metadata": {},
   "outputs": [
    {
     "data": {
      "image/png": "[encoded data removed]",
      "text/plain": [
       "<Figure size 576x396 with 1 Axes>"
      ]
     },
     "metadata": {},
     "output_type": "display_data"
    }
   ],
   "source": [
    "kmeans = KMeans(n_clusters= 3)\n",
    "clusters = kmeans.fit_predict(data)\n",
    "data[\"label\"] = clusters\n",
    "plt.scatter(data.iloc[:,0][data.label == 0], data.iloc[:,2][data.label == 0], color = \"red\")\n",
    "plt.scatter(data.iloc[:,0][data.label == 1], data.iloc[:,2][data.label == 1], color = \"green\")\n",
    "plt.scatter(data.iloc[:,0][data.label == 2], data.iloc[:,2][data.label == 2], color = \"blue\")\n",
    "plt.scatter(kmeans.cluster_centers_[:, 0], kmeans.cluster_centers_[:, 2], color= \"yellow\", s= 200, alpha= 0.5)\n",
    "plt.show()\n"
   ]
  },
  {
   "cell_type": "code",
   "execution_count": 53,
   "id": "18ab3d98",
   "metadata": {},
   "outputs": [
    {
     "data": {
      "text/plain": [
       "array([[4.11890244e+01, 1.80170732e+01, 1.89951220e+02, 3.51737805e+03,\n",
       "        6.76829268e-01, 1.01219512e+00],\n",
       "       [4.89898551e+01, 1.55420290e+01, 2.20739130e+02, 5.43876812e+03,\n",
       "        1.44927536e-01, 1.11022302e-16],\n",
       "       [4.48738318e+01, 1.68514019e+01, 2.04934579e+02, 4.44883178e+03,\n",
       "        4.85981308e-01, 5.42056075e-01]])"
      ]
     },
     "execution_count": 53,
     "metadata": {},
     "output_type": "execute_result"
    }
   ],
   "source": [
    "centers = kmeans.cluster_centers_\n",
    "centers"
   ]
  },
  {
   "cell_type": "markdown",
   "id": "6471387d",
   "metadata": {},
   "source": [
    "# Hierarchical Clustering\n"
   ]
  },
  {
   "cell_type": "code",
   "execution_count": 54,
   "id": "dd5d0c8b",
   "metadata": {},
   "outputs": [],
   "source": [
    "from scipy.cluster.hierarchy import linkage, dendrogram"
   ]
  },
  {
   "cell_type": "code",
   "execution_count": 55,
   "id": "2fde80b9",
   "metadata": {},
   "outputs": [
    {
     "data": {
      "image/png": "[encoded data removed]",
      "text/plain": [
       "<Figure size 576x396 with 1 Axes>"
      ]
     },
     "metadata": {},
     "output_type": "display_data"
    }
   ],
   "source": [
    "merg = linkage(data, method = \"ward\")\n",
    "dendrogram(merg, leaf_rotation= 90)\n",
    "plt.xlabel(\"data points\")\n",
    "plt.ylabel(\"euclidean distance\")\n",
    "plt.show()"
   ]
  },
  {
   "cell_type": "code",
   "execution_count": 56,
   "id": "3a9ee42c",
   "metadata": {},
   "outputs": [
    {
     "data": {
      "image/png": "[encoded data removed]",
      "text/plain": [
       "<Figure size 576x396 with 1 Axes>"
      ]
     },
     "metadata": {},
     "output_type": "display_data"
    }
   ],
   "source": [
    "from sklearn.cluster import AgglomerativeClustering\n",
    "\n",
    "hierarchical_cluster = AgglomerativeClustering(n_clusters = 3, affinity= \"euclidean\", linkage= \"ward\")\n",
    "cluster = hierarchical_cluster.fit_predict(data)\n",
    "\n",
    "data[\"label\"] = cluster\n",
    "\n",
    "plt.scatter(data.iloc[:,0][data.label == 0], data.iloc[:,2][data.label == 0], color = \"red\")\n",
    "plt.scatter(data.iloc[:,0][data.label == 1], data.iloc[:,2][data.label == 1], color = \"green\")\n",
    "plt.scatter(data.iloc[:,0][data.label == 2], data.iloc[:,2][data.label == 2], color = \"blue\")\n",
    "plt.show()"
   ]
  },
  {
   "cell_type": "code",
   "execution_count": 57,
   "id": "e46766c0",
   "metadata": {},
   "outputs": [],
   "source": [
    "data.drop('label',axis=1, inplace=True)"
   ]
  },
  {
   "cell_type": "markdown",
   "id": "77a1ed2a",
   "metadata": {},
   "source": [
    "# Evaluating the model"
   ]
  },
  {
   "cell_type": "code",
   "execution_count": 58,
   "id": "b0dbbb8e",
   "metadata": {},
   "outputs": [],
   "source": [
    "data[\"predicted_clusters\"] = cluster"
   ]
  },
  {
   "cell_type": "code",
   "execution_count": 59,
   "id": "1b65e6a9",
   "metadata": {
    "tags": []
   },
   "outputs": [],
   "source": [
    "species_map = {\"Chinstrap\": 0,\n",
    "               \"Gentoo\": 1,\n",
    "               \"Adelie\":2}\n",
    "data_copy[\"Species\"] = data_copy[\"species\"].map(species_map)\n"
   ]
  },
  {
   "cell_type": "code",
   "execution_count": 60,
   "id": "115f09cd",
   "metadata": {},
   "outputs": [],
   "source": [
    "data['species']= data_copy.Species"
   ]
  },
  {
   "cell_type": "code",
   "execution_count": 61,
   "id": "88270176",
   "metadata": {},
   "outputs": [
    {
     "data": {
      "text/html": [
       "<div>\n",
       "<style scoped>\n",
       "    .dataframe tbody tr th:only-of-type {\n",
       "        vertical-align: middle;\n",
       "    }\n",
       "\n",
       "    .dataframe tbody tr th {\n",
       "        vertical-align: top;\n",
       "    }\n",
       "\n",
       "    .dataframe thead th {\n",
       "        text-align: right;\n",
       "    }\n",
       "</style>\n",
       "<table border=\"1\" class=\"dataframe\">\n",
       "  <thead>\n",
       "    <tr style=\"text-align: right;\">\n",
       "      <th></th>\n",
       "      <th>bill_length_mm</th>\n",
       "      <th>bill_depth_mm</th>\n",
       "      <th>flipper_length_mm</th>\n",
       "      <th>body_mass_g</th>\n",
       "      <th>sex</th>\n",
       "      <th>Island</th>\n",
       "      <th>predicted_clusters</th>\n",
       "      <th>species</th>\n",
       "    </tr>\n",
       "  </thead>\n",
       "  <tbody>\n",
       "    <tr>\n",
       "      <th>104</th>\n",
       "      <td>38.60</td>\n",
       "      <td>17.20</td>\n",
       "      <td>199.00</td>\n",
       "      <td>3750.00</td>\n",
       "      <td>1</td>\n",
       "      <td>0</td>\n",
       "      <td>0</td>\n",
       "      <td>2</td>\n",
       "    </tr>\n",
       "    <tr>\n",
       "      <th>125</th>\n",
       "      <td>41.50</td>\n",
       "      <td>18.30</td>\n",
       "      <td>195.00</td>\n",
       "      <td>4300.00</td>\n",
       "      <td>0</td>\n",
       "      <td>2</td>\n",
       "      <td>2</td>\n",
       "      <td>2</td>\n",
       "    </tr>\n",
       "    <tr>\n",
       "      <th>212</th>\n",
       "      <td>45.70</td>\n",
       "      <td>13.90</td>\n",
       "      <td>214.00</td>\n",
       "      <td>4400.00</td>\n",
       "      <td>1</td>\n",
       "      <td>0</td>\n",
       "      <td>2</td>\n",
       "      <td>1</td>\n",
       "    </tr>\n",
       "    <tr>\n",
       "      <th>49</th>\n",
       "      <td>40.10</td>\n",
       "      <td>18.90</td>\n",
       "      <td>188.00</td>\n",
       "      <td>4300.00</td>\n",
       "      <td>0</td>\n",
       "      <td>0</td>\n",
       "      <td>2</td>\n",
       "      <td>2</td>\n",
       "    </tr>\n",
       "    <tr>\n",
       "      <th>333</th>\n",
       "      <td>46.80</td>\n",
       "      <td>16.50</td>\n",
       "      <td>189.00</td>\n",
       "      <td>3650.00</td>\n",
       "      <td>1</td>\n",
       "      <td>1</td>\n",
       "      <td>0</td>\n",
       "      <td>0</td>\n",
       "    </tr>\n",
       "    <tr>\n",
       "      <th>88</th>\n",
       "      <td>35.70</td>\n",
       "      <td>18.00</td>\n",
       "      <td>202.00</td>\n",
       "      <td>3550.00</td>\n",
       "      <td>1</td>\n",
       "      <td>1</td>\n",
       "      <td>0</td>\n",
       "      <td>2</td>\n",
       "    </tr>\n",
       "    <tr>\n",
       "      <th>288</th>\n",
       "      <td>50.30</td>\n",
       "      <td>20.00</td>\n",
       "      <td>197.00</td>\n",
       "      <td>3300.00</td>\n",
       "      <td>0</td>\n",
       "      <td>1</td>\n",
       "      <td>0</td>\n",
       "      <td>0</td>\n",
       "    </tr>\n",
       "    <tr>\n",
       "      <th>179</th>\n",
       "      <td>50.00</td>\n",
       "      <td>15.30</td>\n",
       "      <td>220.00</td>\n",
       "      <td>5550.00</td>\n",
       "      <td>0</td>\n",
       "      <td>0</td>\n",
       "      <td>1</td>\n",
       "      <td>1</td>\n",
       "    </tr>\n",
       "    <tr>\n",
       "      <th>8</th>\n",
       "      <td>37.80</td>\n",
       "      <td>17.10</td>\n",
       "      <td>186.00</td>\n",
       "      <td>3300.00</td>\n",
       "      <td>1</td>\n",
       "      <td>2</td>\n",
       "      <td>0</td>\n",
       "      <td>2</td>\n",
       "    </tr>\n",
       "    <tr>\n",
       "      <th>80</th>\n",
       "      <td>36.70</td>\n",
       "      <td>18.80</td>\n",
       "      <td>187.00</td>\n",
       "      <td>3800.00</td>\n",
       "      <td>1</td>\n",
       "      <td>2</td>\n",
       "      <td>0</td>\n",
       "      <td>2</td>\n",
       "    </tr>\n",
       "  </tbody>\n",
       "</table>\n",
       "</div>"
      ],
      "text/plain": [
       "     bill_length_mm  bill_depth_mm  flipper_length_mm  body_mass_g  sex  \\\n",
       "104           38.60          17.20             199.00      3750.00    1   \n",
       "125           41.50          18.30             195.00      4300.00    0   \n",
       "212           45.70          13.90             214.00      4400.00    1   \n",
       "49            40.10          18.90             188.00      4300.00    0   \n",
       "333           46.80          16.50             189.00      3650.00    1   \n",
       "88            35.70          18.00             202.00      3550.00    1   \n",
       "288           50.30          20.00             197.00      3300.00    0   \n",
       "179           50.00          15.30             220.00      5550.00    0   \n",
       "8             37.80          17.10             186.00      3300.00    1   \n",
       "80            36.70          18.80             187.00      3800.00    1   \n",
       "\n",
       "     Island  predicted_clusters  species  \n",
       "104       0                   0        2  \n",
       "125       2                   2        2  \n",
       "212       0                   2        1  \n",
       "49        0                   2        2  \n",
       "333       1                   0        0  \n",
       "88        1                   0        2  \n",
       "288       1                   0        0  \n",
       "179       0                   1        1  \n",
       "8         2                   0        2  \n",
       "80        2                   0        2  "
      ]
     },
     "execution_count": 61,
     "metadata": {},
     "output_type": "execute_result"
    }
   ],
   "source": [
    "data.sample(10)"
   ]
  },
  {
   "cell_type": "code",
   "execution_count": 62,
   "id": "bfab0ba5",
   "metadata": {},
   "outputs": [
    {
     "data": {
      "text/html": [
       "<div>\n",
       "<style scoped>\n",
       "    .dataframe tbody tr th:only-of-type {\n",
       "        vertical-align: middle;\n",
       "    }\n",
       "\n",
       "    .dataframe tbody tr th {\n",
       "        vertical-align: top;\n",
       "    }\n",
       "\n",
       "    .dataframe thead th {\n",
       "        text-align: right;\n",
       "    }\n",
       "</style>\n",
       "<table border=\"1\" class=\"dataframe\">\n",
       "  <thead>\n",
       "    <tr style=\"text-align: right;\">\n",
       "      <th>species</th>\n",
       "      <th>0</th>\n",
       "      <th>1</th>\n",
       "      <th>2</th>\n",
       "    </tr>\n",
       "    <tr>\n",
       "      <th>predicted_clusters</th>\n",
       "      <th></th>\n",
       "      <th></th>\n",
       "      <th></th>\n",
       "    </tr>\n",
       "  </thead>\n",
       "  <tbody>\n",
       "    <tr>\n",
       "      <th>0</th>\n",
       "      <td>61</td>\n",
       "      <td>6</td>\n",
       "      <td>125</td>\n",
       "    </tr>\n",
       "    <tr>\n",
       "      <th>1</th>\n",
       "      <td>0</td>\n",
       "      <td>80</td>\n",
       "      <td>0</td>\n",
       "    </tr>\n",
       "    <tr>\n",
       "      <th>2</th>\n",
       "      <td>7</td>\n",
       "      <td>36</td>\n",
       "      <td>25</td>\n",
       "    </tr>\n",
       "  </tbody>\n",
       "</table>\n",
       "</div>"
      ],
      "text/plain": [
       "species              0   1    2\n",
       "predicted_clusters             \n",
       "0                   61   6  125\n",
       "1                    0  80    0\n",
       "2                    7  36   25"
      ]
     },
     "execution_count": 62,
     "metadata": {},
     "output_type": "execute_result"
    }
   ],
   "source": [
    "ct = pd.crosstab(data.predicted_clusters, data.species)\n",
    "ct"
   ]
  },
  {
   "cell_type": "code",
   "execution_count": 63,
   "id": "e118feef",
   "metadata": {},
   "outputs": [],
   "source": [
    "df_end = data"
   ]
  },
  {
   "cell_type": "code",
   "execution_count": 64,
   "id": "17c3fa1d",
   "metadata": {},
   "outputs": [],
   "source": [
    "from sklearn.metrics import adjusted_rand_score"
   ]
  },
  {
   "cell_type": "code",
   "execution_count": 65,
   "id": "98a19c48",
   "metadata": {},
   "outputs": [
    {
     "data": {
      "text/plain": [
       "0.3728385039700761"
      ]
     },
     "execution_count": 65,
     "metadata": {},
     "output_type": "execute_result"
    }
   ],
   "source": [
    "adjusted_rand_score(df_end.species, df_end.predicted_clusters)"
   ]
  },
  {
   "cell_type": "code",
   "execution_count": 66,
   "id": "d8f927eb",
   "metadata": {},
   "outputs": [
    {
     "data": {
      "text/plain": [
       "<matplotlib.collections.PathCollection at 0x24f110bf9d0>"
      ]
     },
     "execution_count": 66,
     "metadata": {},
     "output_type": "execute_result"
    },
    {
     "data": {
      "image/png": "[encoded data removed]",
      "text/plain": [
       "<Figure size 576x396 with 1 Axes>"
      ]
     },
     "metadata": {},
     "output_type": "display_data"
    }
   ],
   "source": [
    "plt.scatter(data.iloc[:,0], data.iloc[:,1], c = data.predicted_clusters, cmap = \"viridis\")"
   ]
  },
  {
   "cell_type": "code",
   "execution_count": 67,
   "id": "55680ad2",
   "metadata": {},
   "outputs": [
    {
     "data": {
      "text/plain": [
       "<matplotlib.collections.PathCollection at 0x24f1115f4c0>"
      ]
     },
     "execution_count": 67,
     "metadata": {},
     "output_type": "execute_result"
    },
    {
     "data": {
      "image/png": "[encoded data removed]",
      "text/plain": [
       "<Figure size 576x396 with 1 Axes>"
      ]
     },
     "metadata": {},
     "output_type": "display_data"
    }
   ],
   "source": [
    "plt.scatter(data.iloc[:, 1], data.iloc[:, 2], c = data.predicted_clusters, cmap= \"viridis\")"
   ]
  },
  {
   "cell_type": "markdown",
   "id": "9773ffa7",
   "metadata": {},
   "source": [
    "# Supervised Method- SVM"
   ]
  },
  {
   "cell_type": "code",
   "execution_count": 68,
   "id": "261aec85",
   "metadata": {},
   "outputs": [],
   "source": [
    "df= data.drop('species', axis=1)"
   ]
  },
  {
   "cell_type": "code",
   "execution_count": 69,
   "id": "6eb37631",
   "metadata": {},
   "outputs": [],
   "source": [
    "X = df.drop(\"predicted_clusters\", axis= 1)\n",
    "y = df[\"predicted_clusters\"]"
   ]
  },
  {
   "cell_type": "code",
   "execution_count": 70,
   "id": "d30b30f5",
   "metadata": {},
   "outputs": [],
   "source": [
    "from sklearn.preprocessing import StandardScaler"
   ]
  },
  {
   "cell_type": "code",
   "execution_count": 71,
   "id": "37e1dbb3",
   "metadata": {},
   "outputs": [],
   "source": [
    "scaler = StandardScaler()\n",
    "X = scaler.fit_transform(X)"
   ]
  },
  {
   "cell_type": "code",
   "execution_count": 72,
   "id": "0ebe1844",
   "metadata": {},
   "outputs": [],
   "source": [
    "from sklearn.model_selection import train_test_split"
   ]
  },
  {
   "cell_type": "code",
   "execution_count": 73,
   "id": "1046aaf9-88bf-4f5b-a1d0-7a373e8bae05",
   "metadata": {},
   "outputs": [],
   "source": [
    "X_train, X_test, y_train, y_test = train_test_split(X, y, test_size = 0.30, random_state= 101)"
   ]
  },
  {
   "cell_type": "code",
   "execution_count": 74,
   "id": "5c5c4b02-37ef-4203-bb13-8098c99a9ae9",
   "metadata": {},
   "outputs": [
    {
     "name": "stdout",
     "output_type": "stream",
     "text": [
      "X_train : (238, 6)\n",
      "X_test : (102, 6)\n",
      "y_train : (238,)\n",
      "y_test : (102,)\n"
     ]
    }
   ],
   "source": [
    "print(\"X_train : {}\\nX_test : {}\\ny_train : {}\\ny_test : {}\".format(X_train.shape, X_test.shape, y_train.shape, y_test.shape))"
   ]
  },
  {
   "cell_type": "code",
   "execution_count": 75,
   "id": "d6429246",
   "metadata": {},
   "outputs": [],
   "source": [
    "from sklearn.model_selection import GridSearchCV"
   ]
  },
  {
   "cell_type": "code",
   "execution_count": 76,
   "id": "0cdade74",
   "metadata": {},
   "outputs": [],
   "source": [
    "param_grid = {'C':[1, 10, 20, 30,50, 70, 100, 1000],\n",
    "             'kernel':['linear','rbf','poly','sigmoid'],\n",
    "            'gamma': [1e-3, 1e-4]}"
   ]
  },
  {
   "cell_type": "code",
   "execution_count": 77,
   "id": "cc09fe4a",
   "metadata": {},
   "outputs": [],
   "source": [
    "from sklearn.svm import SVC"
   ]
  },
  {
   "cell_type": "code",
   "execution_count": 78,
   "id": "55f8bad4",
   "metadata": {},
   "outputs": [],
   "source": [
    "svc_model = SVC()"
   ]
  },
  {
   "cell_type": "code",
   "execution_count": 79,
   "id": "ed64a05b",
   "metadata": {},
   "outputs": [],
   "source": [
    "svc_grid_model = GridSearchCV(estimator=svc_model, param_grid=param_grid, verbose = 3, cv=5)"
   ]
  },
  {
   "cell_type": "code",
   "execution_count": 80,
   "id": "aad762fb",
   "metadata": {
    "tags": []
   },
   "outputs": [
    {
     "name": "stdout",
     "output_type": "stream",
     "text": [
      "Fitting 5 folds for each of 64 candidates, totalling 320 fits\n",
      "[CV 1/5] END ................C=1, gamma=0.001, kernel=linear; total time=   0.0s\n",
      "[CV 2/5] END ................C=1, gamma=0.001, kernel=linear; total time=   0.0s\n",
      "[CV 3/5] END ................C=1, gamma=0.001, kernel=linear; total time=   0.0s\n",
      "[CV 4/5] END ................C=1, gamma=0.001, kernel=linear; total time=   0.0s\n",
      "[CV 5/5] END ................C=1, gamma=0.001, kernel=linear; total time=   0.0s\n",
      "[CV 1/5] END ...................C=1, gamma=0.001, kernel=rbf; total time=   0.0s\n",
      "[CV 2/5] END ...................C=1, gamma=0.001, kernel=rbf; total time=   0.0s\n",
      "[CV 3/5] END ...................C=1, gamma=0.001, kernel=rbf; total time=   0.0s\n",
      "[CV 4/5] END ...................C=1, gamma=0.001, kernel=rbf; total time=   0.0s\n",
      "[CV 5/5] END ...................C=1, gamma=0.001, kernel=rbf; total time=   0.0s\n",
      "[CV 1/5] END ..................C=1, gamma=0.001, kernel=poly; total time=   0.0s\n",
      "[CV 2/5] END ..................C=1, gamma=0.001, kernel=poly; total time=   0.0s\n",
      "[CV 3/5] END ..................C=1, gamma=0.001, kernel=poly; total time=   0.0s\n",
      "[CV 4/5] END ..................C=1, gamma=0.001, kernel=poly; total time=   0.0s\n",
      "[CV 5/5] END ..................C=1, gamma=0.001, kernel=poly; total time=   0.0s\n",
      "[CV 1/5] END ...............C=1, gamma=0.001, kernel=sigmoid; total time=   0.0s\n",
      "[CV 2/5] END ...............C=1, gamma=0.001, kernel=sigmoid; total time=   0.0s\n",
      "[CV 3/5] END ...............C=1, gamma=0.001, kernel=sigmoid; total time=   0.0s\n",
      "[CV 4/5] END ...............C=1, gamma=0.001, kernel=sigmoid; total time=   0.0s\n",
      "[CV 5/5] END ...............C=1, gamma=0.001, kernel=sigmoid; total time=   0.0s\n",
      "[CV 1/5] END ...............C=1, gamma=0.0001, kernel=linear; total time=   0.0s\n",
      "[CV 2/5] END ...............C=1, gamma=0.0001, kernel=linear; total time=   0.0s\n",
      "[CV 3/5] END ...............C=1, gamma=0.0001, kernel=linear; total time=   0.0s\n",
      "[CV 4/5] END ...............C=1, gamma=0.0001, kernel=linear; total time=   0.0s\n",
      "[CV 5/5] END ...............C=1, gamma=0.0001, kernel=linear; total time=   0.0s\n",
      "[CV 1/5] END ..................C=1, gamma=0.0001, kernel=rbf; total time=   0.0s\n",
      "[CV 2/5] END ..................C=1, gamma=0.0001, kernel=rbf; total time=   0.0s\n",
      "[CV 3/5] END ..................C=1, gamma=0.0001, kernel=rbf; total time=   0.0s\n",
      "[CV 4/5] END ..................C=1, gamma=0.0001, kernel=rbf; total time=   0.0s\n",
      "[CV 5/5] END ..................C=1, gamma=0.0001, kernel=rbf; total time=   0.0s\n",
      "[CV 1/5] END .................C=1, gamma=0.0001, kernel=poly; total time=   0.0s\n",
      "[CV 2/5] END .................C=1, gamma=0.0001, kernel=poly; total time=   0.0s\n",
      "[CV 3/5] END .................C=1, gamma=0.0001, kernel=poly; total time=   0.0s\n",
      "[CV 4/5] END .................C=1, gamma=0.0001, kernel=poly; total time=   0.0s\n",
      "[CV 5/5] END .................C=1, gamma=0.0001, kernel=poly; total time=   0.0s\n",
      "[CV 1/5] END ..............C=1, gamma=0.0001, kernel=sigmoid; total time=   0.0s\n",
      "[CV 2/5] END ..............C=1, gamma=0.0001, kernel=sigmoid; total time=   0.0s\n",
      "[CV 3/5] END ..............C=1, gamma=0.0001, kernel=sigmoid; total time=   0.0s\n",
      "[CV 4/5] END ..............C=1, gamma=0.0001, kernel=sigmoid; total time=   0.0s\n",
      "[CV 5/5] END ..............C=1, gamma=0.0001, kernel=sigmoid; total time=   0.0s\n",
      "[CV 1/5] END ...............C=10, gamma=0.001, kernel=linear; total time=   0.0s\n",
      "[CV 2/5] END ...............C=10, gamma=0.001, kernel=linear; total time=   0.0s\n",
      "[CV 3/5] END ...............C=10, gamma=0.001, kernel=linear; total time=   0.0s\n",
      "[CV 4/5] END ...............C=10, gamma=0.001, kernel=linear; total time=   0.0s\n",
      "[CV 5/5] END ...............C=10, gamma=0.001, kernel=linear; total time=   0.0s\n",
      "[CV 1/5] END ..................C=10, gamma=0.001, kernel=rbf; total time=   0.0s\n",
      "[CV 2/5] END ..................C=10, gamma=0.001, kernel=rbf; total time=   0.0s\n",
      "[CV 3/5] END ..................C=10, gamma=0.001, kernel=rbf; total time=   0.0s\n",
      "[CV 4/5] END ..................C=10, gamma=0.001, kernel=rbf; total time=   0.0s\n",
      "[CV 5/5] END ..................C=10, gamma=0.001, kernel=rbf; total time=   0.0s\n",
      "[CV 1/5] END .................C=10, gamma=0.001, kernel=poly; total time=   0.0s\n",
      "[CV 2/5] END .................C=10, gamma=0.001, kernel=poly; total time=   0.0s\n",
      "[CV 3/5] END .................C=10, gamma=0.001, kernel=poly; total time=   0.0s\n",
      "[CV 4/5] END .................C=10, gamma=0.001, kernel=poly; total time=   0.0s\n",
      "[CV 5/5] END .................C=10, gamma=0.001, kernel=poly; total time=   0.0s\n",
      "[CV 1/5] END ..............C=10, gamma=0.001, kernel=sigmoid; total time=   0.0s\n",
      "[CV 2/5] END ..............C=10, gamma=0.001, kernel=sigmoid; total time=   0.0s\n",
      "[CV 3/5] END ..............C=10, gamma=0.001, kernel=sigmoid; total time=   0.0s\n",
      "[CV 4/5] END ..............C=10, gamma=0.001, kernel=sigmoid; total time=   0.0s\n",
      "[CV 5/5] END ..............C=10, gamma=0.001, kernel=sigmoid; total time=   0.0s\n",
      "[CV 1/5] END ..............C=10, gamma=0.0001, kernel=linear; total time=   0.0s\n",
      "[CV 2/5] END ..............C=10, gamma=0.0001, kernel=linear; total time=   0.0s\n",
      "[CV 3/5] END ..............C=10, gamma=0.0001, kernel=linear; total time=   0.0s\n",
      "[CV 4/5] END ..............C=10, gamma=0.0001, kernel=linear; total time=   0.0s\n",
      "[CV 5/5] END ..............C=10, gamma=0.0001, kernel=linear; total time=   0.0s\n",
      "[CV 1/5] END .................C=10, gamma=0.0001, kernel=rbf; total time=   0.0s\n",
      "[CV 2/5] END .................C=10, gamma=0.0001, kernel=rbf; total time=   0.0s\n",
      "[CV 3/5] END .................C=10, gamma=0.0001, kernel=rbf; total time=   0.0s\n",
      "[CV 4/5] END .................C=10, gamma=0.0001, kernel=rbf; total time=   0.0s\n",
      "[CV 5/5] END .................C=10, gamma=0.0001, kernel=rbf; total time=   0.0s\n",
      "[CV 1/5] END ................C=10, gamma=0.0001, kernel=poly; total time=   0.0s\n",
      "[CV 2/5] END ................C=10, gamma=0.0001, kernel=poly; total time=   0.0s\n",
      "[CV 3/5] END ................C=10, gamma=0.0001, kernel=poly; total time=   0.0s\n",
      "[CV 4/5] END ................C=10, gamma=0.0001, kernel=poly; total time=   0.0s\n",
      "[CV 5/5] END ................C=10, gamma=0.0001, kernel=poly; total time=   0.0s\n",
      "[CV 1/5] END .............C=10, gamma=0.0001, kernel=sigmoid; total time=   0.0s\n",
      "[CV 2/5] END .............C=10, gamma=0.0001, kernel=sigmoid; total time=   0.0s\n",
      "[CV 3/5] END .............C=10, gamma=0.0001, kernel=sigmoid; total time=   0.0s\n",
      "[CV 4/5] END .............C=10, gamma=0.0001, kernel=sigmoid; total time=   0.0s\n",
      "[CV 5/5] END .............C=10, gamma=0.0001, kernel=sigmoid; total time=   0.0s\n",
      "[CV 1/5] END ...............C=20, gamma=0.001, kernel=linear; total time=   0.0s\n",
      "[CV 2/5] END ...............C=20, gamma=0.001, kernel=linear; total time=   0.0s\n",
      "[CV 3/5] END ...............C=20, gamma=0.001, kernel=linear; total time=   0.0s\n",
      "[CV 4/5] END ...............C=20, gamma=0.001, kernel=linear; total time=   0.0s\n",
      "[CV 5/5] END ...............C=20, gamma=0.001, kernel=linear; total time=   0.0s\n",
      "[CV 1/5] END ..................C=20, gamma=0.001, kernel=rbf; total time=   0.0s\n",
      "[CV 2/5] END ..................C=20, gamma=0.001, kernel=rbf; total time=   0.0s\n",
      "[CV 3/5] END ..................C=20, gamma=0.001, kernel=rbf; total time=   0.0s\n",
      "[CV 4/5] END ..................C=20, gamma=0.001, kernel=rbf; total time=   0.0s\n",
      "[CV 5/5] END ..................C=20, gamma=0.001, kernel=rbf; total time=   0.0s\n",
      "[CV 1/5] END .................C=20, gamma=0.001, kernel=poly; total time=   0.0s\n",
      "[CV 2/5] END .................C=20, gamma=0.001, kernel=poly; total time=   0.0s\n",
      "[CV 3/5] END .................C=20, gamma=0.001, kernel=poly; total time=   0.0s\n",
      "[CV 4/5] END .................C=20, gamma=0.001, kernel=poly; total time=   0.0s\n",
      "[CV 5/5] END .................C=20, gamma=0.001, kernel=poly; total time=   0.0s\n",
      "[CV 1/5] END ..............C=20, gamma=0.001, kernel=sigmoid; total time=   0.0s\n",
      "[CV 2/5] END ..............C=20, gamma=0.001, kernel=sigmoid; total time=   0.0s\n",
      "[CV 3/5] END ..............C=20, gamma=0.001, kernel=sigmoid; total time=   0.0s\n",
      "[CV 4/5] END ..............C=20, gamma=0.001, kernel=sigmoid; total time=   0.0s\n",
      "[CV 5/5] END ..............C=20, gamma=0.001, kernel=sigmoid; total time=   0.0s\n",
      "[CV 1/5] END ..............C=20, gamma=0.0001, kernel=linear; total time=   0.0s\n",
      "[CV 2/5] END ..............C=20, gamma=0.0001, kernel=linear; total time=   0.0s\n",
      "[CV 3/5] END ..............C=20, gamma=0.0001, kernel=linear; total time=   0.0s\n",
      "[CV 4/5] END ..............C=20, gamma=0.0001, kernel=linear; total time=   0.0s\n",
      "[CV 5/5] END ..............C=20, gamma=0.0001, kernel=linear; total time=   0.0s\n",
      "[CV 1/5] END .................C=20, gamma=0.0001, kernel=rbf; total time=   0.0s\n",
      "[CV 2/5] END .................C=20, gamma=0.0001, kernel=rbf; total time=   0.0s\n",
      "[CV 3/5] END .................C=20, gamma=0.0001, kernel=rbf; total time=   0.0s\n",
      "[CV 4/5] END .................C=20, gamma=0.0001, kernel=rbf; total time=   0.0s\n",
      "[CV 5/5] END .................C=20, gamma=0.0001, kernel=rbf; total time=   0.0s\n",
      "[CV 1/5] END ................C=20, gamma=0.0001, kernel=poly; total time=   0.0s\n",
      "[CV 2/5] END ................C=20, gamma=0.0001, kernel=poly; total time=   0.0s\n",
      "[CV 3/5] END ................C=20, gamma=0.0001, kernel=poly; total time=   0.0s\n",
      "[CV 4/5] END ................C=20, gamma=0.0001, kernel=poly; total time=   0.0s\n",
      "[CV 5/5] END ................C=20, gamma=0.0001, kernel=poly; total time=   0.0s\n",
      "[CV 1/5] END .............C=20, gamma=0.0001, kernel=sigmoid; total time=   0.0s\n",
      "[CV 2/5] END .............C=20, gamma=0.0001, kernel=sigmoid; total time=   0.0s\n",
      "[CV 3/5] END .............C=20, gamma=0.0001, kernel=sigmoid; total time=   0.0s\n",
      "[CV 4/5] END .............C=20, gamma=0.0001, kernel=sigmoid; total time=   0.0s\n",
      "[CV 5/5] END .............C=20, gamma=0.0001, kernel=sigmoid; total time=   0.0s\n",
      "[CV 1/5] END ...............C=30, gamma=0.001, kernel=linear; total time=   0.0s\n",
      "[CV 2/5] END ...............C=30, gamma=0.001, kernel=linear; total time=   0.0s\n",
      "[CV 3/5] END ...............C=30, gamma=0.001, kernel=linear; total time=   0.0s\n",
      "[CV 4/5] END ...............C=30, gamma=0.001, kernel=linear; total time=   0.0s\n",
      "[CV 5/5] END ...............C=30, gamma=0.001, kernel=linear; total time=   0.0s\n",
      "[CV 1/5] END ..................C=30, gamma=0.001, kernel=rbf; total time=   0.0s\n",
      "[CV 2/5] END ..................C=30, gamma=0.001, kernel=rbf; total time=   0.0s\n",
      "[CV 3/5] END ..................C=30, gamma=0.001, kernel=rbf; total time=   0.0s\n",
      "[CV 4/5] END ..................C=30, gamma=0.001, kernel=rbf; total time=   0.0s\n",
      "[CV 5/5] END ..................C=30, gamma=0.001, kernel=rbf; total time=   0.0s\n",
      "[CV 1/5] END .................C=30, gamma=0.001, kernel=poly; total time=   0.0s\n",
      "[CV 2/5] END .................C=30, gamma=0.001, kernel=poly; total time=   0.0s\n",
      "[CV 3/5] END .................C=30, gamma=0.001, kernel=poly; total time=   0.0s\n",
      "[CV 4/5] END .................C=30, gamma=0.001, kernel=poly; total time=   0.0s\n",
      "[CV 5/5] END .................C=30, gamma=0.001, kernel=poly; total time=   0.0s\n",
      "[CV 1/5] END ..............C=30, gamma=0.001, kernel=sigmoid; total time=   0.0s\n",
      "[CV 2/5] END ..............C=30, gamma=0.001, kernel=sigmoid; total time=   0.0s\n",
      "[CV 3/5] END ..............C=30, gamma=0.001, kernel=sigmoid; total time=   0.0s\n",
      "[CV 4/5] END ..............C=30, gamma=0.001, kernel=sigmoid; total time=   0.0s\n",
      "[CV 5/5] END ..............C=30, gamma=0.001, kernel=sigmoid; total time=   0.0s\n",
      "[CV 1/5] END ..............C=30, gamma=0.0001, kernel=linear; total time=   0.0s\n",
      "[CV 2/5] END ..............C=30, gamma=0.0001, kernel=linear; total time=   0.0s\n",
      "[CV 3/5] END ..............C=30, gamma=0.0001, kernel=linear; total time=   0.0s\n",
      "[CV 4/5] END ..............C=30, gamma=0.0001, kernel=linear; total time=   0.0s\n",
      "[CV 5/5] END ..............C=30, gamma=0.0001, kernel=linear; total time=   0.0s\n",
      "[CV 1/5] END .................C=30, gamma=0.0001, kernel=rbf; total time=   0.0s\n",
      "[CV 2/5] END .................C=30, gamma=0.0001, kernel=rbf; total time=   0.0s\n",
      "[CV 3/5] END .................C=30, gamma=0.0001, kernel=rbf; total time=   0.0s\n",
      "[CV 4/5] END .................C=30, gamma=0.0001, kernel=rbf; total time=   0.0s\n",
      "[CV 5/5] END .................C=30, gamma=0.0001, kernel=rbf; total time=   0.0s\n",
      "[CV 1/5] END ................C=30, gamma=0.0001, kernel=poly; total time=   0.0s\n",
      "[CV 2/5] END ................C=30, gamma=0.0001, kernel=poly; total time=   0.0s\n",
      "[CV 3/5] END ................C=30, gamma=0.0001, kernel=poly; total time=   0.0s\n",
      "[CV 4/5] END ................C=30, gamma=0.0001, kernel=poly; total time=   0.0s\n",
      "[CV 5/5] END ................C=30, gamma=0.0001, kernel=poly; total time=   0.0s\n",
      "[CV 1/5] END .............C=30, gamma=0.0001, kernel=sigmoid; total time=   0.0s\n",
      "[CV 2/5] END .............C=30, gamma=0.0001, kernel=sigmoid; total time=   0.0s\n",
      "[CV 3/5] END .............C=30, gamma=0.0001, kernel=sigmoid; total time=   0.0s\n",
      "[CV 4/5] END .............C=30, gamma=0.0001, kernel=sigmoid; total time=   0.0s\n",
      "[CV 5/5] END .............C=30, gamma=0.0001, kernel=sigmoid; total time=   0.0s\n",
      "[CV 1/5] END ...............C=50, gamma=0.001, kernel=linear; total time=   0.0s\n",
      "[CV 2/5] END ...............C=50, gamma=0.001, kernel=linear; total time=   0.0s\n",
      "[CV 3/5] END ...............C=50, gamma=0.001, kernel=linear; total time=   0.0s\n",
      "[CV 4/5] END ...............C=50, gamma=0.001, kernel=linear; total time=   0.0s\n",
      "[CV 5/5] END ...............C=50, gamma=0.001, kernel=linear; total time=   0.0s\n",
      "[CV 1/5] END ..................C=50, gamma=0.001, kernel=rbf; total time=   0.0s\n",
      "[CV 2/5] END ..................C=50, gamma=0.001, kernel=rbf; total time=   0.0s\n",
      "[CV 3/5] END ..................C=50, gamma=0.001, kernel=rbf; total time=   0.0s\n",
      "[CV 4/5] END ..................C=50, gamma=0.001, kernel=rbf; total time=   0.0s\n",
      "[CV 5/5] END ..................C=50, gamma=0.001, kernel=rbf; total time=   0.0s\n",
      "[CV 1/5] END .................C=50, gamma=0.001, kernel=poly; total time=   0.0s\n",
      "[CV 2/5] END .................C=50, gamma=0.001, kernel=poly; total time=   0.0s\n",
      "[CV 3/5] END .................C=50, gamma=0.001, kernel=poly; total time=   0.0s\n",
      "[CV 4/5] END .................C=50, gamma=0.001, kernel=poly; total time=   0.0s\n",
      "[CV 5/5] END .................C=50, gamma=0.001, kernel=poly; total time=   0.0s\n",
      "[CV 1/5] END ..............C=50, gamma=0.001, kernel=sigmoid; total time=   0.0s\n",
      "[CV 2/5] END ..............C=50, gamma=0.001, kernel=sigmoid; total time=   0.0s\n",
      "[CV 3/5] END ..............C=50, gamma=0.001, kernel=sigmoid; total time=   0.0s\n",
      "[CV 4/5] END ..............C=50, gamma=0.001, kernel=sigmoid; total time=   0.0s\n",
      "[CV 5/5] END ..............C=50, gamma=0.001, kernel=sigmoid; total time=   0.0s\n",
      "[CV 1/5] END ..............C=50, gamma=0.0001, kernel=linear; total time=   0.0s\n",
      "[CV 2/5] END ..............C=50, gamma=0.0001, kernel=linear; total time=   0.0s\n",
      "[CV 3/5] END ..............C=50, gamma=0.0001, kernel=linear; total time=   0.0s\n",
      "[CV 4/5] END ..............C=50, gamma=0.0001, kernel=linear; total time=   0.0s\n",
      "[CV 5/5] END ..............C=50, gamma=0.0001, kernel=linear; total time=   0.0s\n",
      "[CV 1/5] END .................C=50, gamma=0.0001, kernel=rbf; total time=   0.0s\n",
      "[CV 2/5] END .................C=50, gamma=0.0001, kernel=rbf; total time=   0.0s\n",
      "[CV 3/5] END .................C=50, gamma=0.0001, kernel=rbf; total time=   0.0s\n",
      "[CV 4/5] END .................C=50, gamma=0.0001, kernel=rbf; total time=   0.0s\n",
      "[CV 5/5] END .................C=50, gamma=0.0001, kernel=rbf; total time=   0.0s\n",
      "[CV 1/5] END ................C=50, gamma=0.0001, kernel=poly; total time=   0.0s\n",
      "[CV 2/5] END ................C=50, gamma=0.0001, kernel=poly; total time=   0.0s\n",
      "[CV 3/5] END ................C=50, gamma=0.0001, kernel=poly; total time=   0.0s\n",
      "[CV 4/5] END ................C=50, gamma=0.0001, kernel=poly; total time=   0.0s\n",
      "[CV 5/5] END ................C=50, gamma=0.0001, kernel=poly; total time=   0.0s\n",
      "[CV 1/5] END .............C=50, gamma=0.0001, kernel=sigmoid; total time=   0.0s\n",
      "[CV 2/5] END .............C=50, gamma=0.0001, kernel=sigmoid; total time=   0.0s\n",
      "[CV 3/5] END .............C=50, gamma=0.0001, kernel=sigmoid; total time=   0.0s\n",
      "[CV 4/5] END .............C=50, gamma=0.0001, kernel=sigmoid; total time=   0.0s\n",
      "[CV 5/5] END .............C=50, gamma=0.0001, kernel=sigmoid; total time=   0.0s\n",
      "[CV 1/5] END ...............C=70, gamma=0.001, kernel=linear; total time=   0.0s\n",
      "[CV 2/5] END ...............C=70, gamma=0.001, kernel=linear; total time=   0.0s\n",
      "[CV 3/5] END ...............C=70, gamma=0.001, kernel=linear; total time=   0.0s\n",
      "[CV 4/5] END ...............C=70, gamma=0.001, kernel=linear; total time=   0.0s\n",
      "[CV 5/5] END ...............C=70, gamma=0.001, kernel=linear; total time=   0.0s\n",
      "[CV 1/5] END ..................C=70, gamma=0.001, kernel=rbf; total time=   0.0s\n",
      "[CV 2/5] END ..................C=70, gamma=0.001, kernel=rbf; total time=   0.0s\n",
      "[CV 3/5] END ..................C=70, gamma=0.001, kernel=rbf; total time=   0.0s\n",
      "[CV 4/5] END ..................C=70, gamma=0.001, kernel=rbf; total time=   0.0s\n",
      "[CV 5/5] END ..................C=70, gamma=0.001, kernel=rbf; total time=   0.0s\n",
      "[CV 1/5] END .................C=70, gamma=0.001, kernel=poly; total time=   0.0s\n",
      "[CV 2/5] END .................C=70, gamma=0.001, kernel=poly; total time=   0.0s\n",
      "[CV 3/5] END .................C=70, gamma=0.001, kernel=poly; total time=   0.0s\n",
      "[CV 4/5] END .................C=70, gamma=0.001, kernel=poly; total time=   0.0s\n",
      "[CV 5/5] END .................C=70, gamma=0.001, kernel=poly; total time=   0.0s\n",
      "[CV 1/5] END ..............C=70, gamma=0.001, kernel=sigmoid; total time=   0.0s\n",
      "[CV 2/5] END ..............C=70, gamma=0.001, kernel=sigmoid; total time=   0.0s\n",
      "[CV 3/5] END ..............C=70, gamma=0.001, kernel=sigmoid; total time=   0.0s\n",
      "[CV 4/5] END ..............C=70, gamma=0.001, kernel=sigmoid; total time=   0.0s\n",
      "[CV 5/5] END ..............C=70, gamma=0.001, kernel=sigmoid; total time=   0.0s\n",
      "[CV 1/5] END ..............C=70, gamma=0.0001, kernel=linear; total time=   0.0s\n",
      "[CV 2/5] END ..............C=70, gamma=0.0001, kernel=linear; total time=   0.0s\n",
      "[CV 3/5] END ..............C=70, gamma=0.0001, kernel=linear; total time=   0.0s\n",
      "[CV 4/5] END ..............C=70, gamma=0.0001, kernel=linear; total time=   0.0s\n",
      "[CV 5/5] END ..............C=70, gamma=0.0001, kernel=linear; total time=   0.0s\n",
      "[CV 1/5] END .................C=70, gamma=0.0001, kernel=rbf; total time=   0.0s\n",
      "[CV 2/5] END .................C=70, gamma=0.0001, kernel=rbf; total time=   0.0s\n",
      "[CV 3/5] END .................C=70, gamma=0.0001, kernel=rbf; total time=   0.0s\n",
      "[CV 4/5] END .................C=70, gamma=0.0001, kernel=rbf; total time=   0.0s\n",
      "[CV 5/5] END .................C=70, gamma=0.0001, kernel=rbf; total time=   0.0s\n",
      "[CV 1/5] END ................C=70, gamma=0.0001, kernel=poly; total time=   0.0s\n",
      "[CV 2/5] END ................C=70, gamma=0.0001, kernel=poly; total time=   0.0s\n",
      "[CV 3/5] END ................C=70, gamma=0.0001, kernel=poly; total time=   0.0s\n",
      "[CV 4/5] END ................C=70, gamma=0.0001, kernel=poly; total time=   0.0s\n",
      "[CV 5/5] END ................C=70, gamma=0.0001, kernel=poly; total time=   0.0s\n",
      "[CV 1/5] END .............C=70, gamma=0.0001, kernel=sigmoid; total time=   0.0s\n",
      "[CV 2/5] END .............C=70, gamma=0.0001, kernel=sigmoid; total time=   0.0s\n",
      "[CV 3/5] END .............C=70, gamma=0.0001, kernel=sigmoid; total time=   0.0s\n",
      "[CV 4/5] END .............C=70, gamma=0.0001, kernel=sigmoid; total time=   0.0s\n",
      "[CV 5/5] END .............C=70, gamma=0.0001, kernel=sigmoid; total time=   0.0s\n",
      "[CV 1/5] END ..............C=100, gamma=0.001, kernel=linear; total time=   0.0s\n",
      "[CV 2/5] END ..............C=100, gamma=0.001, kernel=linear; total time=   0.0s\n",
      "[CV 3/5] END ..............C=100, gamma=0.001, kernel=linear; total time=   0.0s\n",
      "[CV 4/5] END ..............C=100, gamma=0.001, kernel=linear; total time=   0.0s\n",
      "[CV 5/5] END ..............C=100, gamma=0.001, kernel=linear; total time=   0.0s\n",
      "[CV 1/5] END .................C=100, gamma=0.001, kernel=rbf; total time=   0.0s\n",
      "[CV 2/5] END .................C=100, gamma=0.001, kernel=rbf; total time=   0.0s\n",
      "[CV 3/5] END .................C=100, gamma=0.001, kernel=rbf; total time=   0.0s\n",
      "[CV 4/5] END .................C=100, gamma=0.001, kernel=rbf; total time=   0.0s\n",
      "[CV 5/5] END .................C=100, gamma=0.001, kernel=rbf; total time=   0.0s\n",
      "[CV 1/5] END ................C=100, gamma=0.001, kernel=poly; total time=   0.0s\n",
      "[CV 2/5] END ................C=100, gamma=0.001, kernel=poly; total time=   0.0s\n",
      "[CV 3/5] END ................C=100, gamma=0.001, kernel=poly; total time=   0.0s\n",
      "[CV 4/5] END ................C=100, gamma=0.001, kernel=poly; total time=   0.0s\n",
      "[CV 5/5] END ................C=100, gamma=0.001, kernel=poly; total time=   0.0s\n",
      "[CV 1/5] END .............C=100, gamma=0.001, kernel=sigmoid; total time=   0.0s\n",
      "[CV 2/5] END .............C=100, gamma=0.001, kernel=sigmoid; total time=   0.0s\n",
      "[CV 3/5] END .............C=100, gamma=0.001, kernel=sigmoid; total time=   0.0s\n",
      "[CV 4/5] END .............C=100, gamma=0.001, kernel=sigmoid; total time=   0.0s\n",
      "[CV 5/5] END .............C=100, gamma=0.001, kernel=sigmoid; total time=   0.0s\n",
      "[CV 1/5] END .............C=100, gamma=0.0001, kernel=linear; total time=   0.0s\n",
      "[CV 2/5] END .............C=100, gamma=0.0001, kernel=linear; total time=   0.0s\n",
      "[CV 3/5] END .............C=100, gamma=0.0001, kernel=linear; total time=   0.0s\n",
      "[CV 4/5] END .............C=100, gamma=0.0001, kernel=linear; total time=   0.0s\n",
      "[CV 5/5] END .............C=100, gamma=0.0001, kernel=linear; total time=   0.0s\n",
      "[CV 1/5] END ................C=100, gamma=0.0001, kernel=rbf; total time=   0.0s\n",
      "[CV 2/5] END ................C=100, gamma=0.0001, kernel=rbf; total time=   0.0s\n",
      "[CV 3/5] END ................C=100, gamma=0.0001, kernel=rbf; total time=   0.0s\n",
      "[CV 4/5] END ................C=100, gamma=0.0001, kernel=rbf; total time=   0.0s\n",
      "[CV 5/5] END ................C=100, gamma=0.0001, kernel=rbf; total time=   0.0s\n",
      "[CV 1/5] END ...............C=100, gamma=0.0001, kernel=poly; total time=   0.0s\n",
      "[CV 2/5] END ...............C=100, gamma=0.0001, kernel=poly; total time=   0.0s\n",
      "[CV 3/5] END ...............C=100, gamma=0.0001, kernel=poly; total time=   0.0s\n",
      "[CV 4/5] END ...............C=100, gamma=0.0001, kernel=poly; total time=   0.0s\n",
      "[CV 5/5] END ...............C=100, gamma=0.0001, kernel=poly; total time=   0.0s\n",
      "[CV 1/5] END ............C=100, gamma=0.0001, kernel=sigmoid; total time=   0.0s\n",
      "[CV 2/5] END ............C=100, gamma=0.0001, kernel=sigmoid; total time=   0.0s\n",
      "[CV 3/5] END ............C=100, gamma=0.0001, kernel=sigmoid; total time=   0.0s\n",
      "[CV 4/5] END ............C=100, gamma=0.0001, kernel=sigmoid; total time=   0.0s\n",
      "[CV 5/5] END ............C=100, gamma=0.0001, kernel=sigmoid; total time=   0.0s\n",
      "[CV 1/5] END .............C=1000, gamma=0.001, kernel=linear; total time=   0.0s\n",
      "[CV 2/5] END .............C=1000, gamma=0.001, kernel=linear; total time=   0.0s\n",
      "[CV 3/5] END .............C=1000, gamma=0.001, kernel=linear; total time=   0.0s\n",
      "[CV 4/5] END .............C=1000, gamma=0.001, kernel=linear; total time=   0.0s\n",
      "[CV 5/5] END .............C=1000, gamma=0.001, kernel=linear; total time=   0.0s\n",
      "[CV 1/5] END ................C=1000, gamma=0.001, kernel=rbf; total time=   0.0s\n",
      "[CV 2/5] END ................C=1000, gamma=0.001, kernel=rbf; total time=   0.0s\n",
      "[CV 3/5] END ................C=1000, gamma=0.001, kernel=rbf; total time=   0.0s\n",
      "[CV 4/5] END ................C=1000, gamma=0.001, kernel=rbf; total time=   0.0s\n",
      "[CV 5/5] END ................C=1000, gamma=0.001, kernel=rbf; total time=   0.0s\n",
      "[CV 1/5] END ...............C=1000, gamma=0.001, kernel=poly; total time=   0.0s\n",
      "[CV 2/5] END ...............C=1000, gamma=0.001, kernel=poly; total time=   0.0s\n",
      "[CV 3/5] END ...............C=1000, gamma=0.001, kernel=poly; total time=   0.0s\n",
      "[CV 4/5] END ...............C=1000, gamma=0.001, kernel=poly; total time=   0.0s\n",
      "[CV 5/5] END ...............C=1000, gamma=0.001, kernel=poly; total time=   0.0s\n",
      "[CV 1/5] END ............C=1000, gamma=0.001, kernel=sigmoid; total time=   0.0s\n",
      "[CV 2/5] END ............C=1000, gamma=0.001, kernel=sigmoid; total time=   0.0s\n",
      "[CV 3/5] END ............C=1000, gamma=0.001, kernel=sigmoid; total time=   0.0s\n",
      "[CV 4/5] END ............C=1000, gamma=0.001, kernel=sigmoid; total time=   0.0s\n",
      "[CV 5/5] END ............C=1000, gamma=0.001, kernel=sigmoid; total time=   0.0s\n",
      "[CV 1/5] END ............C=1000, gamma=0.0001, kernel=linear; total time=   0.0s\n",
      "[CV 2/5] END ............C=1000, gamma=0.0001, kernel=linear; total time=   0.0s\n",
      "[CV 3/5] END ............C=1000, gamma=0.0001, kernel=linear; total time=   0.0s\n",
      "[CV 4/5] END ............C=1000, gamma=0.0001, kernel=linear; total time=   0.0s\n",
      "[CV 5/5] END ............C=1000, gamma=0.0001, kernel=linear; total time=   0.0s\n",
      "[CV 1/5] END ...............C=1000, gamma=0.0001, kernel=rbf; total time=   0.0s\n",
      "[CV 2/5] END ...............C=1000, gamma=0.0001, kernel=rbf; total time=   0.0s\n",
      "[CV 3/5] END ...............C=1000, gamma=0.0001, kernel=rbf; total time=   0.0s\n",
      "[CV 4/5] END ...............C=1000, gamma=0.0001, kernel=rbf; total time=   0.0s\n",
      "[CV 5/5] END ...............C=1000, gamma=0.0001, kernel=rbf; total time=   0.0s\n",
      "[CV 1/5] END ..............C=1000, gamma=0.0001, kernel=poly; total time=   0.0s\n",
      "[CV 2/5] END ..............C=1000, gamma=0.0001, kernel=poly; total time=   0.0s\n",
      "[CV 3/5] END ..............C=1000, gamma=0.0001, kernel=poly; total time=   0.0s\n",
      "[CV 4/5] END ..............C=1000, gamma=0.0001, kernel=poly; total time=   0.0s\n",
      "[CV 5/5] END ..............C=1000, gamma=0.0001, kernel=poly; total time=   0.0s\n",
      "[CV 1/5] END ...........C=1000, gamma=0.0001, kernel=sigmoid; total time=   0.0s\n",
      "[CV 2/5] END ...........C=1000, gamma=0.0001, kernel=sigmoid; total time=   0.0s\n",
      "[CV 3/5] END ...........C=1000, gamma=0.0001, kernel=sigmoid; total time=   0.0s\n",
      "[CV 4/5] END ...........C=1000, gamma=0.0001, kernel=sigmoid; total time=   0.0s\n",
      "[CV 5/5] END ...........C=1000, gamma=0.0001, kernel=sigmoid; total time=   0.0s\n"
     ]
    },
    {
     "data": {
      "text/plain": [
       "GridSearchCV(cv=5, estimator=SVC(),\n",
       "             param_grid={'C': [1, 10, 20, 30, 50, 70, 100, 1000],\n",
       "                         'gamma': [0.001, 0.0001],\n",
       "                         'kernel': ['linear', 'rbf', 'poly', 'sigmoid']},\n",
       "             verbose=3)"
      ]
     },
     "execution_count": 80,
     "metadata": {},
     "output_type": "execute_result"
    }
   ],
   "source": [
    "svc_grid_model.fit(X_train, y_train)"
   ]
  },
  {
   "cell_type": "code",
   "execution_count": 81,
   "id": "b8647950",
   "metadata": {},
   "outputs": [],
   "source": [
    "y_pred = svc_grid_model.predict(X_test)\n",
    "y_train_pred = svc_grid_model.predict(X_train)\n"
   ]
  },
  {
   "cell_type": "code",
   "execution_count": 82,
   "id": "e87ec3d4",
   "metadata": {},
   "outputs": [],
   "source": [
    "from sklearn.metrics import precision_score, recall_score, accuracy_score, f1_score,confusion_matrix, classification_report"
   ]
  },
  {
   "cell_type": "code",
   "execution_count": 83,
   "id": "946d38ba",
   "metadata": {},
   "outputs": [],
   "source": [
    "svc_scores = {\"svc_train\": {\"accuracy\" : accuracy_score(y_train, y_train_pred),\n",
    "    \"precision_score\" : precision_score(y_train, y_train_pred,average = \"weighted\"),\n",
    "    \"recall_score\" : recall_score(y_train, y_train_pred,average = \"weighted\"),\n",
    "    \"f1_score\" : f1_score(y_train, y_train_pred, average = \"weighted\"),}, \n",
    "\n",
    "    \"svc_test\": {\"accuracy\" : accuracy_score(y_test, y_pred),\n",
    "    \"precision_score\" : precision_score(y_test, y_pred,average = \"weighted\"),\n",
    "    \"recall_score\" : recall_score(y_test, y_pred, average = \"weighted\"),\n",
    "    \"f1_score\" : f1_score(y_test, y_pred, average = \"weighted\")\n",
    "   }}\n",
    "svc =pd.DataFrame(svc_scores)"
   ]
  },
  {
   "cell_type": "code",
   "execution_count": 84,
   "id": "5fda96a4",
   "metadata": {},
   "outputs": [
    {
     "data": {
      "text/html": [
       "<div>\n",
       "<style scoped>\n",
       "    .dataframe tbody tr th:only-of-type {\n",
       "        vertical-align: middle;\n",
       "    }\n",
       "\n",
       "    .dataframe tbody tr th {\n",
       "        vertical-align: top;\n",
       "    }\n",
       "\n",
       "    .dataframe thead th {\n",
       "        text-align: right;\n",
       "    }\n",
       "</style>\n",
       "<table border=\"1\" class=\"dataframe\">\n",
       "  <thead>\n",
       "    <tr style=\"text-align: right;\">\n",
       "      <th></th>\n",
       "      <th>svc_train</th>\n",
       "      <th>svc_test</th>\n",
       "    </tr>\n",
       "  </thead>\n",
       "  <tbody>\n",
       "    <tr>\n",
       "      <th>accuracy</th>\n",
       "      <td>1.00</td>\n",
       "      <td>0.99</td>\n",
       "    </tr>\n",
       "    <tr>\n",
       "      <th>precision_score</th>\n",
       "      <td>1.00</td>\n",
       "      <td>0.99</td>\n",
       "    </tr>\n",
       "    <tr>\n",
       "      <th>recall_score</th>\n",
       "      <td>1.00</td>\n",
       "      <td>0.99</td>\n",
       "    </tr>\n",
       "    <tr>\n",
       "      <th>f1_score</th>\n",
       "      <td>1.00</td>\n",
       "      <td>0.99</td>\n",
       "    </tr>\n",
       "  </tbody>\n",
       "</table>\n",
       "</div>"
      ],
      "text/plain": [
       "                 svc_train  svc_test\n",
       "accuracy              1.00      0.99\n",
       "precision_score       1.00      0.99\n",
       "recall_score          1.00      0.99\n",
       "f1_score              1.00      0.99"
      ]
     },
     "execution_count": 84,
     "metadata": {},
     "output_type": "execute_result"
    }
   ],
   "source": [
    "svc"
   ]
  },
  {
   "cell_type": "markdown",
   "id": "9a408c15-17e4-4dc0-9d20-3f6d073ca247",
   "metadata": {},
   "source": [
    "# Supervised Method- RandomForest"
   ]
  },
  {
   "cell_type": "code",
   "execution_count": 86,
   "id": "8a9c8b07",
   "metadata": {},
   "outputs": [],
   "source": [
    "from sklearn.model_selection import GridSearchCV\n",
    "from sklearn.ensemble import RandomForestClassifier\n"
   ]
  },
  {
   "cell_type": "code",
   "execution_count": 88,
   "id": "e3242ce6",
   "metadata": {},
   "outputs": [
    {
     "name": "stdout",
     "output_type": "stream",
     "text": [
      "Fitting 10 folds for each of 30 candidates, totalling 300 fits\n",
      "[CV] END ..criterion=gini, max_features=auto, n_estimators=5; total time=   0.0s\n",
      "[CV] END ..criterion=gini, max_features=auto, n_estimators=5; total time=   0.0s\n",
      "[CV] END ..criterion=gini, max_features=auto, n_estimators=5; total time=   0.0s\n",
      "[CV] END ..criterion=gini, max_features=auto, n_estimators=5; total time=   0.0s\n",
      "[CV] END ..criterion=gini, max_features=auto, n_estimators=5; total time=   0.0s\n",
      "[CV] END ..criterion=gini, max_features=auto, n_estimators=5; total time=   0.0s\n",
      "[CV] END ..criterion=gini, max_features=auto, n_estimators=5; total time=   0.0s\n",
      "[CV] END ..criterion=gini, max_features=auto, n_estimators=5; total time=   0.0s\n",
      "[CV] END ..criterion=gini, max_features=auto, n_estimators=5; total time=   0.0s\n",
      "[CV] END ..criterion=gini, max_features=auto, n_estimators=5; total time=   0.0s\n",
      "[CV] END .criterion=gini, max_features=auto, n_estimators=10; total time=   0.0s\n",
      "[CV] END .criterion=gini, max_features=auto, n_estimators=10; total time=   0.0s\n",
      "[CV] END .criterion=gini, max_features=auto, n_estimators=10; total time=   0.0s\n",
      "[CV] END .criterion=gini, max_features=auto, n_estimators=10; total time=   0.0s\n",
      "[CV] END .criterion=gini, max_features=auto, n_estimators=10; total time=   0.0s\n",
      "[CV] END .criterion=gini, max_features=auto, n_estimators=10; total time=   0.0s\n",
      "[CV] END .criterion=gini, max_features=auto, n_estimators=10; total time=   0.0s\n",
      "[CV] END .criterion=gini, max_features=auto, n_estimators=10; total time=   0.0s\n",
      "[CV] END .criterion=gini, max_features=auto, n_estimators=10; total time=   0.0s\n",
      "[CV] END .criterion=gini, max_features=auto, n_estimators=10; total time=   0.0s\n",
      "[CV] END .criterion=gini, max_features=auto, n_estimators=30; total time=   0.0s\n",
      "[CV] END .criterion=gini, max_features=auto, n_estimators=30; total time=   0.0s\n",
      "[CV] END .criterion=gini, max_features=auto, n_estimators=30; total time=   0.0s\n",
      "[CV] END .criterion=gini, max_features=auto, n_estimators=30; total time=   0.0s\n",
      "[CV] END .criterion=gini, max_features=auto, n_estimators=30; total time=   0.0s\n",
      "[CV] END .criterion=gini, max_features=auto, n_estimators=30; total time=   0.0s\n",
      "[CV] END .criterion=gini, max_features=auto, n_estimators=30; total time=   0.0s\n",
      "[CV] END .criterion=gini, max_features=auto, n_estimators=30; total time=   0.0s\n",
      "[CV] END .criterion=gini, max_features=auto, n_estimators=30; total time=   0.0s\n",
      "[CV] END .criterion=gini, max_features=auto, n_estimators=30; total time=   0.0s\n",
      "[CV] END .criterion=gini, max_features=auto, n_estimators=50; total time=   0.0s\n",
      "[CV] END .criterion=gini, max_features=auto, n_estimators=50; total time=   0.0s\n",
      "[CV] END .criterion=gini, max_features=auto, n_estimators=50; total time=   0.0s\n",
      "[CV] END .criterion=gini, max_features=auto, n_estimators=50; total time=   0.0s\n",
      "[CV] END .criterion=gini, max_features=auto, n_estimators=50; total time=   0.0s\n",
      "[CV] END .criterion=gini, max_features=auto, n_estimators=50; total time=   0.0s\n",
      "[CV] END .criterion=gini, max_features=auto, n_estimators=50; total time=   0.0s\n",
      "[CV] END .criterion=gini, max_features=auto, n_estimators=50; total time=   0.0s\n",
      "[CV] END .criterion=gini, max_features=auto, n_estimators=50; total time=   0.0s\n",
      "[CV] END .criterion=gini, max_features=auto, n_estimators=50; total time=   0.0s\n",
      "[CV] END criterion=gini, max_features=auto, n_estimators=100; total time=   0.1s\n",
      "[CV] END criterion=gini, max_features=auto, n_estimators=100; total time=   0.1s\n",
      "[CV] END criterion=gini, max_features=auto, n_estimators=100; total time=   0.1s\n",
      "[CV] END criterion=gini, max_features=auto, n_estimators=100; total time=   0.1s\n",
      "[CV] END criterion=gini, max_features=auto, n_estimators=100; total time=   0.1s\n",
      "[CV] END criterion=gini, max_features=auto, n_estimators=100; total time=   0.1s\n",
      "[CV] END criterion=gini, max_features=auto, n_estimators=100; total time=   0.1s\n",
      "[CV] END criterion=gini, max_features=auto, n_estimators=100; total time=   0.1s\n",
      "[CV] END criterion=gini, max_features=auto, n_estimators=100; total time=   0.1s\n",
      "[CV] END criterion=gini, max_features=auto, n_estimators=100; total time=   0.0s\n",
      "[CV] END ..criterion=gini, max_features=sqrt, n_estimators=5; total time=   0.0s\n",
      "[CV] END ..criterion=gini, max_features=sqrt, n_estimators=5; total time=   0.0s\n",
      "[CV] END ..criterion=gini, max_features=sqrt, n_estimators=5; total time=   0.0s\n",
      "[CV] END ..criterion=gini, max_features=sqrt, n_estimators=5; total time=   0.0s\n",
      "[CV] END ..criterion=gini, max_features=sqrt, n_estimators=5; total time=   0.0s\n",
      "[CV] END ..criterion=gini, max_features=sqrt, n_estimators=5; total time=   0.0s\n",
      "[CV] END ..criterion=gini, max_features=sqrt, n_estimators=5; total time=   0.0s\n",
      "[CV] END ..criterion=gini, max_features=sqrt, n_estimators=5; total time=   0.0s\n",
      "[CV] END ..criterion=gini, max_features=sqrt, n_estimators=5; total time=   0.0s\n",
      "[CV] END ..criterion=gini, max_features=sqrt, n_estimators=5; total time=   0.0s\n",
      "[CV] END .criterion=gini, max_features=sqrt, n_estimators=10; total time=   0.0s\n",
      "[CV] END .criterion=gini, max_features=sqrt, n_estimators=10; total time=   0.0s\n",
      "[CV] END .criterion=gini, max_features=sqrt, n_estimators=10; total time=   0.0s\n",
      "[CV] END .criterion=gini, max_features=sqrt, n_estimators=10; total time=   0.0s\n",
      "[CV] END .criterion=gini, max_features=sqrt, n_estimators=10; total time=   0.0s\n",
      "[CV] END .criterion=gini, max_features=sqrt, n_estimators=10; total time=   0.0s\n",
      "[CV] END .criterion=gini, max_features=sqrt, n_estimators=10; total time=   0.0s\n",
      "[CV] END .criterion=gini, max_features=sqrt, n_estimators=10; total time=   0.0s\n",
      "[CV] END .criterion=gini, max_features=sqrt, n_estimators=10; total time=   0.0s\n",
      "[CV] END .criterion=gini, max_features=sqrt, n_estimators=10; total time=   0.0s\n",
      "[CV] END .criterion=gini, max_features=sqrt, n_estimators=30; total time=   0.0s\n",
      "[CV] END .criterion=gini, max_features=sqrt, n_estimators=30; total time=   0.0s\n",
      "[CV] END .criterion=gini, max_features=sqrt, n_estimators=30; total time=   0.0s\n",
      "[CV] END .criterion=gini, max_features=sqrt, n_estimators=30; total time=   0.0s\n",
      "[CV] END .criterion=gini, max_features=sqrt, n_estimators=30; total time=   0.0s\n",
      "[CV] END .criterion=gini, max_features=sqrt, n_estimators=30; total time=   0.0s\n",
      "[CV] END .criterion=gini, max_features=sqrt, n_estimators=30; total time=   0.0s\n",
      "[CV] END .criterion=gini, max_features=sqrt, n_estimators=30; total time=   0.0s\n",
      "[CV] END .criterion=gini, max_features=sqrt, n_estimators=30; total time=   0.0s\n",
      "[CV] END .criterion=gini, max_features=sqrt, n_estimators=30; total time=   0.0s\n",
      "[CV] END .criterion=gini, max_features=sqrt, n_estimators=50; total time=   0.0s\n",
      "[CV] END .criterion=gini, max_features=sqrt, n_estimators=50; total time=   0.0s\n",
      "[CV] END .criterion=gini, max_features=sqrt, n_estimators=50; total time=   0.0s\n",
      "[CV] END .criterion=gini, max_features=sqrt, n_estimators=50; total time=   0.0s\n",
      "[CV] END .criterion=gini, max_features=sqrt, n_estimators=50; total time=   0.0s\n",
      "[CV] END .criterion=gini, max_features=sqrt, n_estimators=50; total time=   0.0s\n",
      "[CV] END .criterion=gini, max_features=sqrt, n_estimators=50; total time=   0.0s\n",
      "[CV] END .criterion=gini, max_features=sqrt, n_estimators=50; total time=   0.0s\n",
      "[CV] END .criterion=gini, max_features=sqrt, n_estimators=50; total time=   0.0s\n",
      "[CV] END .criterion=gini, max_features=sqrt, n_estimators=50; total time=   0.0s\n",
      "[CV] END criterion=gini, max_features=sqrt, n_estimators=100; total time=   0.1s\n",
      "[CV] END criterion=gini, max_features=sqrt, n_estimators=100; total time=   0.1s\n",
      "[CV] END criterion=gini, max_features=sqrt, n_estimators=100; total time=   0.1s\n",
      "[CV] END criterion=gini, max_features=sqrt, n_estimators=100; total time=   0.1s\n",
      "[CV] END criterion=gini, max_features=sqrt, n_estimators=100; total time=   0.1s\n",
      "[CV] END criterion=gini, max_features=sqrt, n_estimators=100; total time=   0.1s\n",
      "[CV] END criterion=gini, max_features=sqrt, n_estimators=100; total time=   0.1s\n",
      "[CV] END criterion=gini, max_features=sqrt, n_estimators=100; total time=   0.1s\n",
      "[CV] END criterion=gini, max_features=sqrt, n_estimators=100; total time=   0.1s\n",
      "[CV] END criterion=gini, max_features=sqrt, n_estimators=100; total time=   0.0s\n",
      "[CV] END ..criterion=gini, max_features=log2, n_estimators=5; total time=   0.0s\n",
      "[CV] END ..criterion=gini, max_features=log2, n_estimators=5; total time=   0.0s\n",
      "[CV] END ..criterion=gini, max_features=log2, n_estimators=5; total time=   0.0s\n",
      "[CV] END ..criterion=gini, max_features=log2, n_estimators=5; total time=   0.0s\n",
      "[CV] END ..criterion=gini, max_features=log2, n_estimators=5; total time=   0.0s\n",
      "[CV] END ..criterion=gini, max_features=log2, n_estimators=5; total time=   0.0s\n",
      "[CV] END ..criterion=gini, max_features=log2, n_estimators=5; total time=   0.0s\n",
      "[CV] END ..criterion=gini, max_features=log2, n_estimators=5; total time=   0.0s\n",
      "[CV] END ..criterion=gini, max_features=log2, n_estimators=5; total time=   0.0s\n",
      "[CV] END ..criterion=gini, max_features=log2, n_estimators=5; total time=   0.0s\n",
      "[CV] END .criterion=gini, max_features=log2, n_estimators=10; total time=   0.0s\n",
      "[CV] END .criterion=gini, max_features=log2, n_estimators=10; total time=   0.0s\n",
      "[CV] END .criterion=gini, max_features=log2, n_estimators=10; total time=   0.0s\n",
      "[CV] END .criterion=gini, max_features=log2, n_estimators=10; total time=   0.0s\n",
      "[CV] END .criterion=gini, max_features=log2, n_estimators=10; total time=   0.0s\n",
      "[CV] END .criterion=gini, max_features=log2, n_estimators=10; total time=   0.0s\n",
      "[CV] END .criterion=gini, max_features=log2, n_estimators=10; total time=   0.0s\n",
      "[CV] END .criterion=gini, max_features=log2, n_estimators=10; total time=   0.0s\n",
      "[CV] END .criterion=gini, max_features=log2, n_estimators=10; total time=   0.0s\n",
      "[CV] END .criterion=gini, max_features=log2, n_estimators=10; total time=   0.0s\n",
      "[CV] END .criterion=gini, max_features=log2, n_estimators=30; total time=   0.0s\n",
      "[CV] END .criterion=gini, max_features=log2, n_estimators=30; total time=   0.0s\n",
      "[CV] END .criterion=gini, max_features=log2, n_estimators=30; total time=   0.0s\n",
      "[CV] END .criterion=gini, max_features=log2, n_estimators=30; total time=   0.0s\n",
      "[CV] END .criterion=gini, max_features=log2, n_estimators=30; total time=   0.0s\n",
      "[CV] END .criterion=gini, max_features=log2, n_estimators=30; total time=   0.0s\n",
      "[CV] END .criterion=gini, max_features=log2, n_estimators=30; total time=   0.0s\n",
      "[CV] END .criterion=gini, max_features=log2, n_estimators=30; total time=   0.0s\n",
      "[CV] END .criterion=gini, max_features=log2, n_estimators=30; total time=   0.0s\n",
      "[CV] END .criterion=gini, max_features=log2, n_estimators=30; total time=   0.0s\n",
      "[CV] END .criterion=gini, max_features=log2, n_estimators=50; total time=   0.0s\n",
      "[CV] END .criterion=gini, max_features=log2, n_estimators=50; total time=   0.0s\n",
      "[CV] END .criterion=gini, max_features=log2, n_estimators=50; total time=   0.0s\n",
      "[CV] END .criterion=gini, max_features=log2, n_estimators=50; total time=   0.0s\n",
      "[CV] END .criterion=gini, max_features=log2, n_estimators=50; total time=   0.0s\n",
      "[CV] END .criterion=gini, max_features=log2, n_estimators=50; total time=   0.0s\n",
      "[CV] END .criterion=gini, max_features=log2, n_estimators=50; total time=   0.0s\n",
      "[CV] END .criterion=gini, max_features=log2, n_estimators=50; total time=   0.0s\n",
      "[CV] END .criterion=gini, max_features=log2, n_estimators=50; total time=   0.0s\n",
      "[CV] END .criterion=gini, max_features=log2, n_estimators=50; total time=   0.0s\n",
      "[CV] END criterion=gini, max_features=log2, n_estimators=100; total time=   0.1s\n",
      "[CV] END criterion=gini, max_features=log2, n_estimators=100; total time=   0.1s\n",
      "[CV] END criterion=gini, max_features=log2, n_estimators=100; total time=   0.1s\n",
      "[CV] END criterion=gini, max_features=log2, n_estimators=100; total time=   0.1s\n",
      "[CV] END criterion=gini, max_features=log2, n_estimators=100; total time=   0.1s\n",
      "[CV] END criterion=gini, max_features=log2, n_estimators=100; total time=   0.1s\n",
      "[CV] END criterion=gini, max_features=log2, n_estimators=100; total time=   0.1s\n",
      "[CV] END criterion=gini, max_features=log2, n_estimators=100; total time=   0.1s\n",
      "[CV] END criterion=gini, max_features=log2, n_estimators=100; total time=   0.1s\n",
      "[CV] END criterion=gini, max_features=log2, n_estimators=100; total time=   0.0s\n",
      "[CV] END criterion=entropy, max_features=auto, n_estimators=5; total time=   0.0s\n",
      "[CV] END criterion=entropy, max_features=auto, n_estimators=5; total time=   0.0s\n",
      "[CV] END criterion=entropy, max_features=auto, n_estimators=5; total time=   0.0s\n",
      "[CV] END criterion=entropy, max_features=auto, n_estimators=5; total time=   0.0s\n",
      "[CV] END criterion=entropy, max_features=auto, n_estimators=5; total time=   0.0s\n",
      "[CV] END criterion=entropy, max_features=auto, n_estimators=5; total time=   0.0s\n",
      "[CV] END criterion=entropy, max_features=auto, n_estimators=5; total time=   0.0s\n",
      "[CV] END criterion=entropy, max_features=auto, n_estimators=5; total time=   0.0s\n",
      "[CV] END criterion=entropy, max_features=auto, n_estimators=5; total time=   0.0s\n",
      "[CV] END criterion=entropy, max_features=auto, n_estimators=5; total time=   0.0s\n",
      "[CV] END criterion=entropy, max_features=auto, n_estimators=10; total time=   0.0s\n",
      "[CV] END criterion=entropy, max_features=auto, n_estimators=10; total time=   0.0s\n",
      "[CV] END criterion=entropy, max_features=auto, n_estimators=10; total time=   0.0s\n",
      "[CV] END criterion=entropy, max_features=auto, n_estimators=10; total time=   0.0s\n",
      "[CV] END criterion=entropy, max_features=auto, n_estimators=10; total time=   0.0s\n",
      "[CV] END criterion=entropy, max_features=auto, n_estimators=10; total time=   0.0s\n",
      "[CV] END criterion=entropy, max_features=auto, n_estimators=10; total time=   0.0s\n",
      "[CV] END criterion=entropy, max_features=auto, n_estimators=10; total time=   0.0s\n",
      "[CV] END criterion=entropy, max_features=auto, n_estimators=10; total time=   0.0s\n",
      "[CV] END criterion=entropy, max_features=auto, n_estimators=10; total time=   0.0s\n",
      "[CV] END criterion=entropy, max_features=auto, n_estimators=30; total time=   0.0s\n",
      "[CV] END criterion=entropy, max_features=auto, n_estimators=30; total time=   0.0s\n",
      "[CV] END criterion=entropy, max_features=auto, n_estimators=30; total time=   0.0s\n",
      "[CV] END criterion=entropy, max_features=auto, n_estimators=30; total time=   0.0s\n",
      "[CV] END criterion=entropy, max_features=auto, n_estimators=30; total time=   0.0s\n",
      "[CV] END criterion=entropy, max_features=auto, n_estimators=30; total time=   0.0s\n",
      "[CV] END criterion=entropy, max_features=auto, n_estimators=30; total time=   0.0s\n",
      "[CV] END criterion=entropy, max_features=auto, n_estimators=30; total time=   0.0s\n",
      "[CV] END criterion=entropy, max_features=auto, n_estimators=30; total time=   0.0s\n",
      "[CV] END criterion=entropy, max_features=auto, n_estimators=30; total time=   0.0s\n",
      "[CV] END criterion=entropy, max_features=auto, n_estimators=50; total time=   0.0s\n",
      "[CV] END criterion=entropy, max_features=auto, n_estimators=50; total time=   0.0s\n",
      "[CV] END criterion=entropy, max_features=auto, n_estimators=50; total time=   0.0s\n",
      "[CV] END criterion=entropy, max_features=auto, n_estimators=50; total time=   0.0s\n",
      "[CV] END criterion=entropy, max_features=auto, n_estimators=50; total time=   0.0s\n",
      "[CV] END criterion=entropy, max_features=auto, n_estimators=50; total time=   0.0s\n",
      "[CV] END criterion=entropy, max_features=auto, n_estimators=50; total time=   0.0s\n",
      "[CV] END criterion=entropy, max_features=auto, n_estimators=50; total time=   0.0s\n",
      "[CV] END criterion=entropy, max_features=auto, n_estimators=50; total time=   0.0s\n",
      "[CV] END criterion=entropy, max_features=auto, n_estimators=50; total time=   0.0s\n",
      "[CV] END criterion=entropy, max_features=auto, n_estimators=100; total time=   0.1s\n",
      "[CV] END criterion=entropy, max_features=auto, n_estimators=100; total time=   0.1s\n",
      "[CV] END criterion=entropy, max_features=auto, n_estimators=100; total time=   0.1s\n",
      "[CV] END criterion=entropy, max_features=auto, n_estimators=100; total time=   0.1s\n",
      "[CV] END criterion=entropy, max_features=auto, n_estimators=100; total time=   0.0s\n",
      "[CV] END criterion=entropy, max_features=auto, n_estimators=100; total time=   0.1s\n",
      "[CV] END criterion=entropy, max_features=auto, n_estimators=100; total time=   0.0s\n",
      "[CV] END criterion=entropy, max_features=auto, n_estimators=100; total time=   0.1s\n",
      "[CV] END criterion=entropy, max_features=auto, n_estimators=100; total time=   0.1s\n",
      "[CV] END criterion=entropy, max_features=auto, n_estimators=100; total time=   0.1s\n",
      "[CV] END criterion=entropy, max_features=sqrt, n_estimators=5; total time=   0.0s\n",
      "[CV] END criterion=entropy, max_features=sqrt, n_estimators=5; total time=   0.0s\n",
      "[CV] END criterion=entropy, max_features=sqrt, n_estimators=5; total time=   0.0s\n",
      "[CV] END criterion=entropy, max_features=sqrt, n_estimators=5; total time=   0.0s\n",
      "[CV] END criterion=entropy, max_features=sqrt, n_estimators=5; total time=   0.0s\n",
      "[CV] END criterion=entropy, max_features=sqrt, n_estimators=5; total time=   0.0s\n",
      "[CV] END criterion=entropy, max_features=sqrt, n_estimators=5; total time=   0.0s\n",
      "[CV] END criterion=entropy, max_features=sqrt, n_estimators=5; total time=   0.0s\n",
      "[CV] END criterion=entropy, max_features=sqrt, n_estimators=5; total time=   0.0s\n",
      "[CV] END criterion=entropy, max_features=sqrt, n_estimators=5; total time=   0.0s\n",
      "[CV] END criterion=entropy, max_features=sqrt, n_estimators=10; total time=   0.0s\n",
      "[CV] END criterion=entropy, max_features=sqrt, n_estimators=10; total time=   0.0s\n",
      "[CV] END criterion=entropy, max_features=sqrt, n_estimators=10; total time=   0.0s\n",
      "[CV] END criterion=entropy, max_features=sqrt, n_estimators=10; total time=   0.0s\n",
      "[CV] END criterion=entropy, max_features=sqrt, n_estimators=10; total time=   0.0s\n",
      "[CV] END criterion=entropy, max_features=sqrt, n_estimators=10; total time=   0.0s\n",
      "[CV] END criterion=entropy, max_features=sqrt, n_estimators=10; total time=   0.0s\n",
      "[CV] END criterion=entropy, max_features=sqrt, n_estimators=10; total time=   0.0s\n",
      "[CV] END criterion=entropy, max_features=sqrt, n_estimators=10; total time=   0.0s\n",
      "[CV] END criterion=entropy, max_features=sqrt, n_estimators=10; total time=   0.0s\n",
      "[CV] END criterion=entropy, max_features=sqrt, n_estimators=30; total time=   0.0s\n",
      "[CV] END criterion=entropy, max_features=sqrt, n_estimators=30; total time=   0.0s\n",
      "[CV] END criterion=entropy, max_features=sqrt, n_estimators=30; total time=   0.0s\n",
      "[CV] END criterion=entropy, max_features=sqrt, n_estimators=30; total time=   0.0s\n",
      "[CV] END criterion=entropy, max_features=sqrt, n_estimators=30; total time=   0.0s\n",
      "[CV] END criterion=entropy, max_features=sqrt, n_estimators=30; total time=   0.0s\n",
      "[CV] END criterion=entropy, max_features=sqrt, n_estimators=30; total time=   0.0s\n",
      "[CV] END criterion=entropy, max_features=sqrt, n_estimators=30; total time=   0.0s\n",
      "[CV] END criterion=entropy, max_features=sqrt, n_estimators=30; total time=   0.0s\n",
      "[CV] END criterion=entropy, max_features=sqrt, n_estimators=30; total time=   0.0s\n",
      "[CV] END criterion=entropy, max_features=sqrt, n_estimators=50; total time=   0.0s\n",
      "[CV] END criterion=entropy, max_features=sqrt, n_estimators=50; total time=   0.0s\n",
      "[CV] END criterion=entropy, max_features=sqrt, n_estimators=50; total time=   0.0s\n",
      "[CV] END criterion=entropy, max_features=sqrt, n_estimators=50; total time=   0.0s\n",
      "[CV] END criterion=entropy, max_features=sqrt, n_estimators=50; total time=   0.0s\n",
      "[CV] END criterion=entropy, max_features=sqrt, n_estimators=50; total time=   0.0s\n",
      "[CV] END criterion=entropy, max_features=sqrt, n_estimators=50; total time=   0.0s\n",
      "[CV] END criterion=entropy, max_features=sqrt, n_estimators=50; total time=   0.0s\n",
      "[CV] END criterion=entropy, max_features=sqrt, n_estimators=50; total time=   0.0s\n",
      "[CV] END criterion=entropy, max_features=sqrt, n_estimators=50; total time=   0.0s\n",
      "[CV] END criterion=entropy, max_features=sqrt, n_estimators=100; total time=   0.1s\n",
      "[CV] END criterion=entropy, max_features=sqrt, n_estimators=100; total time=   0.1s\n",
      "[CV] END criterion=entropy, max_features=sqrt, n_estimators=100; total time=   0.1s\n",
      "[CV] END criterion=entropy, max_features=sqrt, n_estimators=100; total time=   0.1s\n",
      "[CV] END criterion=entropy, max_features=sqrt, n_estimators=100; total time=   0.1s\n",
      "[CV] END criterion=entropy, max_features=sqrt, n_estimators=100; total time=   0.1s\n",
      "[CV] END criterion=entropy, max_features=sqrt, n_estimators=100; total time=   0.1s\n",
      "[CV] END criterion=entropy, max_features=sqrt, n_estimators=100; total time=   0.1s\n",
      "[CV] END criterion=entropy, max_features=sqrt, n_estimators=100; total time=   0.0s\n",
      "[CV] END criterion=entropy, max_features=sqrt, n_estimators=100; total time=   0.1s\n",
      "[CV] END criterion=entropy, max_features=log2, n_estimators=5; total time=   0.0s\n",
      "[CV] END criterion=entropy, max_features=log2, n_estimators=5; total time=   0.0s\n",
      "[CV] END criterion=entropy, max_features=log2, n_estimators=5; total time=   0.0s\n",
      "[CV] END criterion=entropy, max_features=log2, n_estimators=5; total time=   0.0s\n",
      "[CV] END criterion=entropy, max_features=log2, n_estimators=5; total time=   0.0s\n",
      "[CV] END criterion=entropy, max_features=log2, n_estimators=5; total time=   0.0s\n",
      "[CV] END criterion=entropy, max_features=log2, n_estimators=5; total time=   0.0s\n",
      "[CV] END criterion=entropy, max_features=log2, n_estimators=5; total time=   0.0s\n",
      "[CV] END criterion=entropy, max_features=log2, n_estimators=5; total time=   0.0s\n",
      "[CV] END criterion=entropy, max_features=log2, n_estimators=5; total time=   0.0s\n",
      "[CV] END criterion=entropy, max_features=log2, n_estimators=10; total time=   0.0s\n",
      "[CV] END criterion=entropy, max_features=log2, n_estimators=10; total time=   0.0s\n",
      "[CV] END criterion=entropy, max_features=log2, n_estimators=10; total time=   0.0s\n",
      "[CV] END criterion=entropy, max_features=log2, n_estimators=10; total time=   0.0s\n",
      "[CV] END criterion=entropy, max_features=log2, n_estimators=10; total time=   0.0s\n",
      "[CV] END criterion=entropy, max_features=log2, n_estimators=10; total time=   0.0s\n",
      "[CV] END criterion=entropy, max_features=log2, n_estimators=10; total time=   0.0s\n",
      "[CV] END criterion=entropy, max_features=log2, n_estimators=10; total time=   0.0s\n",
      "[CV] END criterion=entropy, max_features=log2, n_estimators=10; total time=   0.0s\n",
      "[CV] END criterion=entropy, max_features=log2, n_estimators=10; total time=   0.0s\n",
      "[CV] END criterion=entropy, max_features=log2, n_estimators=30; total time=   0.0s\n",
      "[CV] END criterion=entropy, max_features=log2, n_estimators=30; total time=   0.0s\n",
      "[CV] END criterion=entropy, max_features=log2, n_estimators=30; total time=   0.0s\n",
      "[CV] END criterion=entropy, max_features=log2, n_estimators=30; total time=   0.0s\n",
      "[CV] END criterion=entropy, max_features=log2, n_estimators=30; total time=   0.0s\n",
      "[CV] END criterion=entropy, max_features=log2, n_estimators=30; total time=   0.0s\n",
      "[CV] END criterion=entropy, max_features=log2, n_estimators=30; total time=   0.0s\n",
      "[CV] END criterion=entropy, max_features=log2, n_estimators=30; total time=   0.0s\n",
      "[CV] END criterion=entropy, max_features=log2, n_estimators=30; total time=   0.0s\n",
      "[CV] END criterion=entropy, max_features=log2, n_estimators=30; total time=   0.0s\n",
      "[CV] END criterion=entropy, max_features=log2, n_estimators=50; total time=   0.0s\n",
      "[CV] END criterion=entropy, max_features=log2, n_estimators=50; total time=   0.0s\n",
      "[CV] END criterion=entropy, max_features=log2, n_estimators=50; total time=   0.0s\n",
      "[CV] END criterion=entropy, max_features=log2, n_estimators=50; total time=   0.0s\n",
      "[CV] END criterion=entropy, max_features=log2, n_estimators=50; total time=   0.0s\n",
      "[CV] END criterion=entropy, max_features=log2, n_estimators=50; total time=   0.0s\n",
      "[CV] END criterion=entropy, max_features=log2, n_estimators=50; total time=   0.0s\n",
      "[CV] END criterion=entropy, max_features=log2, n_estimators=50; total time=   0.0s\n",
      "[CV] END criterion=entropy, max_features=log2, n_estimators=50; total time=   0.0s\n",
      "[CV] END criterion=entropy, max_features=log2, n_estimators=50; total time=   0.0s\n",
      "[CV] END criterion=entropy, max_features=log2, n_estimators=100; total time=   0.1s\n",
      "[CV] END criterion=entropy, max_features=log2, n_estimators=100; total time=   0.1s\n",
      "[CV] END criterion=entropy, max_features=log2, n_estimators=100; total time=   0.1s\n",
      "[CV] END criterion=entropy, max_features=log2, n_estimators=100; total time=   0.0s\n",
      "[CV] END criterion=entropy, max_features=log2, n_estimators=100; total time=   0.1s\n",
      "[CV] END criterion=entropy, max_features=log2, n_estimators=100; total time=   0.1s\n",
      "[CV] END criterion=entropy, max_features=log2, n_estimators=100; total time=   0.1s\n",
      "[CV] END criterion=entropy, max_features=log2, n_estimators=100; total time=   0.0s\n",
      "[CV] END criterion=entropy, max_features=log2, n_estimators=100; total time=   0.0s\n",
      "[CV] END criterion=entropy, max_features=log2, n_estimators=100; total time=   0.1s\n"
     ]
    },
    {
     "data": {
      "text/plain": [
       "GridSearchCV(cv=10, estimator=RandomForestClassifier(),\n",
       "             param_grid={'criterion': ['gini', 'entropy'],\n",
       "                         'max_features': ['auto', 'sqrt', 'log2'],\n",
       "                         'n_estimators': [5, 10, 30, 50, 100]},\n",
       "             verbose=2)"
      ]
     },
     "execution_count": 88,
     "metadata": {},
     "output_type": "execute_result"
    }
   ],
   "source": [
    "param_grid ={\n",
    "    'n_estimators': [5,10,30, 50, 100],\n",
    "    'criterion':['gini','entropy'],\n",
    "    'max_features': ['auto', 'sqrt', 'log2']\n",
    "}\n",
    "model= RandomForestClassifier()\n",
    "\n",
    "rf_grid_model = GridSearchCV(model, param_grid, verbose = 2, cv=10, refit= True)\n",
    "\n",
    "rf_grid_model.fit(X_train, y_train)"
   ]
  },
  {
   "cell_type": "code",
   "execution_count": 89,
   "id": "2a9cc793",
   "metadata": {},
   "outputs": [],
   "source": [
    "y_pred = rf_grid_model.predict(X_test)\n",
    "y_train_pred = rf_grid_model.predict(X_train)"
   ]
  },
  {
   "cell_type": "code",
   "execution_count": 90,
   "id": "d50c05c9",
   "metadata": {},
   "outputs": [],
   "source": [
    "rf_grid_scores = {\"rf_grid_train\": {\"accuracy\" : accuracy_score(y_train, y_train_pred),\n",
    "    \"precision_score\" : precision_score(y_train, y_train_pred,average = \"weighted\"),\n",
    "    \"recall_score\" : recall_score(y_train, y_train_pred,average = \"weighted\"),\n",
    "    \"f1_score\" : f1_score(y_train, y_train_pred, average = \"weighted\"),}, \n",
    "\n",
    "    \"rf_grid_test\": {\"accuracy\" : accuracy_score(y_test, y_pred),\n",
    "    \"precision_score\" : precision_score(y_test, y_pred,average = \"weighted\"),\n",
    "    \"recall_score\" : recall_score(y_test, y_pred, average = \"weighted\"),\n",
    "    \"f1_score\" : f1_score(y_test, y_pred, average = \"weighted\")\n",
    "   }}\n",
    "rf_grid =pd.DataFrame(rf_grid_scores)"
   ]
  },
  {
   "cell_type": "code",
   "execution_count": 91,
   "id": "d0fe9236",
   "metadata": {},
   "outputs": [
    {
     "data": {
      "text/html": [
       "<div>\n",
       "<style scoped>\n",
       "    .dataframe tbody tr th:only-of-type {\n",
       "        vertical-align: middle;\n",
       "    }\n",
       "\n",
       "    .dataframe tbody tr th {\n",
       "        vertical-align: top;\n",
       "    }\n",
       "\n",
       "    .dataframe thead th {\n",
       "        text-align: right;\n",
       "    }\n",
       "</style>\n",
       "<table border=\"1\" class=\"dataframe\">\n",
       "  <thead>\n",
       "    <tr style=\"text-align: right;\">\n",
       "      <th></th>\n",
       "      <th>rf_grid_train</th>\n",
       "      <th>rf_grid_test</th>\n",
       "    </tr>\n",
       "  </thead>\n",
       "  <tbody>\n",
       "    <tr>\n",
       "      <th>accuracy</th>\n",
       "      <td>1.00</td>\n",
       "      <td>1.00</td>\n",
       "    </tr>\n",
       "    <tr>\n",
       "      <th>precision_score</th>\n",
       "      <td>1.00</td>\n",
       "      <td>1.00</td>\n",
       "    </tr>\n",
       "    <tr>\n",
       "      <th>recall_score</th>\n",
       "      <td>1.00</td>\n",
       "      <td>1.00</td>\n",
       "    </tr>\n",
       "    <tr>\n",
       "      <th>f1_score</th>\n",
       "      <td>1.00</td>\n",
       "      <td>1.00</td>\n",
       "    </tr>\n",
       "  </tbody>\n",
       "</table>\n",
       "</div>"
      ],
      "text/plain": [
       "                 rf_grid_train  rf_grid_test\n",
       "accuracy                  1.00          1.00\n",
       "precision_score           1.00          1.00\n",
       "recall_score              1.00          1.00\n",
       "f1_score                  1.00          1.00"
      ]
     },
     "execution_count": 91,
     "metadata": {},
     "output_type": "execute_result"
    }
   ],
   "source": [
    "rf_grid"
   ]
  },
  {
   "cell_type": "code",
   "execution_count": 92,
   "id": "2db79ede",
   "metadata": {},
   "outputs": [
    {
     "data": {
      "text/html": [
       "<div>\n",
       "<style scoped>\n",
       "    .dataframe tbody tr th:only-of-type {\n",
       "        vertical-align: middle;\n",
       "    }\n",
       "\n",
       "    .dataframe tbody tr th {\n",
       "        vertical-align: top;\n",
       "    }\n",
       "\n",
       "    .dataframe thead th {\n",
       "        text-align: right;\n",
       "    }\n",
       "</style>\n",
       "<table border=\"1\" class=\"dataframe\">\n",
       "  <thead>\n",
       "    <tr style=\"text-align: right;\">\n",
       "      <th></th>\n",
       "      <th>svc_train</th>\n",
       "      <th>svc_test</th>\n",
       "      <th>rf_grid_train</th>\n",
       "      <th>rf_grid_test</th>\n",
       "    </tr>\n",
       "  </thead>\n",
       "  <tbody>\n",
       "    <tr>\n",
       "      <th>accuracy</th>\n",
       "      <td>1.00</td>\n",
       "      <td>0.99</td>\n",
       "      <td>1.00</td>\n",
       "      <td>1.00</td>\n",
       "    </tr>\n",
       "    <tr>\n",
       "      <th>precision_score</th>\n",
       "      <td>1.00</td>\n",
       "      <td>0.99</td>\n",
       "      <td>1.00</td>\n",
       "      <td>1.00</td>\n",
       "    </tr>\n",
       "    <tr>\n",
       "      <th>recall_score</th>\n",
       "      <td>1.00</td>\n",
       "      <td>0.99</td>\n",
       "      <td>1.00</td>\n",
       "      <td>1.00</td>\n",
       "    </tr>\n",
       "    <tr>\n",
       "      <th>f1_score</th>\n",
       "      <td>1.00</td>\n",
       "      <td>0.99</td>\n",
       "      <td>1.00</td>\n",
       "      <td>1.00</td>\n",
       "    </tr>\n",
       "  </tbody>\n",
       "</table>\n",
       "</div>"
      ],
      "text/plain": [
       "                 svc_train  svc_test  rf_grid_train  rf_grid_test\n",
       "accuracy              1.00      0.99           1.00          1.00\n",
       "precision_score       1.00      0.99           1.00          1.00\n",
       "recall_score          1.00      0.99           1.00          1.00\n",
       "f1_score              1.00      0.99           1.00          1.00"
      ]
     },
     "execution_count": 92,
     "metadata": {},
     "output_type": "execute_result"
    }
   ],
   "source": [
    "pd.concat([svc, rf_grid],axis=1)"
   ]
  }
 ],
 "metadata": {
  "interpreter": {
   "hash": "e794c02e88df34085ef2761993c115f93f619a4e6848c20f80beebde75d35b63"
  },
  "kernelspec": {
   "display_name": "Python 3 (ipykernel)",
   "language": "python",
   "name": "python3"
  },
  "language_info": {
   "codemirror_mode": {
    "name": "ipython",
    "version": 3
   },
   "file_extension": ".py",
   "mimetype": "text/x-python",
   "name": "python",
   "nbconvert_exporter": "python",
   "pygments_lexer": "ipython3",
   "version": "3.8.8"
  }
 },
 "nbformat": 4,
 "nbformat_minor": 5
}

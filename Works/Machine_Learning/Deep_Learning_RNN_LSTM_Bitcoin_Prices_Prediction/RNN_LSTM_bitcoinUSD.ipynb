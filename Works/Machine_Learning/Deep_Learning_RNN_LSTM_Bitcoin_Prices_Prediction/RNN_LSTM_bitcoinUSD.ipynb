{
 "cells": [
  {
   "cell_type": "markdown",
   "id": "f59a54a0-8666-41a7-841c-2158cd29baee",
   "metadata": {
    "tags": []
   },
   "source": [
    "# Bitcoin Price Prediction with Deep Learning\n",
    "# Recurrent Neural Network (RNN) and Long Short Term Memory (LSTM)"
   ]
  },
  {
   "cell_type": "markdown",
   "id": "42432773-3505-4a77-ac6c-9493832a6208",
   "metadata": {},
   "source": [
    "## Importing Libraries"
   ]
  },
  {
   "cell_type": "code",
   "execution_count": 1,
   "id": "2030bc7c-930d-4b2b-924d-3bf113286e5a",
   "metadata": {},
   "outputs": [],
   "source": [
    "import numpy as np # linear algebra\n",
    "import pandas as pd # data processing, CSV file I/O (e.g. pd.read_csv)\n",
    "import matplotlib.pyplot as plt # visualization data\n",
    "import math\n",
    "\n",
    "from keras.models import Sequential\n",
    "from keras.layers import Dense\n",
    "from keras.layers import LSTM\n",
    "from sklearn.preprocessing import MinMaxScaler\n",
    "from sklearn.metrics import mean_squared_error\n",
    "\n",
    "import warnings\n",
    "warnings.filterwarnings(\"ignore\")"
   ]
  },
  {
   "cell_type": "markdown",
   "id": "6796bd8f-7bbc-4fc1-9f8a-c933056b5d2e",
   "metadata": {},
   "source": [
    "## Loading Data"
   ]
  },
  {
   "cell_type": "code",
   "execution_count": 2,
   "id": "78c6831c-b77c-4a9c-ba17-0269ed0b1e87",
   "metadata": {},
   "outputs": [],
   "source": [
    "raw_data = pd.read_csv(\"RNN_LSTM_bitstampUSD_1-min_data_2012-01-01_to_2021-03-31.csv\")"
   ]
  },
  {
   "cell_type": "code",
   "execution_count": 3,
   "id": "1ea110a9-b255-4804-90f3-09f6cbfa6ae0",
   "metadata": {},
   "outputs": [
    {
     "data": {
      "text/html": [
       "<div>\n",
       "<style scoped>\n",
       "    .dataframe tbody tr th:only-of-type {\n",
       "        vertical-align: middle;\n",
       "    }\n",
       "\n",
       "    .dataframe tbody tr th {\n",
       "        vertical-align: top;\n",
       "    }\n",
       "\n",
       "    .dataframe thead th {\n",
       "        text-align: right;\n",
       "    }\n",
       "</style>\n",
       "<table border=\"1\" class=\"dataframe\">\n",
       "  <thead>\n",
       "    <tr style=\"text-align: right;\">\n",
       "      <th></th>\n",
       "      <th>Timestamp</th>\n",
       "      <th>Open</th>\n",
       "      <th>High</th>\n",
       "      <th>Low</th>\n",
       "      <th>Close</th>\n",
       "      <th>Volume_(BTC)</th>\n",
       "      <th>Volume_(Currency)</th>\n",
       "      <th>Weighted_Price</th>\n",
       "    </tr>\n",
       "  </thead>\n",
       "  <tbody>\n",
       "    <tr>\n",
       "      <th>0</th>\n",
       "      <td>1325317920</td>\n",
       "      <td>4.39</td>\n",
       "      <td>4.39</td>\n",
       "      <td>4.39</td>\n",
       "      <td>4.39</td>\n",
       "      <td>0.455581</td>\n",
       "      <td>2.000000</td>\n",
       "      <td>4.390000</td>\n",
       "    </tr>\n",
       "    <tr>\n",
       "      <th>1</th>\n",
       "      <td>1325317980</td>\n",
       "      <td>NaN</td>\n",
       "      <td>NaN</td>\n",
       "      <td>NaN</td>\n",
       "      <td>NaN</td>\n",
       "      <td>NaN</td>\n",
       "      <td>NaN</td>\n",
       "      <td>NaN</td>\n",
       "    </tr>\n",
       "    <tr>\n",
       "      <th>2</th>\n",
       "      <td>1325318040</td>\n",
       "      <td>NaN</td>\n",
       "      <td>NaN</td>\n",
       "      <td>NaN</td>\n",
       "      <td>NaN</td>\n",
       "      <td>NaN</td>\n",
       "      <td>NaN</td>\n",
       "      <td>NaN</td>\n",
       "    </tr>\n",
       "    <tr>\n",
       "      <th>3</th>\n",
       "      <td>1325318100</td>\n",
       "      <td>NaN</td>\n",
       "      <td>NaN</td>\n",
       "      <td>NaN</td>\n",
       "      <td>NaN</td>\n",
       "      <td>NaN</td>\n",
       "      <td>NaN</td>\n",
       "      <td>NaN</td>\n",
       "    </tr>\n",
       "    <tr>\n",
       "      <th>4</th>\n",
       "      <td>1325318160</td>\n",
       "      <td>NaN</td>\n",
       "      <td>NaN</td>\n",
       "      <td>NaN</td>\n",
       "      <td>NaN</td>\n",
       "      <td>NaN</td>\n",
       "      <td>NaN</td>\n",
       "      <td>NaN</td>\n",
       "    </tr>\n",
       "    <tr>\n",
       "      <th>...</th>\n",
       "      <td>...</td>\n",
       "      <td>...</td>\n",
       "      <td>...</td>\n",
       "      <td>...</td>\n",
       "      <td>...</td>\n",
       "      <td>...</td>\n",
       "      <td>...</td>\n",
       "      <td>...</td>\n",
       "    </tr>\n",
       "    <tr>\n",
       "      <th>4857372</th>\n",
       "      <td>1617148560</td>\n",
       "      <td>58714.31</td>\n",
       "      <td>58714.31</td>\n",
       "      <td>58686.00</td>\n",
       "      <td>58686.00</td>\n",
       "      <td>1.384487</td>\n",
       "      <td>81259.372187</td>\n",
       "      <td>58692.753339</td>\n",
       "    </tr>\n",
       "    <tr>\n",
       "      <th>4857373</th>\n",
       "      <td>1617148620</td>\n",
       "      <td>58683.97</td>\n",
       "      <td>58693.43</td>\n",
       "      <td>58683.97</td>\n",
       "      <td>58685.81</td>\n",
       "      <td>7.294848</td>\n",
       "      <td>428158.146640</td>\n",
       "      <td>58693.226508</td>\n",
       "    </tr>\n",
       "    <tr>\n",
       "      <th>4857374</th>\n",
       "      <td>1617148680</td>\n",
       "      <td>58693.43</td>\n",
       "      <td>58723.84</td>\n",
       "      <td>58693.43</td>\n",
       "      <td>58723.84</td>\n",
       "      <td>1.705682</td>\n",
       "      <td>100117.070370</td>\n",
       "      <td>58696.198496</td>\n",
       "    </tr>\n",
       "    <tr>\n",
       "      <th>4857375</th>\n",
       "      <td>1617148740</td>\n",
       "      <td>58742.18</td>\n",
       "      <td>58770.38</td>\n",
       "      <td>58742.18</td>\n",
       "      <td>58760.59</td>\n",
       "      <td>0.720415</td>\n",
       "      <td>42332.958633</td>\n",
       "      <td>58761.866202</td>\n",
       "    </tr>\n",
       "    <tr>\n",
       "      <th>4857376</th>\n",
       "      <td>1617148800</td>\n",
       "      <td>58767.75</td>\n",
       "      <td>58778.18</td>\n",
       "      <td>58755.97</td>\n",
       "      <td>58778.18</td>\n",
       "      <td>2.712831</td>\n",
       "      <td>159417.751000</td>\n",
       "      <td>58764.349363</td>\n",
       "    </tr>\n",
       "  </tbody>\n",
       "</table>\n",
       "<p>4857377 rows × 8 columns</p>\n",
       "</div>"
      ],
      "text/plain": [
       "          Timestamp      Open      High       Low     Close  Volume_(BTC)  \\\n",
       "0        1325317920      4.39      4.39      4.39      4.39      0.455581   \n",
       "1        1325317980       NaN       NaN       NaN       NaN           NaN   \n",
       "2        1325318040       NaN       NaN       NaN       NaN           NaN   \n",
       "3        1325318100       NaN       NaN       NaN       NaN           NaN   \n",
       "4        1325318160       NaN       NaN       NaN       NaN           NaN   \n",
       "...             ...       ...       ...       ...       ...           ...   \n",
       "4857372  1617148560  58714.31  58714.31  58686.00  58686.00      1.384487   \n",
       "4857373  1617148620  58683.97  58693.43  58683.97  58685.81      7.294848   \n",
       "4857374  1617148680  58693.43  58723.84  58693.43  58723.84      1.705682   \n",
       "4857375  1617148740  58742.18  58770.38  58742.18  58760.59      0.720415   \n",
       "4857376  1617148800  58767.75  58778.18  58755.97  58778.18      2.712831   \n",
       "\n",
       "         Volume_(Currency)  Weighted_Price  \n",
       "0                 2.000000        4.390000  \n",
       "1                      NaN             NaN  \n",
       "2                      NaN             NaN  \n",
       "3                      NaN             NaN  \n",
       "4                      NaN             NaN  \n",
       "...                    ...             ...  \n",
       "4857372       81259.372187    58692.753339  \n",
       "4857373      428158.146640    58693.226508  \n",
       "4857374      100117.070370    58696.198496  \n",
       "4857375       42332.958633    58761.866202  \n",
       "4857376      159417.751000    58764.349363  \n",
       "\n",
       "[4857377 rows x 8 columns]"
      ]
     },
     "execution_count": 3,
     "metadata": {},
     "output_type": "execute_result"
    }
   ],
   "source": [
    "raw_data"
   ]
  },
  {
   "cell_type": "markdown",
   "id": "38d3baf1-a531-4049-bd4c-429db7574c8f",
   "metadata": {},
   "source": [
    "## Data Preparation"
   ]
  },
  {
   "cell_type": "code",
   "execution_count": 4,
   "id": "56858c6c-0554-43e0-9217-86dfc2d68960",
   "metadata": {},
   "outputs": [
    {
     "name": "stdout",
     "output_type": "stream",
     "text": [
      "<class 'pandas.core.frame.DataFrame'>\n",
      "RangeIndex: 4857377 entries, 0 to 4857376\n",
      "Data columns (total 8 columns):\n",
      " #   Column             Dtype  \n",
      "---  ------             -----  \n",
      " 0   Timestamp          int64  \n",
      " 1   Open               float64\n",
      " 2   High               float64\n",
      " 3   Low                float64\n",
      " 4   Close              float64\n",
      " 5   Volume_(BTC)       float64\n",
      " 6   Volume_(Currency)  float64\n",
      " 7   Weighted_Price     float64\n",
      "dtypes: float64(7), int64(1)\n",
      "memory usage: 296.5 MB\n"
     ]
    }
   ],
   "source": [
    "raw_data.info()"
   ]
  },
  {
   "cell_type": "code",
   "execution_count": 5,
   "id": "e973f476-b227-4f94-9ebc-cbe367d8116a",
   "metadata": {},
   "outputs": [
    {
     "data": {
      "text/plain": [
       "(4857377, 8)"
      ]
     },
     "execution_count": 5,
     "metadata": {},
     "output_type": "execute_result"
    }
   ],
   "source": [
    "raw_data.shape"
   ]
  },
  {
   "cell_type": "code",
   "execution_count": 6,
   "id": "024d4015-f21d-4378-939f-8bf3eaa8bf65",
   "metadata": {},
   "outputs": [
    {
     "data": {
      "text/plain": [
       "Timestamp                  0\n",
       "Open                 1243608\n",
       "High                 1243608\n",
       "Low                  1243608\n",
       "Close                1243608\n",
       "Volume_(BTC)         1243608\n",
       "Volume_(Currency)    1243608\n",
       "Weighted_Price       1243608\n",
       "dtype: int64"
      ]
     },
     "execution_count": 6,
     "metadata": {},
     "output_type": "execute_result"
    }
   ],
   "source": [
    "raw_data.isna().sum()"
   ]
  },
  {
   "cell_type": "code",
   "execution_count": 7,
   "id": "218ac9ec-5803-4a92-a3d4-86c71c576d8b",
   "metadata": {},
   "outputs": [],
   "source": [
    "# Except for the time_step column, we delete these rows because the other columns are NAN."
   ]
  },
  {
   "cell_type": "code",
   "execution_count": 8,
   "id": "a76b9a6d-998f-452f-87fe-4350e936a85d",
   "metadata": {},
   "outputs": [],
   "source": [
    "raw_data = raw_data.dropna()"
   ]
  },
  {
   "cell_type": "code",
   "execution_count": 9,
   "id": "372ee292-699d-457d-a472-7a3104977916",
   "metadata": {},
   "outputs": [
    {
     "data": {
      "text/plain": [
       "Timestamp            0\n",
       "Open                 0\n",
       "High                 0\n",
       "Low                  0\n",
       "Close                0\n",
       "Volume_(BTC)         0\n",
       "Volume_(Currency)    0\n",
       "Weighted_Price       0\n",
       "dtype: int64"
      ]
     },
     "execution_count": 9,
     "metadata": {},
     "output_type": "execute_result"
    }
   ],
   "source": [
    "raw_data.isna().sum()"
   ]
  },
  {
   "cell_type": "code",
   "execution_count": 10,
   "id": "e606d315-828f-43df-ac62-73832147fca3",
   "metadata": {},
   "outputs": [
    {
     "data": {
      "text/html": [
       "<div>\n",
       "<style scoped>\n",
       "    .dataframe tbody tr th:only-of-type {\n",
       "        vertical-align: middle;\n",
       "    }\n",
       "\n",
       "    .dataframe tbody tr th {\n",
       "        vertical-align: top;\n",
       "    }\n",
       "\n",
       "    .dataframe thead th {\n",
       "        text-align: right;\n",
       "    }\n",
       "</style>\n",
       "<table border=\"1\" class=\"dataframe\">\n",
       "  <thead>\n",
       "    <tr style=\"text-align: right;\">\n",
       "      <th></th>\n",
       "      <th>Timestamp</th>\n",
       "      <th>Open</th>\n",
       "      <th>High</th>\n",
       "      <th>Low</th>\n",
       "      <th>Close</th>\n",
       "      <th>Volume_(BTC)</th>\n",
       "      <th>Volume_(Currency)</th>\n",
       "      <th>Weighted_Price</th>\n",
       "      <th>date</th>\n",
       "    </tr>\n",
       "  </thead>\n",
       "  <tbody>\n",
       "    <tr>\n",
       "      <th>0</th>\n",
       "      <td>1325317920</td>\n",
       "      <td>4.39</td>\n",
       "      <td>4.39</td>\n",
       "      <td>4.39</td>\n",
       "      <td>4.39</td>\n",
       "      <td>0.455581</td>\n",
       "      <td>2.000000</td>\n",
       "      <td>4.390000</td>\n",
       "      <td>2011-12-31</td>\n",
       "    </tr>\n",
       "    <tr>\n",
       "      <th>478</th>\n",
       "      <td>1325346600</td>\n",
       "      <td>4.39</td>\n",
       "      <td>4.39</td>\n",
       "      <td>4.39</td>\n",
       "      <td>4.39</td>\n",
       "      <td>48.000000</td>\n",
       "      <td>210.720000</td>\n",
       "      <td>4.390000</td>\n",
       "      <td>2011-12-31</td>\n",
       "    </tr>\n",
       "    <tr>\n",
       "      <th>547</th>\n",
       "      <td>1325350740</td>\n",
       "      <td>4.50</td>\n",
       "      <td>4.57</td>\n",
       "      <td>4.50</td>\n",
       "      <td>4.57</td>\n",
       "      <td>37.862297</td>\n",
       "      <td>171.380338</td>\n",
       "      <td>4.526411</td>\n",
       "      <td>2011-12-31</td>\n",
       "    </tr>\n",
       "    <tr>\n",
       "      <th>548</th>\n",
       "      <td>1325350800</td>\n",
       "      <td>4.58</td>\n",
       "      <td>4.58</td>\n",
       "      <td>4.58</td>\n",
       "      <td>4.58</td>\n",
       "      <td>9.000000</td>\n",
       "      <td>41.220000</td>\n",
       "      <td>4.580000</td>\n",
       "      <td>2011-12-31</td>\n",
       "    </tr>\n",
       "    <tr>\n",
       "      <th>1224</th>\n",
       "      <td>1325391360</td>\n",
       "      <td>4.58</td>\n",
       "      <td>4.58</td>\n",
       "      <td>4.58</td>\n",
       "      <td>4.58</td>\n",
       "      <td>1.502000</td>\n",
       "      <td>6.879160</td>\n",
       "      <td>4.580000</td>\n",
       "      <td>2012-01-01</td>\n",
       "    </tr>\n",
       "    <tr>\n",
       "      <th>...</th>\n",
       "      <td>...</td>\n",
       "      <td>...</td>\n",
       "      <td>...</td>\n",
       "      <td>...</td>\n",
       "      <td>...</td>\n",
       "      <td>...</td>\n",
       "      <td>...</td>\n",
       "      <td>...</td>\n",
       "      <td>...</td>\n",
       "    </tr>\n",
       "    <tr>\n",
       "      <th>4857372</th>\n",
       "      <td>1617148560</td>\n",
       "      <td>58714.31</td>\n",
       "      <td>58714.31</td>\n",
       "      <td>58686.00</td>\n",
       "      <td>58686.00</td>\n",
       "      <td>1.384487</td>\n",
       "      <td>81259.372187</td>\n",
       "      <td>58692.753339</td>\n",
       "      <td>2021-03-30</td>\n",
       "    </tr>\n",
       "    <tr>\n",
       "      <th>4857373</th>\n",
       "      <td>1617148620</td>\n",
       "      <td>58683.97</td>\n",
       "      <td>58693.43</td>\n",
       "      <td>58683.97</td>\n",
       "      <td>58685.81</td>\n",
       "      <td>7.294848</td>\n",
       "      <td>428158.146640</td>\n",
       "      <td>58693.226508</td>\n",
       "      <td>2021-03-30</td>\n",
       "    </tr>\n",
       "    <tr>\n",
       "      <th>4857374</th>\n",
       "      <td>1617148680</td>\n",
       "      <td>58693.43</td>\n",
       "      <td>58723.84</td>\n",
       "      <td>58693.43</td>\n",
       "      <td>58723.84</td>\n",
       "      <td>1.705682</td>\n",
       "      <td>100117.070370</td>\n",
       "      <td>58696.198496</td>\n",
       "      <td>2021-03-30</td>\n",
       "    </tr>\n",
       "    <tr>\n",
       "      <th>4857375</th>\n",
       "      <td>1617148740</td>\n",
       "      <td>58742.18</td>\n",
       "      <td>58770.38</td>\n",
       "      <td>58742.18</td>\n",
       "      <td>58760.59</td>\n",
       "      <td>0.720415</td>\n",
       "      <td>42332.958633</td>\n",
       "      <td>58761.866202</td>\n",
       "      <td>2021-03-30</td>\n",
       "    </tr>\n",
       "    <tr>\n",
       "      <th>4857376</th>\n",
       "      <td>1617148800</td>\n",
       "      <td>58767.75</td>\n",
       "      <td>58778.18</td>\n",
       "      <td>58755.97</td>\n",
       "      <td>58778.18</td>\n",
       "      <td>2.712831</td>\n",
       "      <td>159417.751000</td>\n",
       "      <td>58764.349363</td>\n",
       "      <td>2021-03-31</td>\n",
       "    </tr>\n",
       "  </tbody>\n",
       "</table>\n",
       "<p>3613769 rows × 9 columns</p>\n",
       "</div>"
      ],
      "text/plain": [
       "          Timestamp      Open      High       Low     Close  Volume_(BTC)  \\\n",
       "0        1325317920      4.39      4.39      4.39      4.39      0.455581   \n",
       "478      1325346600      4.39      4.39      4.39      4.39     48.000000   \n",
       "547      1325350740      4.50      4.57      4.50      4.57     37.862297   \n",
       "548      1325350800      4.58      4.58      4.58      4.58      9.000000   \n",
       "1224     1325391360      4.58      4.58      4.58      4.58      1.502000   \n",
       "...             ...       ...       ...       ...       ...           ...   \n",
       "4857372  1617148560  58714.31  58714.31  58686.00  58686.00      1.384487   \n",
       "4857373  1617148620  58683.97  58693.43  58683.97  58685.81      7.294848   \n",
       "4857374  1617148680  58693.43  58723.84  58693.43  58723.84      1.705682   \n",
       "4857375  1617148740  58742.18  58770.38  58742.18  58760.59      0.720415   \n",
       "4857376  1617148800  58767.75  58778.18  58755.97  58778.18      2.712831   \n",
       "\n",
       "         Volume_(Currency)  Weighted_Price        date  \n",
       "0                 2.000000        4.390000  2011-12-31  \n",
       "478             210.720000        4.390000  2011-12-31  \n",
       "547             171.380338        4.526411  2011-12-31  \n",
       "548              41.220000        4.580000  2011-12-31  \n",
       "1224              6.879160        4.580000  2012-01-01  \n",
       "...                    ...             ...         ...  \n",
       "4857372       81259.372187    58692.753339  2021-03-30  \n",
       "4857373      428158.146640    58693.226508  2021-03-30  \n",
       "4857374      100117.070370    58696.198496  2021-03-30  \n",
       "4857375       42332.958633    58761.866202  2021-03-30  \n",
       "4857376      159417.751000    58764.349363  2021-03-31  \n",
       "\n",
       "[3613769 rows x 9 columns]"
      ]
     },
     "execution_count": 10,
     "metadata": {},
     "output_type": "execute_result"
    }
   ],
   "source": [
    "raw_data['date'] = pd.to_datetime(raw_data['Timestamp'],unit='s').dt.date\n",
    "raw_data"
   ]
  },
  {
   "cell_type": "code",
   "execution_count": 11,
   "id": "02349c67-66bd-4a8b-b857-eb9c9d420773",
   "metadata": {},
   "outputs": [
    {
     "name": "stdout",
     "output_type": "stream",
     "text": [
      "<class 'pandas.core.frame.DataFrame'>\n",
      "Int64Index: 3613769 entries, 0 to 4857376\n",
      "Data columns (total 9 columns):\n",
      " #   Column             Dtype  \n",
      "---  ------             -----  \n",
      " 0   Timestamp          int64  \n",
      " 1   Open               float64\n",
      " 2   High               float64\n",
      " 3   Low                float64\n",
      " 4   Close              float64\n",
      " 5   Volume_(BTC)       float64\n",
      " 6   Volume_(Currency)  float64\n",
      " 7   Weighted_Price     float64\n",
      " 8   date               object \n",
      "dtypes: float64(7), int64(1), object(1)\n",
      "memory usage: 275.7+ MB\n"
     ]
    }
   ],
   "source": [
    "raw_data.info()"
   ]
  },
  {
   "cell_type": "code",
   "execution_count": 12,
   "id": "fe6e2342-f117-4a80-b21b-ba195fe96415",
   "metadata": {},
   "outputs": [
    {
     "data": {
      "text/html": [
       "<div>\n",
       "<style scoped>\n",
       "    .dataframe tbody tr th:only-of-type {\n",
       "        vertical-align: middle;\n",
       "    }\n",
       "\n",
       "    .dataframe tbody tr th {\n",
       "        vertical-align: top;\n",
       "    }\n",
       "\n",
       "    .dataframe thead th {\n",
       "        text-align: right;\n",
       "    }\n",
       "</style>\n",
       "<table border=\"1\" class=\"dataframe\">\n",
       "  <thead>\n",
       "    <tr style=\"text-align: right;\">\n",
       "      <th></th>\n",
       "      <th>date</th>\n",
       "      <th>Timestamp</th>\n",
       "      <th>Open</th>\n",
       "      <th>High</th>\n",
       "      <th>Low</th>\n",
       "      <th>Close</th>\n",
       "      <th>Volume_(BTC)</th>\n",
       "      <th>Volume_(Currency)</th>\n",
       "      <th>Weighted_Price</th>\n",
       "    </tr>\n",
       "  </thead>\n",
       "  <tbody>\n",
       "    <tr>\n",
       "      <th>0</th>\n",
       "      <td>2011-12-31</td>\n",
       "      <td>1.325342e+09</td>\n",
       "      <td>4.465000</td>\n",
       "      <td>4.482500</td>\n",
       "      <td>4.465000</td>\n",
       "      <td>4.482500</td>\n",
       "      <td>23.829470</td>\n",
       "      <td>106.330084</td>\n",
       "      <td>4.471603</td>\n",
       "    </tr>\n",
       "    <tr>\n",
       "      <th>1</th>\n",
       "      <td>2012-01-01</td>\n",
       "      <td>1.325427e+09</td>\n",
       "      <td>4.806667</td>\n",
       "      <td>4.806667</td>\n",
       "      <td>4.806667</td>\n",
       "      <td>4.806667</td>\n",
       "      <td>7.200667</td>\n",
       "      <td>35.259720</td>\n",
       "      <td>4.806667</td>\n",
       "    </tr>\n",
       "    <tr>\n",
       "      <th>2</th>\n",
       "      <td>2012-01-02</td>\n",
       "      <td>1.325535e+09</td>\n",
       "      <td>5.000000</td>\n",
       "      <td>5.000000</td>\n",
       "      <td>5.000000</td>\n",
       "      <td>5.000000</td>\n",
       "      <td>19.048000</td>\n",
       "      <td>95.240000</td>\n",
       "      <td>5.000000</td>\n",
       "    </tr>\n",
       "    <tr>\n",
       "      <th>3</th>\n",
       "      <td>2012-01-03</td>\n",
       "      <td>1.325605e+09</td>\n",
       "      <td>5.252500</td>\n",
       "      <td>5.252500</td>\n",
       "      <td>5.252500</td>\n",
       "      <td>5.252500</td>\n",
       "      <td>11.004660</td>\n",
       "      <td>58.100651</td>\n",
       "      <td>5.252500</td>\n",
       "    </tr>\n",
       "    <tr>\n",
       "      <th>4</th>\n",
       "      <td>2012-01-04</td>\n",
       "      <td>1.325682e+09</td>\n",
       "      <td>5.200000</td>\n",
       "      <td>5.223333</td>\n",
       "      <td>5.200000</td>\n",
       "      <td>5.223333</td>\n",
       "      <td>11.914807</td>\n",
       "      <td>63.119577</td>\n",
       "      <td>5.208159</td>\n",
       "    </tr>\n",
       "    <tr>\n",
       "      <th>...</th>\n",
       "      <td>...</td>\n",
       "      <td>...</td>\n",
       "      <td>...</td>\n",
       "      <td>...</td>\n",
       "      <td>...</td>\n",
       "      <td>...</td>\n",
       "      <td>...</td>\n",
       "      <td>...</td>\n",
       "      <td>...</td>\n",
       "    </tr>\n",
       "    <tr>\n",
       "      <th>3371</th>\n",
       "      <td>2021-03-27</td>\n",
       "      <td>1.616846e+09</td>\n",
       "      <td>55193.240643</td>\n",
       "      <td>55219.665031</td>\n",
       "      <td>55168.757372</td>\n",
       "      <td>55195.415367</td>\n",
       "      <td>1.823877</td>\n",
       "      <td>100884.732367</td>\n",
       "      <td>55193.357260</td>\n",
       "    </tr>\n",
       "    <tr>\n",
       "      <th>3372</th>\n",
       "      <td>2021-03-28</td>\n",
       "      <td>1.616933e+09</td>\n",
       "      <td>55833.608471</td>\n",
       "      <td>55857.735342</td>\n",
       "      <td>55810.425126</td>\n",
       "      <td>55835.012863</td>\n",
       "      <td>1.447939</td>\n",
       "      <td>80632.115263</td>\n",
       "      <td>55832.958824</td>\n",
       "    </tr>\n",
       "    <tr>\n",
       "      <th>3373</th>\n",
       "      <td>2021-03-29</td>\n",
       "      <td>1.617019e+09</td>\n",
       "      <td>56914.886595</td>\n",
       "      <td>56946.213593</td>\n",
       "      <td>56885.242967</td>\n",
       "      <td>56915.629993</td>\n",
       "      <td>3.732887</td>\n",
       "      <td>213754.555988</td>\n",
       "      <td>56913.993819</td>\n",
       "    </tr>\n",
       "    <tr>\n",
       "      <th>3374</th>\n",
       "      <td>2021-03-30</td>\n",
       "      <td>1.617106e+09</td>\n",
       "      <td>58347.805624</td>\n",
       "      <td>58371.955310</td>\n",
       "      <td>58323.956690</td>\n",
       "      <td>58349.357087</td>\n",
       "      <td>2.363999</td>\n",
       "      <td>138231.241926</td>\n",
       "      <td>58346.912268</td>\n",
       "    </tr>\n",
       "    <tr>\n",
       "      <th>3375</th>\n",
       "      <td>2021-03-31</td>\n",
       "      <td>1.617149e+09</td>\n",
       "      <td>58767.750000</td>\n",
       "      <td>58778.180000</td>\n",
       "      <td>58755.970000</td>\n",
       "      <td>58778.180000</td>\n",
       "      <td>2.712831</td>\n",
       "      <td>159417.751000</td>\n",
       "      <td>58764.349363</td>\n",
       "    </tr>\n",
       "  </tbody>\n",
       "</table>\n",
       "<p>3376 rows × 9 columns</p>\n",
       "</div>"
      ],
      "text/plain": [
       "            date     Timestamp          Open          High           Low  \\\n",
       "0     2011-12-31  1.325342e+09      4.465000      4.482500      4.465000   \n",
       "1     2012-01-01  1.325427e+09      4.806667      4.806667      4.806667   \n",
       "2     2012-01-02  1.325535e+09      5.000000      5.000000      5.000000   \n",
       "3     2012-01-03  1.325605e+09      5.252500      5.252500      5.252500   \n",
       "4     2012-01-04  1.325682e+09      5.200000      5.223333      5.200000   \n",
       "...          ...           ...           ...           ...           ...   \n",
       "3371  2021-03-27  1.616846e+09  55193.240643  55219.665031  55168.757372   \n",
       "3372  2021-03-28  1.616933e+09  55833.608471  55857.735342  55810.425126   \n",
       "3373  2021-03-29  1.617019e+09  56914.886595  56946.213593  56885.242967   \n",
       "3374  2021-03-30  1.617106e+09  58347.805624  58371.955310  58323.956690   \n",
       "3375  2021-03-31  1.617149e+09  58767.750000  58778.180000  58755.970000   \n",
       "\n",
       "             Close  Volume_(BTC)  Volume_(Currency)  Weighted_Price  \n",
       "0         4.482500     23.829470         106.330084        4.471603  \n",
       "1         4.806667      7.200667          35.259720        4.806667  \n",
       "2         5.000000     19.048000          95.240000        5.000000  \n",
       "3         5.252500     11.004660          58.100651        5.252500  \n",
       "4         5.223333     11.914807          63.119577        5.208159  \n",
       "...            ...           ...                ...             ...  \n",
       "3371  55195.415367      1.823877      100884.732367    55193.357260  \n",
       "3372  55835.012863      1.447939       80632.115263    55832.958824  \n",
       "3373  56915.629993      3.732887      213754.555988    56913.993819  \n",
       "3374  58349.357087      2.363999      138231.241926    58346.912268  \n",
       "3375  58778.180000      2.712831      159417.751000    58764.349363  \n",
       "\n",
       "[3376 rows x 9 columns]"
      ]
     },
     "execution_count": 12,
     "metadata": {},
     "output_type": "execute_result"
    }
   ],
   "source": [
    "grouped_data = raw_data.groupby('date', as_index = False).mean()\n",
    "grouped_data"
   ]
  },
  {
   "cell_type": "markdown",
   "id": "0aa2920d-e211-4777-8b4c-1baf39505d14",
   "metadata": {},
   "source": [
    "## Train and Test Split"
   ]
  },
  {
   "cell_type": "code",
   "execution_count": 13,
   "id": "b4b19dc8-1ef9-4e09-b397-ca048ef7f359",
   "metadata": {},
   "outputs": [],
   "source": [
    "# We divide the data by Training %95, Test %5 "
   ]
  },
  {
   "cell_type": "code",
   "execution_count": 14,
   "id": "94d45071-e531-4bbf-99d1-8d223f3cd831",
   "metadata": {
    "tags": []
   },
   "outputs": [
    {
     "name": "stdout",
     "output_type": "stream",
     "text": [
      "Train size: 3207, Test size: 169\n"
     ]
    }
   ],
   "source": [
    "train_size = int(len(grouped_data) * 0.95)\n",
    "test_size = len(grouped_data) - train_size\n",
    "df_train = grouped_data.iloc[0:train_size, :]\n",
    "df_test = grouped_data.iloc[train_size:len(grouped_data), :]\n",
    "print(\"Train size: {}, Test size: {}\". format(len(df_train), len(df_test)))"
   ]
  },
  {
   "cell_type": "code",
   "execution_count": 15,
   "id": "aacbad83-4bbc-4e34-a562-3abe3e2c9826",
   "metadata": {
    "tags": []
   },
   "outputs": [
    {
     "data": {
      "text/html": [
       "<div>\n",
       "<style scoped>\n",
       "    .dataframe tbody tr th:only-of-type {\n",
       "        vertical-align: middle;\n",
       "    }\n",
       "\n",
       "    .dataframe tbody tr th {\n",
       "        vertical-align: top;\n",
       "    }\n",
       "\n",
       "    .dataframe thead th {\n",
       "        text-align: right;\n",
       "    }\n",
       "</style>\n",
       "<table border=\"1\" class=\"dataframe\">\n",
       "  <thead>\n",
       "    <tr style=\"text-align: right;\">\n",
       "      <th></th>\n",
       "      <th>date</th>\n",
       "      <th>Timestamp</th>\n",
       "      <th>Open</th>\n",
       "      <th>High</th>\n",
       "      <th>Low</th>\n",
       "      <th>Close</th>\n",
       "      <th>Volume_(BTC)</th>\n",
       "      <th>Volume_(Currency)</th>\n",
       "      <th>Weighted_Price</th>\n",
       "    </tr>\n",
       "  </thead>\n",
       "  <tbody>\n",
       "    <tr>\n",
       "      <th>0</th>\n",
       "      <td>2011-12-31</td>\n",
       "      <td>1.325342e+09</td>\n",
       "      <td>4.465000</td>\n",
       "      <td>4.482500</td>\n",
       "      <td>4.465000</td>\n",
       "      <td>4.482500</td>\n",
       "      <td>23.829470</td>\n",
       "      <td>106.330084</td>\n",
       "      <td>4.471603</td>\n",
       "    </tr>\n",
       "    <tr>\n",
       "      <th>1</th>\n",
       "      <td>2012-01-01</td>\n",
       "      <td>1.325427e+09</td>\n",
       "      <td>4.806667</td>\n",
       "      <td>4.806667</td>\n",
       "      <td>4.806667</td>\n",
       "      <td>4.806667</td>\n",
       "      <td>7.200667</td>\n",
       "      <td>35.259720</td>\n",
       "      <td>4.806667</td>\n",
       "    </tr>\n",
       "    <tr>\n",
       "      <th>2</th>\n",
       "      <td>2012-01-02</td>\n",
       "      <td>1.325535e+09</td>\n",
       "      <td>5.000000</td>\n",
       "      <td>5.000000</td>\n",
       "      <td>5.000000</td>\n",
       "      <td>5.000000</td>\n",
       "      <td>19.048000</td>\n",
       "      <td>95.240000</td>\n",
       "      <td>5.000000</td>\n",
       "    </tr>\n",
       "    <tr>\n",
       "      <th>3</th>\n",
       "      <td>2012-01-03</td>\n",
       "      <td>1.325605e+09</td>\n",
       "      <td>5.252500</td>\n",
       "      <td>5.252500</td>\n",
       "      <td>5.252500</td>\n",
       "      <td>5.252500</td>\n",
       "      <td>11.004660</td>\n",
       "      <td>58.100651</td>\n",
       "      <td>5.252500</td>\n",
       "    </tr>\n",
       "    <tr>\n",
       "      <th>4</th>\n",
       "      <td>2012-01-04</td>\n",
       "      <td>1.325682e+09</td>\n",
       "      <td>5.200000</td>\n",
       "      <td>5.223333</td>\n",
       "      <td>5.200000</td>\n",
       "      <td>5.223333</td>\n",
       "      <td>11.914807</td>\n",
       "      <td>63.119577</td>\n",
       "      <td>5.208159</td>\n",
       "    </tr>\n",
       "    <tr>\n",
       "      <th>...</th>\n",
       "      <td>...</td>\n",
       "      <td>...</td>\n",
       "      <td>...</td>\n",
       "      <td>...</td>\n",
       "      <td>...</td>\n",
       "      <td>...</td>\n",
       "      <td>...</td>\n",
       "      <td>...</td>\n",
       "      <td>...</td>\n",
       "    </tr>\n",
       "    <tr>\n",
       "      <th>3202</th>\n",
       "      <td>2020-10-09</td>\n",
       "      <td>1.602245e+09</td>\n",
       "      <td>10982.492676</td>\n",
       "      <td>10985.623715</td>\n",
       "      <td>10980.196313</td>\n",
       "      <td>10982.801468</td>\n",
       "      <td>3.760772</td>\n",
       "      <td>41417.357238</td>\n",
       "      <td>10983.384096</td>\n",
       "    </tr>\n",
       "    <tr>\n",
       "      <th>3203</th>\n",
       "      <td>2020-10-10</td>\n",
       "      <td>1.602332e+09</td>\n",
       "      <td>11333.565453</td>\n",
       "      <td>11337.292218</td>\n",
       "      <td>11330.713611</td>\n",
       "      <td>11333.892889</td>\n",
       "      <td>2.410000</td>\n",
       "      <td>27332.719872</td>\n",
       "      <td>11334.302729</td>\n",
       "    </tr>\n",
       "    <tr>\n",
       "      <th>3204</th>\n",
       "      <td>2020-10-11</td>\n",
       "      <td>1.602418e+09</td>\n",
       "      <td>11359.932272</td>\n",
       "      <td>11362.472757</td>\n",
       "      <td>11357.929625</td>\n",
       "      <td>11360.050206</td>\n",
       "      <td>1.601214</td>\n",
       "      <td>18205.967293</td>\n",
       "      <td>11360.626362</td>\n",
       "    </tr>\n",
       "    <tr>\n",
       "      <th>3205</th>\n",
       "      <td>2020-10-12</td>\n",
       "      <td>1.602504e+09</td>\n",
       "      <td>11446.628737</td>\n",
       "      <td>11450.348017</td>\n",
       "      <td>11443.743825</td>\n",
       "      <td>11446.934834</td>\n",
       "      <td>5.002278</td>\n",
       "      <td>57355.190172</td>\n",
       "      <td>11447.596320</td>\n",
       "    </tr>\n",
       "    <tr>\n",
       "      <th>3206</th>\n",
       "      <td>2020-10-13</td>\n",
       "      <td>1.602591e+09</td>\n",
       "      <td>11449.620416</td>\n",
       "      <td>11452.751536</td>\n",
       "      <td>11446.496180</td>\n",
       "      <td>11449.585588</td>\n",
       "      <td>3.592643</td>\n",
       "      <td>41075.494676</td>\n",
       "      <td>11450.011133</td>\n",
       "    </tr>\n",
       "  </tbody>\n",
       "</table>\n",
       "<p>3207 rows × 9 columns</p>\n",
       "</div>"
      ],
      "text/plain": [
       "            date     Timestamp          Open          High           Low  \\\n",
       "0     2011-12-31  1.325342e+09      4.465000      4.482500      4.465000   \n",
       "1     2012-01-01  1.325427e+09      4.806667      4.806667      4.806667   \n",
       "2     2012-01-02  1.325535e+09      5.000000      5.000000      5.000000   \n",
       "3     2012-01-03  1.325605e+09      5.252500      5.252500      5.252500   \n",
       "4     2012-01-04  1.325682e+09      5.200000      5.223333      5.200000   \n",
       "...          ...           ...           ...           ...           ...   \n",
       "3202  2020-10-09  1.602245e+09  10982.492676  10985.623715  10980.196313   \n",
       "3203  2020-10-10  1.602332e+09  11333.565453  11337.292218  11330.713611   \n",
       "3204  2020-10-11  1.602418e+09  11359.932272  11362.472757  11357.929625   \n",
       "3205  2020-10-12  1.602504e+09  11446.628737  11450.348017  11443.743825   \n",
       "3206  2020-10-13  1.602591e+09  11449.620416  11452.751536  11446.496180   \n",
       "\n",
       "             Close  Volume_(BTC)  Volume_(Currency)  Weighted_Price  \n",
       "0         4.482500     23.829470         106.330084        4.471603  \n",
       "1         4.806667      7.200667          35.259720        4.806667  \n",
       "2         5.000000     19.048000          95.240000        5.000000  \n",
       "3         5.252500     11.004660          58.100651        5.252500  \n",
       "4         5.223333     11.914807          63.119577        5.208159  \n",
       "...            ...           ...                ...             ...  \n",
       "3202  10982.801468      3.760772       41417.357238    10983.384096  \n",
       "3203  11333.892889      2.410000       27332.719872    11334.302729  \n",
       "3204  11360.050206      1.601214       18205.967293    11360.626362  \n",
       "3205  11446.934834      5.002278       57355.190172    11447.596320  \n",
       "3206  11449.585588      3.592643       41075.494676    11450.011133  \n",
       "\n",
       "[3207 rows x 9 columns]"
      ]
     },
     "execution_count": 15,
     "metadata": {},
     "output_type": "execute_result"
    }
   ],
   "source": [
    "df_train"
   ]
  },
  {
   "cell_type": "code",
   "execution_count": 16,
   "id": "438e1b4b-77bd-4132-b770-5ec7c95252af",
   "metadata": {
    "tags": []
   },
   "outputs": [
    {
     "data": {
      "text/html": [
       "<div>\n",
       "<style scoped>\n",
       "    .dataframe tbody tr th:only-of-type {\n",
       "        vertical-align: middle;\n",
       "    }\n",
       "\n",
       "    .dataframe tbody tr th {\n",
       "        vertical-align: top;\n",
       "    }\n",
       "\n",
       "    .dataframe thead th {\n",
       "        text-align: right;\n",
       "    }\n",
       "</style>\n",
       "<table border=\"1\" class=\"dataframe\">\n",
       "  <thead>\n",
       "    <tr style=\"text-align: right;\">\n",
       "      <th></th>\n",
       "      <th>date</th>\n",
       "      <th>Timestamp</th>\n",
       "      <th>Open</th>\n",
       "      <th>High</th>\n",
       "      <th>Low</th>\n",
       "      <th>Close</th>\n",
       "      <th>Volume_(BTC)</th>\n",
       "      <th>Volume_(Currency)</th>\n",
       "      <th>Weighted_Price</th>\n",
       "    </tr>\n",
       "  </thead>\n",
       "  <tbody>\n",
       "    <tr>\n",
       "      <th>3207</th>\n",
       "      <td>2020-10-14</td>\n",
       "      <td>1.602677e+09</td>\n",
       "      <td>11404.767569</td>\n",
       "      <td>11407.940356</td>\n",
       "      <td>11402.095524</td>\n",
       "      <td>11404.985887</td>\n",
       "      <td>2.700107</td>\n",
       "      <td>30802.126772</td>\n",
       "      <td>11405.501559</td>\n",
       "    </tr>\n",
       "    <tr>\n",
       "      <th>3208</th>\n",
       "      <td>2020-10-15</td>\n",
       "      <td>1.602763e+09</td>\n",
       "      <td>11414.318695</td>\n",
       "      <td>11417.641600</td>\n",
       "      <td>11411.428807</td>\n",
       "      <td>11414.413593</td>\n",
       "      <td>3.413635</td>\n",
       "      <td>38960.873612</td>\n",
       "      <td>11415.065075</td>\n",
       "    </tr>\n",
       "    <tr>\n",
       "      <th>3209</th>\n",
       "      <td>2020-10-16</td>\n",
       "      <td>1.602850e+09</td>\n",
       "      <td>11364.571659</td>\n",
       "      <td>11367.766921</td>\n",
       "      <td>11361.192477</td>\n",
       "      <td>11364.462890</td>\n",
       "      <td>3.015552</td>\n",
       "      <td>34182.872368</td>\n",
       "      <td>11364.835083</td>\n",
       "    </tr>\n",
       "    <tr>\n",
       "      <th>3210</th>\n",
       "      <td>2020-10-17</td>\n",
       "      <td>1.602935e+09</td>\n",
       "      <td>11343.158030</td>\n",
       "      <td>11345.612904</td>\n",
       "      <td>11341.068896</td>\n",
       "      <td>11343.264119</td>\n",
       "      <td>0.832904</td>\n",
       "      <td>9445.784044</td>\n",
       "      <td>11343.749378</td>\n",
       "    </tr>\n",
       "    <tr>\n",
       "      <th>3211</th>\n",
       "      <td>2020-10-18</td>\n",
       "      <td>1.603018e+09</td>\n",
       "      <td>11424.554575</td>\n",
       "      <td>11426.502639</td>\n",
       "      <td>11423.175938</td>\n",
       "      <td>11424.888073</td>\n",
       "      <td>0.909001</td>\n",
       "      <td>10405.842475</td>\n",
       "      <td>11424.963448</td>\n",
       "    </tr>\n",
       "    <tr>\n",
       "      <th>...</th>\n",
       "      <td>...</td>\n",
       "      <td>...</td>\n",
       "      <td>...</td>\n",
       "      <td>...</td>\n",
       "      <td>...</td>\n",
       "      <td>...</td>\n",
       "      <td>...</td>\n",
       "      <td>...</td>\n",
       "      <td>...</td>\n",
       "    </tr>\n",
       "    <tr>\n",
       "      <th>3371</th>\n",
       "      <td>2021-03-27</td>\n",
       "      <td>1.616846e+09</td>\n",
       "      <td>55193.240643</td>\n",
       "      <td>55219.665031</td>\n",
       "      <td>55168.757372</td>\n",
       "      <td>55195.415367</td>\n",
       "      <td>1.823877</td>\n",
       "      <td>100884.732367</td>\n",
       "      <td>55193.357260</td>\n",
       "    </tr>\n",
       "    <tr>\n",
       "      <th>3372</th>\n",
       "      <td>2021-03-28</td>\n",
       "      <td>1.616933e+09</td>\n",
       "      <td>55833.608471</td>\n",
       "      <td>55857.735342</td>\n",
       "      <td>55810.425126</td>\n",
       "      <td>55835.012863</td>\n",
       "      <td>1.447939</td>\n",
       "      <td>80632.115263</td>\n",
       "      <td>55832.958824</td>\n",
       "    </tr>\n",
       "    <tr>\n",
       "      <th>3373</th>\n",
       "      <td>2021-03-29</td>\n",
       "      <td>1.617019e+09</td>\n",
       "      <td>56914.886595</td>\n",
       "      <td>56946.213593</td>\n",
       "      <td>56885.242967</td>\n",
       "      <td>56915.629993</td>\n",
       "      <td>3.732887</td>\n",
       "      <td>213754.555988</td>\n",
       "      <td>56913.993819</td>\n",
       "    </tr>\n",
       "    <tr>\n",
       "      <th>3374</th>\n",
       "      <td>2021-03-30</td>\n",
       "      <td>1.617106e+09</td>\n",
       "      <td>58347.805624</td>\n",
       "      <td>58371.955310</td>\n",
       "      <td>58323.956690</td>\n",
       "      <td>58349.357087</td>\n",
       "      <td>2.363999</td>\n",
       "      <td>138231.241926</td>\n",
       "      <td>58346.912268</td>\n",
       "    </tr>\n",
       "    <tr>\n",
       "      <th>3375</th>\n",
       "      <td>2021-03-31</td>\n",
       "      <td>1.617149e+09</td>\n",
       "      <td>58767.750000</td>\n",
       "      <td>58778.180000</td>\n",
       "      <td>58755.970000</td>\n",
       "      <td>58778.180000</td>\n",
       "      <td>2.712831</td>\n",
       "      <td>159417.751000</td>\n",
       "      <td>58764.349363</td>\n",
       "    </tr>\n",
       "  </tbody>\n",
       "</table>\n",
       "<p>169 rows × 9 columns</p>\n",
       "</div>"
      ],
      "text/plain": [
       "            date     Timestamp          Open          High           Low  \\\n",
       "3207  2020-10-14  1.602677e+09  11404.767569  11407.940356  11402.095524   \n",
       "3208  2020-10-15  1.602763e+09  11414.318695  11417.641600  11411.428807   \n",
       "3209  2020-10-16  1.602850e+09  11364.571659  11367.766921  11361.192477   \n",
       "3210  2020-10-17  1.602935e+09  11343.158030  11345.612904  11341.068896   \n",
       "3211  2020-10-18  1.603018e+09  11424.554575  11426.502639  11423.175938   \n",
       "...          ...           ...           ...           ...           ...   \n",
       "3371  2021-03-27  1.616846e+09  55193.240643  55219.665031  55168.757372   \n",
       "3372  2021-03-28  1.616933e+09  55833.608471  55857.735342  55810.425126   \n",
       "3373  2021-03-29  1.617019e+09  56914.886595  56946.213593  56885.242967   \n",
       "3374  2021-03-30  1.617106e+09  58347.805624  58371.955310  58323.956690   \n",
       "3375  2021-03-31  1.617149e+09  58767.750000  58778.180000  58755.970000   \n",
       "\n",
       "             Close  Volume_(BTC)  Volume_(Currency)  Weighted_Price  \n",
       "3207  11404.985887      2.700107       30802.126772    11405.501559  \n",
       "3208  11414.413593      3.413635       38960.873612    11415.065075  \n",
       "3209  11364.462890      3.015552       34182.872368    11364.835083  \n",
       "3210  11343.264119      0.832904        9445.784044    11343.749378  \n",
       "3211  11424.888073      0.909001       10405.842475    11424.963448  \n",
       "...            ...           ...                ...             ...  \n",
       "3371  55195.415367      1.823877      100884.732367    55193.357260  \n",
       "3372  55835.012863      1.447939       80632.115263    55832.958824  \n",
       "3373  56915.629993      3.732887      213754.555988    56913.993819  \n",
       "3374  58349.357087      2.363999      138231.241926    58346.912268  \n",
       "3375  58778.180000      2.712831      159417.751000    58764.349363  \n",
       "\n",
       "[169 rows x 9 columns]"
      ]
     },
     "execution_count": 16,
     "metadata": {},
     "output_type": "execute_result"
    }
   ],
   "source": [
    "df_test"
   ]
  },
  {
   "cell_type": "markdown",
   "id": "4abfaf87-0c09-43a2-92d8-ef237c2ced65",
   "metadata": {},
   "source": [
    "## Visualizing Data"
   ]
  },
  {
   "cell_type": "code",
   "execution_count": 17,
   "id": "3e1fe731-4d54-4561-952c-f9fcbbbf53a2",
   "metadata": {
    "tags": []
   },
   "outputs": [
    {
     "data": {
      "image/png": "[encoded data removed]",
      "text/plain": [
       "<Figure size 432x288 with 1 Axes>"
      ]
     },
     "metadata": {
      "needs_background": "light"
     },
     "output_type": "display_data"
    }
   ],
   "source": [
    "data_plot = grouped_data.loc[:, [\"Close\"]].values\n",
    "plt.plot(data_plot)\n",
    "plt.xlabel(\"Time\")\n",
    "plt.ylabel(\"Values of Close\")\n",
    "plt.title(\"Bitcoin Close Prices\")\n",
    "plt.show()"
   ]
  },
  {
   "cell_type": "code",
   "execution_count": 18,
   "id": "383308e7-6d90-49b9-ab7d-da779271fe23",
   "metadata": {},
   "outputs": [],
   "source": [
    "#we will predict Close values"
   ]
  },
  {
   "cell_type": "code",
   "execution_count": 19,
   "id": "f17b7af5-77b2-44ba-b1e9-171080fe8c6c",
   "metadata": {},
   "outputs": [
    {
     "data": {
      "text/plain": [
       "(3207, 1)"
      ]
     },
     "execution_count": 19,
     "metadata": {},
     "output_type": "execute_result"
    }
   ],
   "source": [
    "dataset = df_train.loc[:, [\"Close\"]].values\n",
    "dataset.shape"
   ]
  },
  {
   "cell_type": "code",
   "execution_count": 20,
   "id": "e67f6c66-9434-4dda-af57-498bbaeb8a93",
   "metadata": {},
   "outputs": [
    {
     "data": {
      "text/plain": [
       "(3207, 1)"
      ]
     },
     "execution_count": 20,
     "metadata": {},
     "output_type": "execute_result"
    }
   ],
   "source": [
    "#reshape\n",
    "dataset = dataset.reshape(-1, 1)\n",
    "\n",
    "#change type\n",
    "dataset = dataset.astype(\"float32\")\n",
    "dataset.shape"
   ]
  },
  {
   "cell_type": "markdown",
   "id": "40a56dbc-1efc-44d5-91e9-7787f57b9b57",
   "metadata": {},
   "source": [
    "## Scaling Data"
   ]
  },
  {
   "cell_type": "code",
   "execution_count": 21,
   "id": "ee979eda-374a-4d70-b418-d4cb8074a3d7",
   "metadata": {},
   "outputs": [
    {
     "data": {
      "text/plain": [
       "array([[7.8616577e-06],\n",
       "       [2.4757654e-05],\n",
       "       [3.4834418e-05],\n",
       "       ...,\n",
       "       [5.9187502e-01],\n",
       "       [5.9640354e-01],\n",
       "       [5.9654176e-01]], dtype=float32)"
      ]
     },
     "execution_count": 21,
     "metadata": {},
     "output_type": "execute_result"
    }
   ],
   "source": [
    "# Feature Scaling\n",
    "from sklearn.preprocessing import MinMaxScaler\n",
    "scaler = MinMaxScaler(feature_range = (0, 1))\n",
    "data_scaled = scaler.fit_transform(dataset)\n",
    "data_scaled"
   ]
  },
  {
   "cell_type": "code",
   "execution_count": 22,
   "id": "ee2a6d6c-c1b5-454b-9795-c79f2d89a4b9",
   "metadata": {},
   "outputs": [
    {
     "data": {
      "image/png": "[encoded data removed]",
      "text/plain": [
       "<Figure size 432x288 with 1 Axes>"
      ]
     },
     "metadata": {
      "needs_background": "light"
     },
     "output_type": "display_data"
    }
   ],
   "source": [
    "plt.plot(data_scaled)\n",
    "plt.xlabel(\"Time\")\n",
    "plt.ylabel(\"Values of Close\")\n",
    "plt.title(\"Bitcoin Close Price (Scaled)\")\n",
    "plt.show()"
   ]
  },
  {
   "cell_type": "code",
   "execution_count": 24,
   "id": "e76aeb02-9191-4f5f-8d4f-10ec0ad6c5fb",
   "metadata": {},
   "outputs": [
    {
     "name": "stdout",
     "output_type": "stream",
     "text": [
      "X_train shape:  (3197, 10)\n",
      "y_train shape:  (3197,)\n"
     ]
    }
   ],
   "source": [
    "# Creating a data structure with 10 time_step and 1 output\n",
    "X_train = []\n",
    "y_train = []\n",
    "time_step = 10\n",
    "for i in range(time_step, data_scaled.shape[0]):\n",
    "    X_train.append(data_scaled[i-time_step:i, 0])\n",
    "    y_train.append(data_scaled[i, 0])\n",
    "X_train, y_train = np.array(X_train), np.array(y_train)\n",
    "\n",
    "print(\"X_train shape: \", X_train.shape)\n",
    "print(\"y_train shape: \", y_train.shape)"
   ]
  },
  {
   "cell_type": "code",
   "execution_count": 25,
   "id": "d12e3dc4-9853-4d2f-98bc-21c96fc8a99a",
   "metadata": {
    "tags": []
   },
   "outputs": [],
   "source": [
    "# Reshaping to 3D\n",
    "X_train = np.reshape(X_train, (X_train.shape[0], X_train.shape[1], 1))"
   ]
  },
  {
   "cell_type": "code",
   "execution_count": 26,
   "id": "673fa4df-cc5f-4aa2-990c-16bb75d6c7b1",
   "metadata": {},
   "outputs": [
    {
     "name": "stdout",
     "output_type": "stream",
     "text": [
      "X_train shape:  (3197, 10, 1)\n",
      "y_train shape:  (3197,)\n"
     ]
    }
   ],
   "source": [
    "print(\"X_train shape: \",X_train.shape)\n",
    "print(\"y_train shape: \",y_train.shape)"
   ]
  },
  {
   "cell_type": "markdown",
   "id": "7b04777f-8cc4-4418-845c-0d9ffb0c46b1",
   "metadata": {},
   "source": [
    "## Modeling (RNN)"
   ]
  },
  {
   "cell_type": "code",
   "execution_count": 27,
   "id": "5e3f5412-c831-43fc-849c-e87e316bcf26",
   "metadata": {},
   "outputs": [],
   "source": [
    "### Importing the Keras libraries and packages\n",
    "from keras.models import Sequential\n",
    "from keras.layers import Dense\n",
    "from keras.layers import SimpleRNN\n",
    "from keras.layers import Dropout"
   ]
  },
  {
   "cell_type": "code",
   "execution_count": 28,
   "id": "9d769318-81e1-4746-af9f-f6c873b48ce3",
   "metadata": {
    "collapsed": true,
    "jupyter": {
     "outputs_hidden": true
    },
    "tags": []
   },
   "outputs": [
    {
     "name": "stdout",
     "output_type": "stream",
     "text": [
      "Epoch 1/100\n",
      "100/100 [==============================] - 4s 12ms/step - loss: 0.0062\n",
      "Epoch 2/100\n",
      "100/100 [==============================] - 1s 13ms/step - loss: 0.0027\n",
      "Epoch 3/100\n",
      "100/100 [==============================] - 1s 12ms/step - loss: 0.0027\n",
      "Epoch 4/100\n",
      "100/100 [==============================] - 1s 12ms/step - loss: 0.0022\n",
      "Epoch 5/100\n",
      "100/100 [==============================] - 1s 11ms/step - loss: 0.0019\n",
      "Epoch 6/100\n",
      "100/100 [==============================] - 1s 12ms/step - loss: 0.0020\n",
      "Epoch 7/100\n",
      "100/100 [==============================] - 1s 11ms/step - loss: 0.0015\n",
      "Epoch 8/100\n",
      "100/100 [==============================] - 1s 11ms/step - loss: 0.0016\n",
      "Epoch 9/100\n",
      "100/100 [==============================] - 1s 12ms/step - loss: 0.0014\n",
      "Epoch 10/100\n",
      "100/100 [==============================] - 1s 12ms/step - loss: 0.0014\n",
      "Epoch 11/100\n",
      "100/100 [==============================] - 1s 12ms/step - loss: 0.0013\n",
      "Epoch 12/100\n",
      "100/100 [==============================] - 1s 12ms/step - loss: 0.0013\n",
      "Epoch 13/100\n",
      "100/100 [==============================] - 1s 13ms/step - loss: 0.0012\n",
      "Epoch 14/100\n",
      "100/100 [==============================] - 1s 11ms/step - loss: 0.0015\n",
      "Epoch 15/100\n",
      "100/100 [==============================] - 1s 11ms/step - loss: 0.0012\n",
      "Epoch 16/100\n",
      "100/100 [==============================] - 1s 11ms/step - loss: 0.0011\n",
      "Epoch 17/100\n",
      "100/100 [==============================] - 1s 13ms/step - loss: 0.0011\n",
      "Epoch 18/100\n",
      "100/100 [==============================] - 1s 13ms/step - loss: 0.0011\n",
      "Epoch 19/100\n",
      "100/100 [==============================] - 1s 11ms/step - loss: 9.9952e-04\n",
      "Epoch 20/100\n",
      "100/100 [==============================] - 1s 12ms/step - loss: 0.0012\n",
      "Epoch 21/100\n",
      "100/100 [==============================] - 1s 11ms/step - loss: 8.9925e-04\n",
      "Epoch 22/100\n",
      "100/100 [==============================] - 1s 11ms/step - loss: 9.3619e-04\n",
      "Epoch 23/100\n",
      "100/100 [==============================] - 1s 12ms/step - loss: 9.9597e-04\n",
      "Epoch 24/100\n",
      "100/100 [==============================] - 1s 12ms/step - loss: 9.2441e-04\n",
      "Epoch 25/100\n",
      "100/100 [==============================] - 1s 12ms/step - loss: 0.0010\n",
      "Epoch 26/100\n",
      "100/100 [==============================] - 1s 12ms/step - loss: 8.6734e-04\n",
      "Epoch 27/100\n",
      "100/100 [==============================] - 1s 13ms/step - loss: 8.9746e-04\n",
      "Epoch 28/100\n",
      "100/100 [==============================] - 1s 12ms/step - loss: 9.0013e-04\n",
      "Epoch 29/100\n",
      "100/100 [==============================] - 1s 13ms/step - loss: 8.9417e-04\n",
      "Epoch 30/100\n",
      "100/100 [==============================] - 1s 11ms/step - loss: 9.3895e-04\n",
      "Epoch 31/100\n",
      "100/100 [==============================] - 1s 13ms/step - loss: 8.6662e-04\n",
      "Epoch 32/100\n",
      "100/100 [==============================] - 1s 11ms/step - loss: 9.3935e-04\n",
      "Epoch 33/100\n",
      "100/100 [==============================] - 1s 11ms/step - loss: 9.1275e-04\n",
      "Epoch 34/100\n",
      "100/100 [==============================] - 1s 11ms/step - loss: 8.6103e-04\n",
      "Epoch 35/100\n",
      "100/100 [==============================] - 1s 12ms/step - loss: 9.4635e-04\n",
      "Epoch 36/100\n",
      "100/100 [==============================] - 1s 11ms/step - loss: 9.1809e-04\n",
      "Epoch 37/100\n",
      "100/100 [==============================] - 1s 11ms/step - loss: 7.5483e-04\n",
      "Epoch 38/100\n",
      "100/100 [==============================] - 1s 11ms/step - loss: 7.8997e-04\n",
      "Epoch 39/100\n",
      "100/100 [==============================] - 1s 11ms/step - loss: 7.4963e-04\n",
      "Epoch 40/100\n",
      "100/100 [==============================] - 1s 11ms/step - loss: 7.6437e-04\n",
      "Epoch 41/100\n",
      "100/100 [==============================] - 1s 11ms/step - loss: 6.9108e-04\n",
      "Epoch 42/100\n",
      "100/100 [==============================] - 1s 12ms/step - loss: 8.2594e-04\n",
      "Epoch 43/100\n",
      "100/100 [==============================] - 1s 11ms/step - loss: 7.4970e-04\n",
      "Epoch 44/100\n",
      "100/100 [==============================] - 1s 11ms/step - loss: 7.9508e-04\n",
      "Epoch 45/100\n",
      "100/100 [==============================] - 1s 13ms/step - loss: 6.7611e-04\n",
      "Epoch 46/100\n",
      "100/100 [==============================] - 1s 12ms/step - loss: 7.1118e-04\n",
      "Epoch 47/100\n",
      "100/100 [==============================] - 1s 11ms/step - loss: 7.3853e-04\n",
      "Epoch 48/100\n",
      "100/100 [==============================] - 1s 11ms/step - loss: 7.3229e-04: 0s - loss:\n",
      "Epoch 49/100\n",
      "100/100 [==============================] - 1s 11ms/step - loss: 7.4814e-04\n",
      "Epoch 50/100\n",
      "100/100 [==============================] - 1s 11ms/step - loss: 6.6755e-04\n",
      "Epoch 51/100\n",
      "100/100 [==============================] - 1s 11ms/step - loss: 7.6967e-04\n",
      "Epoch 52/100\n",
      "100/100 [==============================] - 1s 11ms/step - loss: 7.4644e-04\n",
      "Epoch 53/100\n",
      "100/100 [==============================] - 1s 11ms/step - loss: 6.6359e-04\n",
      "Epoch 54/100\n",
      "100/100 [==============================] - 1s 12ms/step - loss: 7.9631e-04\n",
      "Epoch 55/100\n",
      "100/100 [==============================] - 1s 11ms/step - loss: 6.5135e-04\n",
      "Epoch 56/100\n",
      "100/100 [==============================] - 1s 11ms/step - loss: 7.9485e-04\n",
      "Epoch 57/100\n",
      "100/100 [==============================] - 1s 12ms/step - loss: 6.4441e-04\n",
      "Epoch 58/100\n",
      "100/100 [==============================] - 1s 11ms/step - loss: 6.6416e-04\n",
      "Epoch 59/100\n",
      "100/100 [==============================] - 1s 12ms/step - loss: 7.4990e-04\n",
      "Epoch 60/100\n",
      "100/100 [==============================] - 1s 12ms/step - loss: 6.6887e-04\n",
      "Epoch 61/100\n",
      "100/100 [==============================] - 1s 11ms/step - loss: 6.0635e-04\n",
      "Epoch 62/100\n",
      "100/100 [==============================] - 1s 12ms/step - loss: 7.2951e-04\n",
      "Epoch 63/100\n",
      "100/100 [==============================] - 1s 12ms/step - loss: 6.9037e-04\n",
      "Epoch 64/100\n",
      "100/100 [==============================] - 1s 12ms/step - loss: 6.8014e-04\n",
      "Epoch 65/100\n",
      "100/100 [==============================] - 1s 13ms/step - loss: 6.1891e-04\n",
      "Epoch 66/100\n",
      "100/100 [==============================] - 1s 14ms/step - loss: 7.1232e-04\n",
      "Epoch 67/100\n",
      "100/100 [==============================] - 1s 13ms/step - loss: 6.5317e-04\n",
      "Epoch 68/100\n",
      "100/100 [==============================] - 1s 13ms/step - loss: 7.0095e-04\n",
      "Epoch 69/100\n",
      "100/100 [==============================] - 1s 13ms/step - loss: 7.8163e-04\n",
      "Epoch 70/100\n",
      "100/100 [==============================] - 1s 11ms/step - loss: 6.5183e-04\n",
      "Epoch 71/100\n",
      "100/100 [==============================] - 1s 12ms/step - loss: 5.9538e-04\n",
      "Epoch 72/100\n",
      "100/100 [==============================] - 1s 13ms/step - loss: 6.4300e-04\n",
      "Epoch 73/100\n",
      "100/100 [==============================] - 1s 13ms/step - loss: 6.0108e-04\n",
      "Epoch 74/100\n",
      "100/100 [==============================] - 1s 13ms/step - loss: 6.5296e-04\n",
      "Epoch 75/100\n",
      "100/100 [==============================] - 1s 12ms/step - loss: 7.5190e-04\n",
      "Epoch 76/100\n",
      "100/100 [==============================] - 1s 11ms/step - loss: 7.2172e-04\n",
      "Epoch 77/100\n",
      "100/100 [==============================] - 1s 13ms/step - loss: 6.9242e-04\n",
      "Epoch 78/100\n",
      "100/100 [==============================] - 1s 13ms/step - loss: 7.7260e-04\n",
      "Epoch 79/100\n",
      "100/100 [==============================] - 1s 11ms/step - loss: 7.0497e-04: 1s\n",
      "Epoch 80/100\n",
      "100/100 [==============================] - 1s 12ms/step - loss: 6.5796e-04\n",
      "Epoch 81/100\n",
      "100/100 [==============================] - 1s 11ms/step - loss: 6.8822e-04\n",
      "Epoch 82/100\n",
      "100/100 [==============================] - 1s 12ms/step - loss: 6.0253e-04\n",
      "Epoch 83/100\n",
      "100/100 [==============================] - 1s 12ms/step - loss: 6.3851e-04\n",
      "Epoch 84/100\n",
      "100/100 [==============================] - 1s 13ms/step - loss: 6.8450e-04\n",
      "Epoch 85/100\n",
      "100/100 [==============================] - 1s 14ms/step - loss: 6.5719e-04\n",
      "Epoch 86/100\n",
      "100/100 [==============================] - 1s 14ms/step - loss: 6.4660e-04\n",
      "Epoch 87/100\n",
      "100/100 [==============================] - 1s 13ms/step - loss: 6.3999e-04\n",
      "Epoch 88/100\n",
      "100/100 [==============================] - 1s 13ms/step - loss: 7.6419e-04\n",
      "Epoch 89/100\n",
      "100/100 [==============================] - 1s 11ms/step - loss: 7.1791e-04\n",
      "Epoch 90/100\n",
      "100/100 [==============================] - 1s 11ms/step - loss: 6.0118e-04\n",
      "Epoch 91/100\n",
      "100/100 [==============================] - 1s 11ms/step - loss: 6.2440e-04\n",
      "Epoch 92/100\n",
      "100/100 [==============================] - 1s 13ms/step - loss: 6.3920e-04\n",
      "Epoch 93/100\n",
      "100/100 [==============================] - 1s 12ms/step - loss: 6.1596e-04\n",
      "Epoch 94/100\n",
      "100/100 [==============================] - 1s 11ms/step - loss: 7.8724e-04\n",
      "Epoch 95/100\n",
      "100/100 [==============================] - 1s 12ms/step - loss: 6.5090e-04\n",
      "Epoch 96/100\n",
      "100/100 [==============================] - 1s 12ms/step - loss: 6.2205e-04\n",
      "Epoch 97/100\n",
      "100/100 [==============================] - 1s 12ms/step - loss: 6.0082e-04\n",
      "Epoch 98/100\n",
      "100/100 [==============================] - 1s 14ms/step - loss: 6.0108e-04\n",
      "Epoch 99/100\n",
      "100/100 [==============================] - 2s 15ms/step - loss: 7.4112e-04\n",
      "Epoch 100/100\n",
      "100/100 [==============================] - 1s 13ms/step - loss: 5.5367e-04\n"
     ]
    },
    {
     "data": {
      "text/plain": [
       "<keras.callbacks.History at 0x2295eb5d820>"
      ]
     },
     "execution_count": 28,
     "metadata": {},
     "output_type": "execute_result"
    }
   ],
   "source": [
    "# Initialising the RNN ( with five layers)\n",
    "regressor = Sequential()\n",
    "function = \"relu\"\n",
    "\n",
    "# Adding the first RNN layer and some Dropout regularization\n",
    "regressor.add(SimpleRNN(units = 50, activation=function, return_sequences = True, input_shape = (X_train.shape[1], 1)))\n",
    "regressor.add(Dropout(0.2))\n",
    "\n",
    "# Adding a second RNN layer and some Dropout regularization\n",
    "regressor.add(SimpleRNN(units = 50, activation=function, return_sequences = True))\n",
    "regressor.add(Dropout(0.2))\n",
    "\n",
    "# Adding a third RNN layer and some Dropout regularization\n",
    "regressor.add(SimpleRNN(units = 50, activation=function, return_sequences = True))\n",
    "regressor.add(Dropout(0.2))\n",
    "\n",
    "# Adding a fourth RNN layer and some Dropout regularization\n",
    "regressor.add(SimpleRNN(units = 50))\n",
    "regressor.add(Dropout(0.2))\n",
    "\n",
    "# Adding the output layer\n",
    "regressor.add(Dense(units = 1))\n",
    "\n",
    "# Compiling the RNN\n",
    "regressor.compile(optimizer = 'adam', loss = 'mean_squared_error')\n",
    "\n",
    "# Fitting the RNN to the Training set\n",
    "regressor.fit(X_train, y_train, epochs = 100, batch_size = 32)\n",
    "# epoch= 100"
   ]
  },
  {
   "cell_type": "markdown",
   "id": "c81a66d0-9fe0-4788-8927-100077d1df0b",
   "metadata": {},
   "source": [
    "## Prediction and Visualising RNN MOdel"
   ]
  },
  {
   "cell_type": "code",
   "execution_count": 29,
   "id": "ef7ef82d-4381-4009-bcbe-961004a2f671",
   "metadata": {},
   "outputs": [],
   "source": [
    "real_bitcoin_price = df_test.loc[:, [\"Close\"]].values"
   ]
  },
  {
   "cell_type": "code",
   "execution_count": 30,
   "id": "3dc49fd0-c97d-476f-851f-c3f594bba5b2",
   "metadata": {
    "tags": []
   },
   "outputs": [
    {
     "data": {
      "text/plain": [
       "(169, 1)"
      ]
     },
     "execution_count": 30,
     "metadata": {},
     "output_type": "execute_result"
    }
   ],
   "source": [
    "real_bitcoin_price.shape"
   ]
  },
  {
   "cell_type": "code",
   "execution_count": 33,
   "id": "5ec57d53-3033-4c9a-8fa7-3a7e5130eea2",
   "metadata": {
    "collapsed": true,
    "jupyter": {
     "outputs_hidden": true
    },
    "tags": []
   },
   "outputs": [
    {
     "data": {
      "text/plain": [
       "array([[0.55249086],\n",
       "       [0.55772764],\n",
       "       [0.55740422],\n",
       "       [0.5533348 ],\n",
       "       [0.5592388 ],\n",
       "       [0.57221232],\n",
       "       [0.59051167],\n",
       "       [0.59187503],\n",
       "       [0.59640357],\n",
       "       [0.59654173],\n",
       "       [0.59421713],\n",
       "       [0.59470852],\n",
       "       [0.59210502],\n",
       "       [0.59100011],\n",
       "       [0.59525446],\n",
       "       [0.60369351],\n",
       "       [0.61716021],\n",
       "       [0.64914343],\n",
       "       [0.67384463],\n",
       "       [0.67385057],\n",
       "       [0.67892735],\n",
       "       [0.68024039],\n",
       "       [0.68084302],\n",
       "       [0.69651464],\n",
       "       [0.70052826],\n",
       "       [0.69458021],\n",
       "       [0.70004918],\n",
       "       [0.71580039],\n",
       "       [0.71741905],\n",
       "       [0.7084437 ],\n",
       "       [0.70927773],\n",
       "       [0.72422676],\n",
       "       [0.76753678],\n",
       "       [0.812003  ],\n",
       "       [0.79945526],\n",
       "       [0.79212104],\n",
       "       [0.80150474],\n",
       "       [0.79861617],\n",
       "       [0.81251514],\n",
       "       [0.82998191],\n",
       "       [0.84890184],\n",
       "       [0.83524422],\n",
       "       [0.83350401],\n",
       "       [0.8531341 ],\n",
       "       [0.89021391],\n",
       "       [0.93198224],\n",
       "       [0.92982527],\n",
       "       [0.95552   ],\n",
       "       [0.97507504],\n",
       "       [0.96046821],\n",
       "       [0.96131948],\n",
       "       [0.98290869],\n",
       "       [0.99301119],\n",
       "       [0.90624301],\n",
       "       [0.88521422],\n",
       "       [0.90211779],\n",
       "       [0.93748554],\n",
       "       [0.9855956 ],\n",
       "       [1.00395773],\n",
       "       [0.98766752],\n",
       "       [1.00483324],\n",
       "       [0.99648462],\n",
       "       [0.98993559],\n",
       "       [0.9976068 ],\n",
       "       [1.00046753],\n",
       "       [0.98708404],\n",
       "       [0.95183121],\n",
       "       [0.9537857 ],\n",
       "       [0.93469444],\n",
       "       [0.96253148],\n",
       "       [0.99597827],\n",
       "       [0.99849081],\n",
       "       [1.00844173],\n",
       "       [1.04626936],\n",
       "       [1.17862873],\n",
       "       [1.19257592],\n",
       "       [1.21739089],\n",
       "       [1.22956798],\n",
       "       [1.21213001],\n",
       "       [1.2036681 ],\n",
       "       [1.22622801],\n",
       "       [1.20992972],\n",
       "       [1.25153622],\n",
       "       [1.31679814],\n",
       "       [1.40945851],\n",
       "       [1.40523324],\n",
       "       [1.38989696],\n",
       "       [1.46659353],\n",
       "       [1.50514271],\n",
       "       [1.52637237],\n",
       "       [1.60302246],\n",
       "       [1.74417902],\n",
       "       [1.66015993],\n",
       "       [1.68196639],\n",
       "       [1.81920456],\n",
       "       [1.98411132],\n",
       "       [2.07480939],\n",
       "       [2.10542396],\n",
       "       [2.07060029],\n",
       "       [1.7865118 ],\n",
       "       [1.81583228],\n",
       "       [1.8071579 ],\n",
       "       [2.00704767],\n",
       "       [1.95292868],\n",
       "       [1.92020743],\n",
       "       [1.8581009 ],\n",
       "       [1.87868411],\n",
       "       [1.92100242],\n",
       "       [1.83212244],\n",
       "       [1.71734986],\n",
       "       [1.66045986],\n",
       "       [1.68612392],\n",
       "       [1.6794091 ],\n",
       "       [1.73810219],\n",
       "       [1.66750932],\n",
       "       [1.62322211],\n",
       "       [1.65687714],\n",
       "       [1.82684035],\n",
       "       [1.77475263],\n",
       "       [1.74326354],\n",
       "       [1.75661292],\n",
       "       [1.80907252],\n",
       "       [1.90598654],\n",
       "       [1.95647503],\n",
       "       [1.96117648],\n",
       "       [2.07498981],\n",
       "       [2.0175965 ],\n",
       "       [2.14713588],\n",
       "       [2.43310251],\n",
       "       [2.38700005],\n",
       "       [2.4116944 ],\n",
       "       [2.48104147],\n",
       "       [2.46389532],\n",
       "       [2.53299072],\n",
       "       [2.49450456],\n",
       "       [2.54577724],\n",
       "       [2.65354184],\n",
       "       [2.70468269],\n",
       "       [2.76674701],\n",
       "       [2.93283883],\n",
       "       [2.97295239],\n",
       "       [2.8514215 ],\n",
       "       [2.55216619],\n",
       "       [2.59548681],\n",
       "       [2.60521472],\n",
       "       [2.43184   ],\n",
       "       [2.45646723],\n",
       "       [2.33599153],\n",
       "       [2.48307717],\n",
       "       [2.53397789],\n",
       "       [2.62837091],\n",
       "       [2.57467737],\n",
       "       [2.48695652],\n",
       "       [2.52111079],\n",
       "       [2.61729037],\n",
       "       [2.64750972],\n",
       "       [2.81333695],\n",
       "       [2.88611746],\n",
       "       [2.93282222],\n",
       "       [2.96175886],\n",
       "       [3.06487511],\n",
       "       [3.15097125],\n",
       "       [2.99737879],\n",
       "       [2.8843607 ],\n",
       "       [2.92697652],\n",
       "       [3.04759226],\n",
       "       [3.03774938],\n",
       "       [3.06366696],\n",
       "       [2.98717602],\n",
       "       [2.95971434],\n",
       "       [2.8511383 ],\n",
       "       [2.87305623],\n",
       "       [2.71663754],\n",
       "       [2.77487609],\n",
       "       [2.87663206],\n",
       "       [2.90996873],\n",
       "       [2.96629192],\n",
       "       [3.04101967],\n",
       "       [3.06337048]])"
      ]
     },
     "execution_count": 33,
     "metadata": {},
     "output_type": "execute_result"
    }
   ],
   "source": [
    "# Getting the predicted stock price of 2017\n",
    "df_total = pd.concat((df_train['Close'], df_test['Close']), axis = 0)\n",
    "inputs = df_total[len(df_total) - len(df_test) - time_step:].values.reshape(-1,1)\n",
    "inputs = scaler.transform(inputs)  # min max scaler\n",
    "inputs"
   ]
  },
  {
   "cell_type": "code",
   "execution_count": 34,
   "id": "d8c9d843-3b9f-4d01-9eed-7c67c34e4421",
   "metadata": {},
   "outputs": [
    {
     "data": {
      "image/png": "[encoded data removed]",
      "text/plain": [
       "<Figure size 432x288 with 1 Axes>"
      ]
     },
     "metadata": {
      "needs_background": "light"
     },
     "output_type": "display_data"
    }
   ],
   "source": [
    "X_test = []\n",
    "for i in range(time_step, inputs.shape[0]):\n",
    "    X_test.append(inputs[i-time_step:i, 0])\n",
    "X_test = np.array(X_test)\n",
    "X_test = np.reshape(X_test, (X_test.shape[0], X_test.shape[1], 1))\n",
    "predicted_bitcoin_price = regressor.predict(X_test)\n",
    "predicted_bitcoin_price = scaler.inverse_transform(predicted_bitcoin_price)\n",
    "\n",
    "# Visualising the results\n",
    "plt.plot(real_bitcoin_price, color = 'red', label = 'Real Bitcoin Price')\n",
    "plt.plot(predicted_bitcoin_price, color = 'blue', label = 'Predicted Bitcoin Price')\n",
    "plt.title('Bitcoin Price Prediction')\n",
    "plt.xlabel('Time')\n",
    "plt.ylabel('Bitcoin Price')\n",
    "plt.legend()\n",
    "plt.show()"
   ]
  },
  {
   "cell_type": "markdown",
   "id": "9162f012-19cc-4b4b-9718-acfe149e3000",
   "metadata": {},
   "source": [
    "# Long Short Time Memory (LSTM)"
   ]
  },
  {
   "cell_type": "markdown",
   "id": "4d088e0c-eaeb-4641-b8b6-ebdad68b251a",
   "metadata": {},
   "source": [
    "## Importing Libraries"
   ]
  },
  {
   "cell_type": "code",
   "execution_count": 35,
   "id": "996eca7f-17de-4aa9-890d-9bdab7969965",
   "metadata": {},
   "outputs": [],
   "source": [
    "import numpy as np\n",
    "import pandas as pd\n",
    "import matplotlib.pyplot as plt\n",
    "import math\n",
    "from keras.models import Sequential\n",
    "from keras.layers import Dense\n",
    "from keras.layers import LSTM\n",
    "from sklearn.preprocessing import MinMaxScaler\n",
    "from sklearn.metrics import mean_squared_error\n",
    "\n",
    "import warnings\n",
    "warnings.filterwarnings(\"ignore\")"
   ]
  },
  {
   "cell_type": "markdown",
   "id": "480ffad3-8e95-4a17-9c60-4b4129cb1a09",
   "metadata": {},
   "source": [
    "## Train and Test Split"
   ]
  },
  {
   "cell_type": "code",
   "execution_count": 36,
   "id": "bbed2fd0-2671-421d-8053-ee91d1cb70f5",
   "metadata": {},
   "outputs": [],
   "source": [
    "# We divide the data by Training %10, Test %10"
   ]
  },
  {
   "cell_type": "code",
   "execution_count": 40,
   "id": "02ae3a81-1608-48f5-830e-1198114709a3",
   "metadata": {
    "tags": []
   },
   "outputs": [
    {
     "name": "stdout",
     "output_type": "stream",
     "text": [
      "DF_Train size: 3038, DF_Test size: 338\n"
     ]
    }
   ],
   "source": [
    "train_size = int(len(grouped_data) * 0.90)\n",
    "test_size = len(grouped_data) - train_size\n",
    "df_train = grouped_data.iloc[0:train_size, :]\n",
    "df_test = grouped_data.iloc[train_size:len(grouped_data), :]\n",
    "print(\"DF_Train size: {}, DF_Test size: {}\". format(len(df_train), len(df_test)))"
   ]
  },
  {
   "cell_type": "markdown",
   "id": "589b9e61-087f-4199-8d5d-6249f6991587",
   "metadata": {},
   "source": [
    "## Visualizing Data"
   ]
  },
  {
   "cell_type": "code",
   "execution_count": 41,
   "id": "c54b9563-cbb8-4228-9c7a-7068f867009f",
   "metadata": {
    "tags": []
   },
   "outputs": [
    {
     "data": {
      "image/png": "[encoded data removed]",
      "text/plain": [
       "<Figure size 432x288 with 1 Axes>"
      ]
     },
     "metadata": {
      "needs_background": "light"
     },
     "output_type": "display_data"
    }
   ],
   "source": [
    "data_plot = df_train.loc[:, [\"Close\"]].values\n",
    "plt.plot(data_plot)\n",
    "plt.xlabel(\"Time\")\n",
    "plt.ylabel(\"Values of Close\")\n",
    "plt.title(\"Bitcoin Close Prices\")\n",
    "plt.show()"
   ]
  },
  {
   "cell_type": "code",
   "execution_count": 42,
   "id": "5e3a72ec-9fd1-4437-8eae-d88100abbd68",
   "metadata": {},
   "outputs": [],
   "source": [
    "#we will predict Close values"
   ]
  },
  {
   "cell_type": "code",
   "execution_count": 43,
   "id": "031a3447-d257-4a7c-8a09-89b0ae145b0d",
   "metadata": {},
   "outputs": [
    {
     "data": {
      "text/plain": [
       "(3038, 1)"
      ]
     },
     "execution_count": 43,
     "metadata": {},
     "output_type": "execute_result"
    }
   ],
   "source": [
    "dataset = df_train.loc[:, [\"Close\"]].values\n",
    "dataset.shape"
   ]
  },
  {
   "cell_type": "code",
   "execution_count": 44,
   "id": "328d713e-09ae-427e-86dc-87fe30439d05",
   "metadata": {},
   "outputs": [
    {
     "data": {
      "text/plain": [
       "(3038, 1)"
      ]
     },
     "execution_count": 44,
     "metadata": {},
     "output_type": "execute_result"
    }
   ],
   "source": [
    "#reshape\n",
    "dataset = dataset.reshape(-1, 1)\n",
    "\n",
    "#change type\n",
    "dataset = dataset.astype(\"float32\")\n",
    "dataset.shape"
   ]
  },
  {
   "cell_type": "markdown",
   "id": "fffc44c6-73e9-4b0c-986e-d884499295bf",
   "metadata": {},
   "source": [
    "## Scaling Data"
   ]
  },
  {
   "cell_type": "code",
   "execution_count": 45,
   "id": "e2c6f8fc-465c-4fbb-9813-7ddfde541b48",
   "metadata": {},
   "outputs": [],
   "source": [
    "# Feature Scaling\n",
    "from sklearn.preprocessing import MinMaxScaler\n",
    "scaler = MinMaxScaler(feature_range = (0, 1))\n",
    "data_scaled = scaler.fit_transform(dataset)"
   ]
  },
  {
   "cell_type": "code",
   "execution_count": 46,
   "id": "b485782f-94c5-495b-895d-e9e4725578a8",
   "metadata": {},
   "outputs": [
    {
     "data": {
      "image/png": "[encoded data removed]",
      "text/plain": [
       "<Figure size 432x288 with 1 Axes>"
      ]
     },
     "metadata": {
      "needs_background": "light"
     },
     "output_type": "display_data"
    }
   ],
   "source": [
    "plt.plot(data_scaled)\n",
    "plt.xlabel(\"Time\")\n",
    "plt.ylabel(\"Values of Close\")\n",
    "plt.title(\"Bitcoin Close Price (Scaled)\")\n",
    "plt.show()"
   ]
  },
  {
   "cell_type": "code",
   "execution_count": 47,
   "id": "98d8d7f6-900e-441f-97f7-b5a822e9cecb",
   "metadata": {},
   "outputs": [
    {
     "name": "stdout",
     "output_type": "stream",
     "text": [
      "data_scaled_train size: 1519\n",
      "data_scaled_test size: 1519\n",
      "data_scaled_train shape: (1519, 1)\n",
      "data_scaled_test shape: (1519, 1)\n"
     ]
    }
   ],
   "source": [
    "# We divide the DATA_SCALED by Training %50, Test %50\n",
    "train_size = int(len(data_scaled) * 0.50)\n",
    "test_size = len(data_scaled) - train_size\n",
    "data_scaled_train = data_scaled[0:train_size, :]\n",
    "data_scaled_test = data_scaled[train_size:len(data_scaled), :]\n",
    "\n",
    "print(\"data_scaled_train size: {}\\ndata_scaled_test size: {}\". format(len(data_scaled_train), len(data_scaled_test)))\n",
    "print(\"data_scaled_train shape: {}\\ndata_scaled_test shape: {}\". format(data_scaled_train.shape, data_scaled_test.shape))"
   ]
  },
  {
   "cell_type": "code",
   "execution_count": 48,
   "id": "0949ff43-b2e0-4b87-a9cb-36789efba16c",
   "metadata": {},
   "outputs": [
    {
     "name": "stdout",
     "output_type": "stream",
     "text": [
      "trainX shape: (1508, 10)\n",
      "trainY shape: (1508,)\n"
     ]
    }
   ],
   "source": [
    "# Creating a data structure with 10 time_step and 1 output (TRAIN)\n",
    "time_step = 10\n",
    "dataX = []\n",
    "dataY = []\n",
    "for i in range(len(data_scaled_train) - time_step - 1):\n",
    "    a = data_scaled_train[i:(i + time_step), 0]\n",
    "    dataX.append(a)\n",
    "    dataY.append(data_scaled_train[i + time_step, 0])\n",
    "trainX = np.array(dataX)\n",
    "trainY = np.array(dataY)\n",
    "\n",
    "print(\"trainX shape: {}\\ntrainY shape: {}\". format(trainX.shape, trainY.shape))"
   ]
  },
  {
   "cell_type": "code",
   "execution_count": 49,
   "id": "72ca7e0f-3127-4149-92eb-7afd29dfde52",
   "metadata": {},
   "outputs": [
    {
     "name": "stdout",
     "output_type": "stream",
     "text": [
      "testX shape: (1508, 10)\n",
      "testY shape: (1508,)\n"
     ]
    }
   ],
   "source": [
    "# Creating a data structure with 10 time_step and 1 output (TEST)\n",
    "dataX = []\n",
    "dataY = []\n",
    "for i in range(len(data_scaled_test) - time_step -1):\n",
    "    a = data_scaled_test[i:(i + time_step), 0]\n",
    "    dataX.append(a)\n",
    "    dataY.append(data_scaled_test[i + time_step, 0])\n",
    "testX = np.array(dataX)\n",
    "testY = np.array(dataY)\n",
    "\n",
    "print(\"testX shape: {}\\ntestY shape: {}\". format(testX.shape, testY.shape))"
   ]
  },
  {
   "cell_type": "code",
   "execution_count": 50,
   "id": "d8fbb543-f4b9-4850-b176-c17eea0c5af2",
   "metadata": {
    "tags": []
   },
   "outputs": [
    {
     "name": "stdout",
     "output_type": "stream",
     "text": [
      "X_train shape:  (1508, 1, 10)\n",
      "X_test shape:  (1508, 1, 10)\n"
     ]
    }
   ],
   "source": [
    "# Reshaping to 3D\n",
    "trainX = np.reshape(trainX, (trainX.shape[0], 1, trainX.shape[1]))\n",
    "testX = np.reshape(testX, (testX.shape[0], 1, testX.shape[1]))\n",
    "\n",
    "print(\"X_train shape: \",trainX.shape)\n",
    "print(\"X_test shape: \",testX.shape)"
   ]
  },
  {
   "cell_type": "markdown",
   "id": "a9ed7d83-455e-4c11-a541-c555543b948f",
   "metadata": {},
   "source": [
    "## Modeling (LSTM)"
   ]
  },
  {
   "cell_type": "code",
   "execution_count": 51,
   "id": "baf7037b-d1f0-426d-8082-73d841f8dd5b",
   "metadata": {},
   "outputs": [],
   "source": [
    "# Importing the Keras libraries and packages\n",
    "from keras.models import Sequential\n",
    "from keras.layers import Dense\n",
    "from keras.layers import LSTM\n",
    "from keras.layers import Dropout\n",
    "from keras.layers import Activation"
   ]
  },
  {
   "cell_type": "code",
   "execution_count": 52,
   "id": "6c71dd05-68aa-4709-b75b-f5fd68a1ecca",
   "metadata": {
    "tags": []
   },
   "outputs": [
    {
     "name": "stdout",
     "output_type": "stream",
     "text": [
      "Epoch 1/100\n",
      "31/31 [==============================] - 2s 4ms/step - loss: 8.2431e-05\n",
      "Epoch 2/100\n",
      "31/31 [==============================] - 0s 4ms/step - loss: 6.7202e-06\n",
      "Epoch 3/100\n",
      "31/31 [==============================] - 0s 4ms/step - loss: 4.8358e-06\n",
      "Epoch 4/100\n",
      "31/31 [==============================] - 0s 3ms/step - loss: 4.5072e-06\n",
      "Epoch 5/100\n",
      "31/31 [==============================] - 0s 3ms/step - loss: 4.8844e-06\n",
      "Epoch 6/100\n",
      "31/31 [==============================] - 0s 4ms/step - loss: 4.4337e-06\n",
      "Epoch 7/100\n",
      "31/31 [==============================] - 0s 3ms/step - loss: 4.1454e-06\n",
      "Epoch 8/100\n",
      "31/31 [==============================] - 0s 4ms/step - loss: 4.3257e-06\n",
      "Epoch 9/100\n",
      "31/31 [==============================] - 0s 4ms/step - loss: 4.5776e-06\n",
      "Epoch 10/100\n",
      "31/31 [==============================] - 0s 3ms/step - loss: 4.4349e-06\n",
      "Epoch 11/100\n",
      "31/31 [==============================] - 0s 3ms/step - loss: 3.6945e-06\n",
      "Epoch 12/100\n",
      "31/31 [==============================] - 0s 4ms/step - loss: 3.6684e-06\n",
      "Epoch 13/100\n",
      "31/31 [==============================] - 0s 4ms/step - loss: 4.1171e-06\n",
      "Epoch 14/100\n",
      "31/31 [==============================] - 0s 4ms/step - loss: 3.6512e-06\n",
      "Epoch 15/100\n",
      "31/31 [==============================] - 0s 4ms/step - loss: 3.6961e-06\n",
      "Epoch 16/100\n",
      "31/31 [==============================] - 0s 4ms/step - loss: 3.0969e-06\n",
      "Epoch 17/100\n",
      "31/31 [==============================] - 0s 4ms/step - loss: 3.6563e-06\n",
      "Epoch 18/100\n",
      "31/31 [==============================] - 0s 4ms/step - loss: 2.7874e-06\n",
      "Epoch 19/100\n",
      "31/31 [==============================] - 0s 4ms/step - loss: 2.9305e-06\n",
      "Epoch 20/100\n",
      "31/31 [==============================] - 0s 6ms/step - loss: 2.5226e-06\n",
      "Epoch 21/100\n",
      "31/31 [==============================] - 0s 5ms/step - loss: 3.0099e-06\n",
      "Epoch 22/100\n",
      "31/31 [==============================] - 0s 5ms/step - loss: 2.8024e-06\n",
      "Epoch 23/100\n",
      "31/31 [==============================] - 0s 5ms/step - loss: 2.4902e-06\n",
      "Epoch 24/100\n",
      "31/31 [==============================] - 0s 4ms/step - loss: 2.6422e-06\n",
      "Epoch 25/100\n",
      "31/31 [==============================] - 0s 4ms/step - loss: 2.4536e-06\n",
      "Epoch 26/100\n",
      "31/31 [==============================] - 0s 4ms/step - loss: 2.1177e-06\n",
      "Epoch 27/100\n",
      "31/31 [==============================] - 0s 4ms/step - loss: 2.4713e-06\n",
      "Epoch 28/100\n",
      "31/31 [==============================] - 0s 4ms/step - loss: 2.1095e-06\n",
      "Epoch 29/100\n",
      "31/31 [==============================] - 0s 4ms/step - loss: 2.1757e-06\n",
      "Epoch 30/100\n",
      "31/31 [==============================] - 0s 4ms/step - loss: 2.0706e-06\n",
      "Epoch 31/100\n",
      "31/31 [==============================] - 0s 4ms/step - loss: 2.0498e-06\n",
      "Epoch 32/100\n",
      "31/31 [==============================] - 0s 4ms/step - loss: 1.9976e-06\n",
      "Epoch 33/100\n",
      "31/31 [==============================] - 0s 4ms/step - loss: 1.7718e-06\n",
      "Epoch 34/100\n",
      "31/31 [==============================] - 0s 4ms/step - loss: 1.7899e-06\n",
      "Epoch 35/100\n",
      "31/31 [==============================] - 0s 4ms/step - loss: 1.5107e-06\n",
      "Epoch 36/100\n",
      "31/31 [==============================] - 0s 4ms/step - loss: 1.8220e-06\n",
      "Epoch 37/100\n",
      "31/31 [==============================] - 0s 4ms/step - loss: 2.1113e-06\n",
      "Epoch 38/100\n",
      "31/31 [==============================] - 0s 4ms/step - loss: 2.1674e-06\n",
      "Epoch 39/100\n",
      "31/31 [==============================] - 0s 4ms/step - loss: 1.8527e-06\n",
      "Epoch 40/100\n",
      "31/31 [==============================] - 0s 4ms/step - loss: 1.6410e-06\n",
      "Epoch 41/100\n",
      "31/31 [==============================] - 0s 4ms/step - loss: 1.7993e-06\n",
      "Epoch 42/100\n",
      "31/31 [==============================] - 0s 4ms/step - loss: 1.8666e-06\n",
      "Epoch 43/100\n",
      "31/31 [==============================] - 0s 4ms/step - loss: 1.9752e-06\n",
      "Epoch 44/100\n",
      "31/31 [==============================] - 0s 4ms/step - loss: 2.0962e-06\n",
      "Epoch 45/100\n",
      "31/31 [==============================] - 0s 4ms/step - loss: 1.8012e-06\n",
      "Epoch 46/100\n",
      "31/31 [==============================] - 0s 4ms/step - loss: 1.7575e-06\n",
      "Epoch 47/100\n",
      "31/31 [==============================] - 0s 4ms/step - loss: 1.6172e-06\n",
      "Epoch 48/100\n",
      "31/31 [==============================] - 0s 4ms/step - loss: 1.6717e-06\n",
      "Epoch 49/100\n",
      "31/31 [==============================] - 0s 4ms/step - loss: 1.8465e-06\n",
      "Epoch 50/100\n",
      "31/31 [==============================] - 0s 4ms/step - loss: 1.6656e-06\n",
      "Epoch 51/100\n",
      "31/31 [==============================] - 0s 4ms/step - loss: 1.8822e-06\n",
      "Epoch 52/100\n",
      "31/31 [==============================] - 0s 4ms/step - loss: 1.8472e-06\n",
      "Epoch 53/100\n",
      "31/31 [==============================] - 0s 4ms/step - loss: 1.9478e-06\n",
      "Epoch 54/100\n",
      "31/31 [==============================] - 0s 4ms/step - loss: 1.8284e-06\n",
      "Epoch 55/100\n",
      "31/31 [==============================] - 0s 4ms/step - loss: 1.5717e-06\n",
      "Epoch 56/100\n",
      "31/31 [==============================] - 0s 4ms/step - loss: 1.5938e-06\n",
      "Epoch 57/100\n",
      "31/31 [==============================] - 0s 4ms/step - loss: 2.0950e-06\n",
      "Epoch 58/100\n",
      "31/31 [==============================] - 0s 4ms/step - loss: 1.5858e-06\n",
      "Epoch 59/100\n",
      "31/31 [==============================] - 0s 4ms/step - loss: 1.4621e-06\n",
      "Epoch 60/100\n",
      "31/31 [==============================] - 0s 4ms/step - loss: 1.4835e-06\n",
      "Epoch 61/100\n",
      "31/31 [==============================] - 0s 4ms/step - loss: 1.7186e-06\n",
      "Epoch 62/100\n",
      "31/31 [==============================] - 0s 4ms/step - loss: 1.9673e-06\n",
      "Epoch 63/100\n",
      "31/31 [==============================] - 0s 4ms/step - loss: 1.5639e-06\n",
      "Epoch 64/100\n",
      "31/31 [==============================] - 0s 4ms/step - loss: 2.0470e-06\n",
      "Epoch 65/100\n",
      "31/31 [==============================] - 0s 4ms/step - loss: 1.5260e-06\n",
      "Epoch 66/100\n",
      "31/31 [==============================] - 0s 4ms/step - loss: 1.6881e-06\n",
      "Epoch 67/100\n",
      "31/31 [==============================] - 0s 4ms/step - loss: 1.5730e-06\n",
      "Epoch 68/100\n",
      "31/31 [==============================] - 0s 4ms/step - loss: 1.5780e-06\n",
      "Epoch 69/100\n",
      "31/31 [==============================] - 0s 4ms/step - loss: 1.7801e-06\n",
      "Epoch 70/100\n",
      "31/31 [==============================] - 0s 4ms/step - loss: 1.9096e-06\n",
      "Epoch 71/100\n",
      "31/31 [==============================] - 0s 4ms/step - loss: 1.5106e-06\n",
      "Epoch 72/100\n",
      "31/31 [==============================] - 0s 4ms/step - loss: 1.3394e-06\n",
      "Epoch 73/100\n",
      "31/31 [==============================] - 0s 4ms/step - loss: 1.3860e-06\n",
      "Epoch 74/100\n",
      "31/31 [==============================] - 0s 4ms/step - loss: 1.3014e-06\n",
      "Epoch 75/100\n",
      "31/31 [==============================] - 0s 4ms/step - loss: 1.3711e-06\n",
      "Epoch 76/100\n",
      "31/31 [==============================] - 0s 4ms/step - loss: 1.5226e-06\n",
      "Epoch 77/100\n",
      "31/31 [==============================] - 0s 4ms/step - loss: 1.5565e-06\n",
      "Epoch 78/100\n",
      "31/31 [==============================] - 0s 4ms/step - loss: 1.6412e-06\n",
      "Epoch 79/100\n",
      "31/31 [==============================] - 0s 4ms/step - loss: 1.8981e-06\n",
      "Epoch 80/100\n",
      "31/31 [==============================] - 0s 4ms/step - loss: 1.4018e-06\n",
      "Epoch 81/100\n",
      "31/31 [==============================] - 0s 4ms/step - loss: 1.4598e-06\n",
      "Epoch 82/100\n",
      "31/31 [==============================] - 0s 4ms/step - loss: 1.7522e-06\n",
      "Epoch 83/100\n",
      "31/31 [==============================] - 0s 4ms/step - loss: 1.3374e-06\n",
      "Epoch 84/100\n",
      "31/31 [==============================] - 0s 4ms/step - loss: 1.4568e-06\n",
      "Epoch 85/100\n",
      "31/31 [==============================] - 0s 4ms/step - loss: 1.3516e-06\n",
      "Epoch 86/100\n",
      "31/31 [==============================] - 0s 4ms/step - loss: 1.3383e-06\n",
      "Epoch 87/100\n",
      "31/31 [==============================] - 0s 5ms/step - loss: 1.2796e-06\n",
      "Epoch 88/100\n",
      "31/31 [==============================] - 0s 5ms/step - loss: 1.5282e-06\n",
      "Epoch 89/100\n",
      "31/31 [==============================] - 0s 5ms/step - loss: 1.4532e-06\n",
      "Epoch 90/100\n",
      "31/31 [==============================] - 0s 5ms/step - loss: 1.4414e-06\n",
      "Epoch 91/100\n",
      "31/31 [==============================] - 0s 5ms/step - loss: 1.5961e-06\n",
      "Epoch 92/100\n",
      "31/31 [==============================] - 0s 4ms/step - loss: 1.4092e-06\n",
      "Epoch 93/100\n",
      "31/31 [==============================] - 0s 4ms/step - loss: 1.4007e-06\n",
      "Epoch 94/100\n",
      "31/31 [==============================] - 0s 4ms/step - loss: 1.4860e-06\n",
      "Epoch 95/100\n",
      "31/31 [==============================] - 0s 4ms/step - loss: 1.3420e-06\n",
      "Epoch 96/100\n",
      "31/31 [==============================] - 0s 4ms/step - loss: 1.4906e-06\n",
      "Epoch 97/100\n",
      "31/31 [==============================] - 0s 4ms/step - loss: 1.5772e-06\n",
      "Epoch 98/100\n",
      "31/31 [==============================] - 0s 4ms/step - loss: 1.6713e-06\n",
      "Epoch 99/100\n",
      "31/31 [==============================] - 0s 4ms/step - loss: 1.2415e-06\n",
      "Epoch 100/100\n",
      "31/31 [==============================] - 0s 4ms/step - loss: 1.3701e-06\n"
     ]
    },
    {
     "data": {
      "text/plain": [
       "<keras.callbacks.History at 0x229a4c42910>"
      ]
     },
     "execution_count": 52,
     "metadata": {},
     "output_type": "execute_result"
    }
   ],
   "source": [
    "# model\n",
    "model = Sequential()\n",
    "model.add(LSTM(128, input_shape = (1, time_step))) # 10 LSTM neuron(block)\n",
    "model.add(Dropout(0.2))\n",
    "model.add(Dense(1))\n",
    "model.compile(loss= \"mean_squared_error\", optimizer = \"adam\")\n",
    "model.fit(trainX, trainY, epochs=100, batch_size=50)"
   ]
  },
  {
   "cell_type": "code",
   "execution_count": 53,
   "id": "c15187fc-f3e5-4b99-b0b4-a492123de70c",
   "metadata": {},
   "outputs": [
    {
     "name": "stdout",
     "output_type": "stream",
     "text": [
      "Model: \"sequential_1\"\n",
      "_________________________________________________________________\n",
      " Layer (type)                Output Shape              Param #   \n",
      "=================================================================\n",
      " lstm (LSTM)                 (None, 128)               71168     \n",
      "                                                                 \n",
      " dropout_4 (Dropout)         (None, 128)               0         \n",
      "                                                                 \n",
      " dense_1 (Dense)             (None, 1)                 129       \n",
      "                                                                 \n",
      "=================================================================\n",
      "Total params: 71,297\n",
      "Trainable params: 71,297\n",
      "Non-trainable params: 0\n",
      "_________________________________________________________________\n"
     ]
    }
   ],
   "source": [
    "model.summary()"
   ]
  },
  {
   "cell_type": "markdown",
   "id": "3237af75-4b0f-4c12-bc45-c3715d06d910",
   "metadata": {},
   "source": [
    "## Prediction and Visulazation"
   ]
  },
  {
   "cell_type": "code",
   "execution_count": 54,
   "id": "260836a5-c089-456e-9847-2015c1fdddb3",
   "metadata": {},
   "outputs": [
    {
     "name": "stdout",
     "output_type": "stream",
     "text": [
      "Train Score: 30.79 RMSE\n",
      "Test Score: 447.18 RMSE\n"
     ]
    }
   ],
   "source": [
    "trainPredict = model.predict(trainX)\n",
    "testPredict = model.predict(testX)\n",
    "\n",
    "# invert predictions\n",
    "trainPredict = scaler.inverse_transform(trainPredict)\n",
    "trainY_ = scaler.inverse_transform([trainY])\n",
    "testPredict = scaler.inverse_transform(testPredict)\n",
    "testY_ = scaler.inverse_transform([testY])\n",
    "\n",
    "# calculate root mean squared error\n",
    "trainscore = math.sqrt(mean_squared_error(trainY_[0], trainPredict[:, 0]))\n",
    "print(\"Train Score: %.2f RMSE\" % (trainscore))\n",
    "testscore = math.sqrt(mean_squared_error(testY_[0], testPredict[:, 0]))\n",
    "print(\"Test Score: %.2f RMSE\" % (testscore))"
   ]
  },
  {
   "cell_type": "code",
   "execution_count": 55,
   "id": "55f615db-38df-4b32-a641-c75e1633d875",
   "metadata": {},
   "outputs": [
    {
     "name": "stderr",
     "output_type": "stream",
     "text": [
      "No handles with labels found to put in legend.\n"
     ]
    },
    {
     "data": {
      "image/png": "[encoded data removed]",
      "text/plain": [
       "<Figure size 432x288 with 1 Axes>"
      ]
     },
     "metadata": {
      "needs_background": "light"
     },
     "output_type": "display_data"
    }
   ],
   "source": [
    "# shifting train\n",
    "trainPredictPlot = np.empty_like(data_scaled)\n",
    "trainPredictPlot[:, :] = np.nan\n",
    "trainPredictPlot[time_step:len(trainPredict) + time_step, :] = trainPredict\n",
    "# shifting test predictions for plotting\n",
    "testPredictPlot = np.empty_like(data_scaled)\n",
    "testPredictPlot[:, :] = np.nan\n",
    "testPredictPlot[len(trainPredict) + (time_step * 2) + 1:len(data_scaled) - 1, :] = testPredict\n",
    "# plot baseline and predictions\n",
    "plt.plot(scaler.inverse_transform(data_scaled))\n",
    "plt.plot(trainPredictPlot)\n",
    "plt.plot(testPredictPlot)\n",
    "#plt.xlim(2500,3200)\n",
    "plt.legend()\n",
    "plt.show()"
   ]
  },
  {
   "cell_type": "code",
   "execution_count": 56,
   "id": "87002a2a-7103-485e-afcb-5e47ccd1e1a0",
   "metadata": {},
   "outputs": [
    {
     "data": {
      "image/png": "[encoded data removed]",
      "text/plain": [
       "<Figure size 432x288 with 1 Axes>"
      ]
     },
     "metadata": {
      "needs_background": "light"
     },
     "output_type": "display_data"
    }
   ],
   "source": [
    "# Visualising the results\n",
    "plt.plot(scaler.inverse_transform(data_scaled), color = 'red', label = 'Real Bitcoin Price')\n",
    "plt.plot(testPredictPlot, color = 'blue', label = 'Predicted Bitcoin Price')\n",
    "plt.title('Bitcoin Price Prediction')\n",
    "plt.xlabel('Time')\n",
    "plt.ylabel('Bitcoin Price')\n",
    "plt.legend()\n",
    "plt.show()"
   ]
  }
 ],
 "metadata": {
  "kernelspec": {
   "display_name": "Python 3 (ipykernel)",
   "language": "python",
   "name": "python3"
  },
  "language_info": {
   "codemirror_mode": {
    "name": "ipython",
    "version": 3
   },
   "file_extension": ".py",
   "mimetype": "text/x-python",
   "name": "python",
   "nbconvert_exporter": "python",
   "pygments_lexer": "ipython3",
   "version": "3.8.8"
  }
 },
 "nbformat": 4,
 "nbformat_minor": 5
}

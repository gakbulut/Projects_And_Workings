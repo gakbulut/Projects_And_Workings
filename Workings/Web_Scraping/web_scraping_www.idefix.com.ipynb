{
 "cells": [
  {
   "cell_type": "markdown",
   "metadata": {
    "id": "RR66g0LiFu-V"
   },
   "source": [
    "# Web Scraping\n",
    "1. *https://www.idefix.com/kategori/Kitap/Bilim/Populer-Bilim/grupno=00206?ShowNotForSale=True*\n",
    "adresine gidin. Burada idefix.com sitesinde, Populer Bilim alanindaki kitaplar, satis rakamlarina gore siralanmistir. Bu listenin sadece ilk 10 sayfasinda yer alan kitaplari ve bu kitaplara ait bir kisim verileri derlemek istiyoruz.\n",
    "\n",
    "2. Once bir sonraki sayfa icin verilen linkleri, bunlari kullanarak ilk 10 sayfada verilen kitap linklerini derleyin.\n",
    "\n",
    "3. Her bir kitaba ait su bilgileri, bir data frame olarak bir araya getirin:\n",
    "--kitabin adi--yazari--Ilk Baski Yili--Barkod No--satis fiyati--puanlamasi(kac kisi puan vermis ve puan ortalamasi seklinde)--idefix.com sayfasinda verilen linki--derledigimiz ilk 10 sayfada yer alan diger kitaplar arasindaki satis siralamasi"
   ]
  },
  {
   "cell_type": "code",
   "execution_count": 1,
   "metadata": {},
   "outputs": [],
   "source": [
    "from fake_useragent import UserAgent\n",
    "import requests\n",
    "\n",
    "header = {'User-Agent':\"Mozilla/5.0 (Windows NT 10.0; Win64; x64) AppleWebKit/537.36 (KHTML, like Gecko) Chrome/95.0.4638.69 Safari/537.36\"}\n",
    "\n",
    "from bs4 import BeautifulSoup\n",
    "from urllib.parse import urljoin\n",
    "import pandas as pd"
   ]
  },
  {
   "cell_type": "code",
   "execution_count": 2,
   "metadata": {},
   "outputs": [
    {
     "data": {
      "text/plain": [
       "'https://www.idefix.com/kategori/Kitap/Bilim/Populer-Bilim/grupno=00206?ShowNotForSale=True'"
      ]
     },
     "execution_count": 2,
     "metadata": {},
     "output_type": "execute_result"
    }
   ],
   "source": [
    "base_site = \"https://www.idefix.com/kategori/Kitap/Bilim/Populer-Bilim/grupno=00206?ShowNotForSale=True\"\n",
    "base_site"
   ]
  },
  {
   "cell_type": "code",
   "execution_count": 3,
   "metadata": {},
   "outputs": [
    {
     "data": {
      "text/plain": [
       "200"
      ]
     },
     "execution_count": 3,
     "metadata": {},
     "output_type": "execute_result"
    }
   ],
   "source": [
    "response = requests.get(base_site, headers=header)\n",
    "html = response.content\n",
    "response.status_code"
   ]
  },
  {
   "cell_type": "code",
   "execution_count": 4,
   "metadata": {},
   "outputs": [
    {
     "data": {
      "text/plain": [
       "36"
      ]
     },
     "execution_count": 4,
     "metadata": {},
     "output_type": "execute_result"
    }
   ],
   "source": [
    "soup = BeautifulSoup(html, 'lxml')\n",
    "a_links= soup.find_all(\"a\", {\"class\": \"product-image\"})\n",
    "len(a_links)"
   ]
  },
  {
   "cell_type": "code",
   "execution_count": null,
   "metadata": {},
   "outputs": [],
   "source": []
  },
  {
   "cell_type": "code",
   "execution_count": 5,
   "metadata": {
    "tags": []
   },
   "outputs": [
    {
     "data": {
      "text/plain": [
       "'/Kitap/Hiperuzay/Michio-Kaku/Bilim/Populer-Bilim/urunno=0001936902001'"
      ]
     },
     "execution_count": 5,
     "metadata": {},
     "output_type": "execute_result"
    }
   ],
   "source": [
    "a_links[35].get(\"href\")"
   ]
  },
  {
   "cell_type": "code",
   "execution_count": 6,
   "metadata": {},
   "outputs": [
    {
     "data": {
      "text/plain": [
       "['https://www.idefix.com/Kitap/Dura-Mater/Serkan-Karaismailoglu/Bilim/Populer-Bilim/urunno=0001934377001',\n",
       " 'https://www.idefix.com/Kitap/Zamanin-Kisa-Tarihi/Bilim/Populer-Bilim/urunno=0000000562120',\n",
       " 'https://www.idefix.com/Kitap/Doganin-Isaretlerini-Okumanin-Kaybolmus-Sanati/Bilim/Populer-Bilim/urunno=0001785184001',\n",
       " 'https://www.idefix.com/Kitap/IFA-Insanin-Fabrika-Ayarlari-3Kitap-Sinirlari-Asmak/Bilim/Populer-Bilim/urunno=0001895030001',\n",
       " 'https://www.idefix.com/Kitap/IFA-Insanin-Fabrika-Ayarlari-1Kitap-Beden/Sinan-Canan/Bilim/Populer-Bilim/urunno=0001843838001']"
      ]
     },
     "execution_count": 6,
     "metadata": {},
     "output_type": "execute_result"
    }
   ],
   "source": [
    "note_urls = [urljoin(base_site, l.get('href')) for l in a_links]\n",
    "note_urls[:5]"
   ]
  },
  {
   "cell_type": "code",
   "execution_count": 7,
   "metadata": {},
   "outputs": [],
   "source": [
    "links = []\n",
    "\n",
    "for i in range(1,11):\n",
    "    if i == 1:\n",
    "        base_site = \"https://www.idefix.com/kategori/Kitap/Bilim/Populer-Bilim/grupno=00206?ShowNotForSale=True\"\n",
    "    else:        \n",
    "        base_site = \"https://www.idefix.com/kategori/Kitap/Bilim/Populer-Bilim/grupno=00206?ShowNotForSale=True&Page=\"+str(i)\n",
    "    response = requests.get(base_site)\n",
    "    html = response.content\n",
    "    soup = BeautifulSoup(html, \"lxml\")\n",
    "\n",
    "    a_links= soup.find_all(\"a\", {\"class\": \"product-image\"})\n",
    "    note_urls = [urljoin(base_site, l.get('href')) for l in a_links]\n",
    "    for k in range(len(note_urls)):\n",
    "        links.append(note_urls[k])"
   ]
  },
  {
   "cell_type": "code",
   "execution_count": 8,
   "metadata": {},
   "outputs": [
    {
     "data": {
      "text/plain": [
       "360"
      ]
     },
     "execution_count": 8,
     "metadata": {},
     "output_type": "execute_result"
    }
   ],
   "source": [
    "len(links)"
   ]
  },
  {
   "cell_type": "code",
   "execution_count": 9,
   "metadata": {
    "tags": []
   },
   "outputs": [],
   "source": [
    "links;"
   ]
  },
  {
   "cell_type": "code",
   "execution_count": 10,
   "metadata": {},
   "outputs": [
    {
     "data": {
      "text/plain": [
       "'https://www.idefix.com/Kitap/Gizlenen-Ufo-Temaslari-Ufolarla-Yasanan-Karsilasmalar-ve-ortbas-Edilen-Gercekler/Bilim/Populer-Bilim/urunno=0001947445001'"
      ]
     },
     "execution_count": 10,
     "metadata": {},
     "output_type": "execute_result"
    }
   ],
   "source": [
    "links[8]"
   ]
  },
  {
   "cell_type": "code",
   "execution_count": 11,
   "metadata": {},
   "outputs": [
    {
     "data": {
      "text/html": [
       "<div>\n",
       "<style scoped>\n",
       "    .dataframe tbody tr th:only-of-type {\n",
       "        vertical-align: middle;\n",
       "    }\n",
       "\n",
       "    .dataframe tbody tr th {\n",
       "        vertical-align: top;\n",
       "    }\n",
       "\n",
       "    .dataframe thead th {\n",
       "        text-align: right;\n",
       "    }\n",
       "</style>\n",
       "<table border=\"1\" class=\"dataframe\">\n",
       "  <thead>\n",
       "    <tr style=\"text-align: right;\">\n",
       "      <th></th>\n",
       "      <th>kitap_adi</th>\n",
       "      <th>yazar_adi</th>\n",
       "      <th>yayin_evi</th>\n",
       "      <th>ilk_baski_yili</th>\n",
       "      <th>barkod</th>\n",
       "      <th>satis_fiyati</th>\n",
       "      <th>puan_ortalamasi</th>\n",
       "      <th>puan_veren_kisi</th>\n",
       "    </tr>\n",
       "  </thead>\n",
       "  <tbody>\n",
       "    <tr>\n",
       "      <th>0</th>\n",
       "      <td>Dura Mater</td>\n",
       "      <td>Serkan Karaismailoğlu</td>\n",
       "      <td>Elma Yayınevi</td>\n",
       "      <td>2021</td>\n",
       "      <td>9786257112376</td>\n",
       "      <td>42,25</td>\n",
       "      <td>3/5</td>\n",
       "      <td>17</td>\n",
       "    </tr>\n",
       "    <tr>\n",
       "      <th>0</th>\n",
       "      <td>Zamanın Kısa Tarihi</td>\n",
       "      <td>Stephen Hawking</td>\n",
       "      <td>Alfa Yayıncılık</td>\n",
       "      <td>2017</td>\n",
       "      <td>9786051067582</td>\n",
       "      <td>20,8</td>\n",
       "      <td>4/5</td>\n",
       "      <td>151</td>\n",
       "    </tr>\n",
       "    <tr>\n",
       "      <th>0</th>\n",
       "      <td>Doğanın İşaretlerini Okumanın Kaybolmuş Sanatı</td>\n",
       "      <td>Tristan Gooley</td>\n",
       "      <td>Destek Yayınları</td>\n",
       "      <td>2018</td>\n",
       "      <td>9786053115076</td>\n",
       "      <td>26,4</td>\n",
       "      <td>4/5</td>\n",
       "      <td>44</td>\n",
       "    </tr>\n",
       "    <tr>\n",
       "      <th>0</th>\n",
       "      <td>İFA: İnsanın Fabrika Ayarları 3.Kitap - Sınırl...</td>\n",
       "      <td>Sinan Canan</td>\n",
       "      <td>Tuti Kitap</td>\n",
       "      <td>2020</td>\n",
       "      <td>9786059218733</td>\n",
       "      <td>24,0</td>\n",
       "      <td>3,5/5</td>\n",
       "      <td>24</td>\n",
       "    </tr>\n",
       "    <tr>\n",
       "      <th>0</th>\n",
       "      <td>İFA:İnsanın Fabrika Ayarları 1.Kitap-Beden</td>\n",
       "      <td>Sinan Canan</td>\n",
       "      <td>Tuti Kitap</td>\n",
       "      <td>2019</td>\n",
       "      <td>9786059218603</td>\n",
       "      <td>24,0</td>\n",
       "      <td>3,5/5</td>\n",
       "      <td>49</td>\n",
       "    </tr>\n",
       "    <tr>\n",
       "      <th>...</th>\n",
       "      <td>...</td>\n",
       "      <td>...</td>\n",
       "      <td>...</td>\n",
       "      <td>...</td>\n",
       "      <td>...</td>\n",
       "      <td>...</td>\n",
       "      <td>...</td>\n",
       "      <td>...</td>\n",
       "    </tr>\n",
       "    <tr>\n",
       "      <th>0</th>\n",
       "      <td>Sonsuz Yaşamın Sırrı ve Bilim Üzerine İlgi Çek...</td>\n",
       "      <td>Alok Jha</td>\n",
       "      <td>İthaki Yayınları</td>\n",
       "      <td>2014</td>\n",
       "      <td>9786053753889</td>\n",
       "      <td>25,2</td>\n",
       "      <td>0/5</td>\n",
       "      <td>0</td>\n",
       "    </tr>\n",
       "    <tr>\n",
       "      <th>0</th>\n",
       "      <td>Depremler Doğal Afet Midir? - Depremlerle Baş ...</td>\n",
       "      <td>Süleyman Pampal</td>\n",
       "      <td>Efil Yayınevi Yayınları</td>\n",
       "      <td>2010</td>\n",
       "      <td>9786054160273</td>\n",
       "      <td>48,0</td>\n",
       "      <td>0/5</td>\n",
       "      <td>0</td>\n",
       "    </tr>\n",
       "    <tr>\n",
       "      <th>0</th>\n",
       "      <td>Dünya Beni Bekler Mi?</td>\n",
       "      <td>Gül Sevin Pekmezci</td>\n",
       "      <td>Kent Kitap</td>\n",
       "      <td>2011</td>\n",
       "      <td>9789944915342</td>\n",
       "      <td>23,1</td>\n",
       "      <td>0/5</td>\n",
       "      <td>0</td>\n",
       "    </tr>\n",
       "    <tr>\n",
       "      <th>0</th>\n",
       "      <td>Tanrı Beyni - Beyin Neden İnanç Üretir?</td>\n",
       "      <td>Lionel Tiger ,</td>\n",
       "      <td>Alfa Yayıncılık</td>\n",
       "      <td>2011</td>\n",
       "      <td>9786051063713</td>\n",
       "      <td>18,2</td>\n",
       "      <td>3,5/5</td>\n",
       "      <td>9</td>\n",
       "    </tr>\n",
       "    <tr>\n",
       "      <th>0</th>\n",
       "      <td>Çevreci Bilim Kitapları (6 Kitap Takım)</td>\n",
       "      <td>Vijita Mukherjee</td>\n",
       "      <td>Damla Yayınevi</td>\n",
       "      <td>2013</td>\n",
       "      <td>9786053830849</td>\n",
       "      <td>25,2</td>\n",
       "      <td>0/5</td>\n",
       "      <td>0</td>\n",
       "    </tr>\n",
       "  </tbody>\n",
       "</table>\n",
       "<p>360 rows × 8 columns</p>\n",
       "</div>"
      ],
      "text/plain": [
       "                                            kitap_adi              yazar_adi  \\\n",
       "0                                          Dura Mater  Serkan Karaismailoğlu   \n",
       "0                                 Zamanın Kısa Tarihi        Stephen Hawking   \n",
       "0      Doğanın İşaretlerini Okumanın Kaybolmuş Sanatı         Tristan Gooley   \n",
       "0   İFA: İnsanın Fabrika Ayarları 3.Kitap - Sınırl...            Sinan Canan   \n",
       "0          İFA:İnsanın Fabrika Ayarları 1.Kitap-Beden            Sinan Canan   \n",
       "..                                                ...                    ...   \n",
       "0   Sonsuz Yaşamın Sırrı ve Bilim Üzerine İlgi Çek...               Alok Jha   \n",
       "0   Depremler Doğal Afet Midir? - Depremlerle Baş ...        Süleyman Pampal   \n",
       "0                               Dünya Beni Bekler Mi?     Gül Sevin Pekmezci   \n",
       "0             Tanrı Beyni - Beyin Neden İnanç Üretir?         Lionel Tiger ,   \n",
       "0             Çevreci Bilim Kitapları (6 Kitap Takım)       Vijita Mukherjee   \n",
       "\n",
       "                  yayin_evi ilk_baski_yili         barkod satis_fiyati  \\\n",
       "0             Elma Yayınevi           2021  9786257112376        42,25   \n",
       "0           Alfa Yayıncılık           2017  9786051067582         20,8   \n",
       "0          Destek Yayınları           2018  9786053115076         26,4   \n",
       "0                Tuti Kitap           2020  9786059218733         24,0   \n",
       "0                Tuti Kitap           2019  9786059218603         24,0   \n",
       "..                      ...            ...            ...          ...   \n",
       "0          İthaki Yayınları           2014  9786053753889         25,2   \n",
       "0   Efil Yayınevi Yayınları           2010  9786054160273         48,0   \n",
       "0                Kent Kitap           2011  9789944915342         23,1   \n",
       "0           Alfa Yayıncılık           2011  9786051063713         18,2   \n",
       "0            Damla Yayınevi           2013  9786053830849         25,2   \n",
       "\n",
       "   puan_ortalamasi puan_veren_kisi  \n",
       "0              3/5              17  \n",
       "0              4/5             151  \n",
       "0              4/5              44  \n",
       "0            3,5/5              24  \n",
       "0            3,5/5              49  \n",
       "..             ...             ...  \n",
       "0              0/5               0  \n",
       "0              0/5               0  \n",
       "0              0/5               0  \n",
       "0            3,5/5               9  \n",
       "0              0/5               0  \n",
       "\n",
       "[360 rows x 8 columns]"
      ]
     },
     "execution_count": 11,
     "metadata": {},
     "output_type": "execute_result"
    }
   ],
   "source": [
    "df = pd.DataFrame()\n",
    "\n",
    "for i in links:\n",
    "    response = requests.get(i)\n",
    "    html = response.content\n",
    "    soup = BeautifulSoup(html, \"lxml\")\n",
    "    \n",
    "    try:\n",
    "        kitap_adi = soup.find(\"div\", class_ = \"product-info-list\").find(text=\"Kitap Adı:\").findNext(\"a\").text\n",
    "    except Exception:\n",
    "        kitap_adi = \"NAN\"           \n",
    "\n",
    "    try:\n",
    "        yazar_adi = soup.find(\"div\", class_ = \"product-info-list\").find(text=\"Yazar: \").findNext(\"a\").text.strip()              \n",
    "    except Exception:\n",
    "        yazar_adi = \"NAN\"\n",
    "                \n",
    "    try:\n",
    "        yayin_evi = soup.find(\"div\" , class_ = \"publisher\").text.split(\":\")[1].strip()\n",
    "    except Exception:\n",
    "        yayin_evi = \"NAN\"\n",
    "        \n",
    "    try:\n",
    "        ilk_baski_yili = soup.find(\"div\", class_ = \"product-info-list\").find(text=\"İlk Baskı Yılı:\").findNext(\"a\").text\n",
    "    except Exception:\n",
    "        ilk_baski_yili = \"NAN\"           \n",
    "\n",
    "    try:\n",
    "        barkod = soup.find(\"div\", class_ = \"product-info-list\").find(text=\"Barkod:\").findNext(\"a\").text\n",
    "    except Exception:\n",
    "        barkod = \"NAN\"\n",
    "                \n",
    "    try:\n",
    "        satis_fiyati = soup.find(\"div\", {\"class\" : \"current-price\"}).text.strip(\" TL\")\n",
    "    except Exception:\n",
    "        satis_fiyati = \"NAN\"\n",
    "        \n",
    "    try:\n",
    "        puan_ortalamasi = soup.find(\"div\", {\"class\" : \"rate\"}).findNext(\"span\").text.split()[0]\n",
    "    except Exception:\n",
    "        puan_ortalamasi = \"NAN\"\n",
    "                \n",
    "    try:\n",
    "        puan_veren_kisi = soup.find(\"div\", {\"class\" : \"rate\"}).findNext(\"span\").text.split()[2]\n",
    "    except Exception:\n",
    "        puan_veren_kisi = \"NAN\"\n",
    "        \n",
    "    df_link = pd.DataFrame([kitap_adi, yazar_adi, yayin_evi, ilk_baski_yili, barkod, satis_fiyati, \n",
    "                            puan_ortalamasi, puan_veren_kisi], \n",
    "                           index = [\"kitap_adi\", \"yazar_adi\", \"yayin_evi\", \"ilk_baski_yili\", \"barkod\", \n",
    "                                    \"satis_fiyati\", \"puan_ortalamasi\", \"puan_veren_kisi\"]).T\n",
    "    df = pd.concat((df,df_link), axis = 0)\n",
    "df"
   ]
  },
  {
   "cell_type": "code",
   "execution_count": 27,
   "metadata": {},
   "outputs": [],
   "source": [
    "df = df.reset_index(drop=True)"
   ]
  },
  {
   "cell_type": "code",
   "execution_count": 28,
   "metadata": {},
   "outputs": [
    {
     "data": {
      "text/plain": [
       "(360, 8)"
      ]
     },
     "execution_count": 28,
     "metadata": {},
     "output_type": "execute_result"
    }
   ],
   "source": [
    "df.shape"
   ]
  },
  {
   "cell_type": "code",
   "execution_count": 29,
   "metadata": {},
   "outputs": [],
   "source": [
    "# ilk 10 sayfadaki 360 adet kitaba ait verileri çekerek DataFrame olarak düzenlemiş olduk."
   ]
  },
  {
   "cell_type": "code",
   "execution_count": 30,
   "metadata": {},
   "outputs": [
    {
     "data": {
      "text/html": [
       "<div>\n",
       "<style scoped>\n",
       "    .dataframe tbody tr th:only-of-type {\n",
       "        vertical-align: middle;\n",
       "    }\n",
       "\n",
       "    .dataframe tbody tr th {\n",
       "        vertical-align: top;\n",
       "    }\n",
       "\n",
       "    .dataframe thead th {\n",
       "        text-align: right;\n",
       "    }\n",
       "</style>\n",
       "<table border=\"1\" class=\"dataframe\">\n",
       "  <thead>\n",
       "    <tr style=\"text-align: right;\">\n",
       "      <th></th>\n",
       "      <th>kitap_adi</th>\n",
       "      <th>yazar_adi</th>\n",
       "      <th>yayin_evi</th>\n",
       "      <th>ilk_baski_yili</th>\n",
       "      <th>barkod</th>\n",
       "      <th>satis_fiyati</th>\n",
       "      <th>puan_ortalamasi</th>\n",
       "      <th>puan_veren_kisi</th>\n",
       "    </tr>\n",
       "  </thead>\n",
       "  <tbody>\n",
       "    <tr>\n",
       "      <th>21</th>\n",
       "      <td>Karanlık Bir Dünyada Bilimin Mum Isıgı</td>\n",
       "      <td>Carl Sagan</td>\n",
       "      <td>Say Yayınları</td>\n",
       "      <td>2020</td>\n",
       "      <td>9786050207743</td>\n",
       "      <td>45,5</td>\n",
       "      <td>5/5</td>\n",
       "      <td>6</td>\n",
       "    </tr>\n",
       "    <tr>\n",
       "      <th>37</th>\n",
       "      <td>Hayvanların Ne Kadar Zeki Olduğunu Anlayacak K...</td>\n",
       "      <td>Frans De Waal</td>\n",
       "      <td>Metis Yayıncılık</td>\n",
       "      <td>2017</td>\n",
       "      <td>9786053161073</td>\n",
       "      <td>33,5</td>\n",
       "      <td>5/5</td>\n",
       "      <td>4</td>\n",
       "    </tr>\n",
       "    <tr>\n",
       "      <th>253</th>\n",
       "      <td>Evrenin Karanlığında Evrimin Işığı</td>\n",
       "      <td>NAN</td>\n",
       "      <td>Ginko Bilim</td>\n",
       "      <td>NAN</td>\n",
       "      <td>9786058111110</td>\n",
       "      <td>49,0</td>\n",
       "      <td>5/5</td>\n",
       "      <td>4</td>\n",
       "    </tr>\n",
       "    <tr>\n",
       "      <th>32</th>\n",
       "      <td>Bilim Nasıl Çalışır?</td>\n",
       "      <td>Kolektif</td>\n",
       "      <td>Alfa Yayıncılık</td>\n",
       "      <td>2019</td>\n",
       "      <td>9786051068688</td>\n",
       "      <td>90,0</td>\n",
       "      <td>5/5</td>\n",
       "      <td>2</td>\n",
       "    </tr>\n",
       "    <tr>\n",
       "      <th>66</th>\n",
       "      <td>Hayal Gücü</td>\n",
       "      <td>Jonah Lehrer</td>\n",
       "      <td>Boğaziçi Üniversitesi Yayınevi</td>\n",
       "      <td>2016</td>\n",
       "      <td>9786054787739</td>\n",
       "      <td>19,25</td>\n",
       "      <td>5/5</td>\n",
       "      <td>2</td>\n",
       "    </tr>\n",
       "    <tr>\n",
       "      <th>...</th>\n",
       "      <td>...</td>\n",
       "      <td>...</td>\n",
       "      <td>...</td>\n",
       "      <td>...</td>\n",
       "      <td>...</td>\n",
       "      <td>...</td>\n",
       "      <td>...</td>\n",
       "      <td>...</td>\n",
       "    </tr>\n",
       "    <tr>\n",
       "      <th>355</th>\n",
       "      <td>Sonsuz Yaşamın Sırrı ve Bilim Üzerine İlgi Çek...</td>\n",
       "      <td>Alok Jha</td>\n",
       "      <td>İthaki Yayınları</td>\n",
       "      <td>2014</td>\n",
       "      <td>9786053753889</td>\n",
       "      <td>25,2</td>\n",
       "      <td>0/5</td>\n",
       "      <td>0</td>\n",
       "    </tr>\n",
       "    <tr>\n",
       "      <th>356</th>\n",
       "      <td>Depremler Doğal Afet Midir? - Depremlerle Baş ...</td>\n",
       "      <td>Süleyman Pampal</td>\n",
       "      <td>Efil Yayınevi Yayınları</td>\n",
       "      <td>2010</td>\n",
       "      <td>9786054160273</td>\n",
       "      <td>48,0</td>\n",
       "      <td>0/5</td>\n",
       "      <td>0</td>\n",
       "    </tr>\n",
       "    <tr>\n",
       "      <th>357</th>\n",
       "      <td>Dünya Beni Bekler Mi?</td>\n",
       "      <td>Gül Sevin Pekmezci</td>\n",
       "      <td>Kent Kitap</td>\n",
       "      <td>2011</td>\n",
       "      <td>9789944915342</td>\n",
       "      <td>23,1</td>\n",
       "      <td>0/5</td>\n",
       "      <td>0</td>\n",
       "    </tr>\n",
       "    <tr>\n",
       "      <th>359</th>\n",
       "      <td>Çevreci Bilim Kitapları (6 Kitap Takım)</td>\n",
       "      <td>Vijita Mukherjee</td>\n",
       "      <td>Damla Yayınevi</td>\n",
       "      <td>2013</td>\n",
       "      <td>9786053830849</td>\n",
       "      <td>25,2</td>\n",
       "      <td>0/5</td>\n",
       "      <td>0</td>\n",
       "    </tr>\n",
       "    <tr>\n",
       "      <th>247</th>\n",
       "      <td>Paralel Evrenler</td>\n",
       "      <td>Thomas Lepeltier</td>\n",
       "      <td>Grifin Kitap</td>\n",
       "      <td>2013</td>\n",
       "      <td>9786058688872</td>\n",
       "      <td>19,5</td>\n",
       "      <td>0,5/5</td>\n",
       "      <td>1</td>\n",
       "    </tr>\n",
       "  </tbody>\n",
       "</table>\n",
       "<p>360 rows × 8 columns</p>\n",
       "</div>"
      ],
      "text/plain": [
       "                                             kitap_adi           yazar_adi  \\\n",
       "21              Karanlık Bir Dünyada Bilimin Mum Isıgı          Carl Sagan   \n",
       "37   Hayvanların Ne Kadar Zeki Olduğunu Anlayacak K...       Frans De Waal   \n",
       "253                 Evrenin Karanlığında Evrimin Işığı                 NAN   \n",
       "32                                Bilim Nasıl Çalışır?            Kolektif   \n",
       "66                                          Hayal Gücü        Jonah Lehrer   \n",
       "..                                                 ...                 ...   \n",
       "355  Sonsuz Yaşamın Sırrı ve Bilim Üzerine İlgi Çek...            Alok Jha   \n",
       "356  Depremler Doğal Afet Midir? - Depremlerle Baş ...     Süleyman Pampal   \n",
       "357                              Dünya Beni Bekler Mi?  Gül Sevin Pekmezci   \n",
       "359            Çevreci Bilim Kitapları (6 Kitap Takım)    Vijita Mukherjee   \n",
       "247                                   Paralel Evrenler    Thomas Lepeltier   \n",
       "\n",
       "                          yayin_evi ilk_baski_yili         barkod  \\\n",
       "21                    Say Yayınları           2020  9786050207743   \n",
       "37                 Metis Yayıncılık           2017  9786053161073   \n",
       "253                     Ginko Bilim            NAN  9786058111110   \n",
       "32                  Alfa Yayıncılık           2019  9786051068688   \n",
       "66   Boğaziçi Üniversitesi Yayınevi           2016  9786054787739   \n",
       "..                              ...            ...            ...   \n",
       "355                İthaki Yayınları           2014  9786053753889   \n",
       "356         Efil Yayınevi Yayınları           2010  9786054160273   \n",
       "357                      Kent Kitap           2011  9789944915342   \n",
       "359                  Damla Yayınevi           2013  9786053830849   \n",
       "247                    Grifin Kitap           2013  9786058688872   \n",
       "\n",
       "    satis_fiyati puan_ortalamasi puan_veren_kisi  \n",
       "21          45,5             5/5               6  \n",
       "37          33,5             5/5               4  \n",
       "253         49,0             5/5               4  \n",
       "32          90,0             5/5               2  \n",
       "66         19,25             5/5               2  \n",
       "..           ...             ...             ...  \n",
       "355         25,2             0/5               0  \n",
       "356         48,0             0/5               0  \n",
       "357         23,1             0/5               0  \n",
       "359         25,2             0/5               0  \n",
       "247         19,5           0,5/5               1  \n",
       "\n",
       "[360 rows x 8 columns]"
      ]
     },
     "execution_count": 30,
     "metadata": {},
     "output_type": "execute_result"
    }
   ],
   "source": [
    "# en yüksek puana ve akabinde en çok puan veren kişi sayısına göre sıraladık.\n",
    "\n",
    "df.sort_values(by = [\"puan_ortalamasi\", \"puan_veren_kisi\"], ascending = False)"
   ]
  }
 ],
 "metadata": {
  "colab": {
   "name": "Scraping HTML Tables: BeautifulSoup vs good old Pandas_Lecture_3",
   "provenance": []
  },
  "kernelspec": {
   "display_name": "Python 3 (ipykernel)",
   "language": "python",
   "name": "python3"
  },
  "language_info": {
   "codemirror_mode": {
    "name": "ipython",
    "version": 3
   },
   "file_extension": ".py",
   "mimetype": "text/x-python",
   "name": "python",
   "nbconvert_exporter": "python",
   "pygments_lexer": "ipython3",
   "version": "3.9.7"
  }
 },
 "nbformat": 4,
 "nbformat_minor": 4
}

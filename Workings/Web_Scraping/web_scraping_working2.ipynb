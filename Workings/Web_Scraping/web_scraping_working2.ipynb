{
 "cells": [
  {
   "cell_type": "code",
   "execution_count": 1,
   "id": "7c474ffa-e9ec-4b04-987c-b05ee71173bc",
   "metadata": {},
   "outputs": [],
   "source": [
    "import requests\n",
    "from bs4 import BeautifulSoup\n",
    "from urllib.parse import urljoin"
   ]
  },
  {
   "cell_type": "code",
   "execution_count": 6,
   "id": "3639dbb8-b992-4071-84e7-396d8fb1987c",
   "metadata": {},
   "outputs": [
    {
     "data": {
      "text/plain": [
       "200"
      ]
     },
     "execution_count": 6,
     "metadata": {},
     "output_type": "execute_result"
    }
   ],
   "source": [
    "base_site = \"https://editorial.rottentomatoes.com/guide/best-sports-movie-of-all-time/\"\n",
    "\n",
    "response = requests.get(base_site)\n",
    "response.status_code"
   ]
  },
  {
   "cell_type": "code",
   "execution_count": 3,
   "id": "2b3a6c58-5a42-4319-8ecf-e221f3b2d0a7",
   "metadata": {},
   "outputs": [],
   "source": [
    "html = response.content\n",
    "soup = BeautifulSoup(html, \"lxml\")"
   ]
  },
  {
   "cell_type": "markdown",
   "id": "342d82d6-e6c4-479a-a0d6-89f3acb39fc3",
   "metadata": {},
   "source": [
    "1. Name of the movie"
   ]
  },
  {
   "cell_type": "code",
   "execution_count": 12,
   "id": "43f5411d-6e8a-4bda-95de-e922d7e13213",
   "metadata": {},
   "outputs": [
    {
     "data": {
      "text/plain": [
       "<div class=\"article_movie_title\" style=\"float: left;\">\n",
       "<div><h2><a href=\"https://www.rottentomatoes.com/m/blue_crush\">Blue Crush</a> <span class=\"subtle start-year\">(2002)</span> <span class=\"icon tiny fresh\" title=\"Fresh\"></span> <span class=\"tMeterScore\">62%</span></h2></div>\n",
       "</div>"
      ]
     },
     "execution_count": 12,
     "metadata": {},
     "output_type": "execute_result"
    }
   ],
   "source": [
    "div_notes = soup.find_all(\"div\", {\"class\": \"article_movie_title\"})\n",
    "div_notes[0]"
   ]
  },
  {
   "cell_type": "code",
   "execution_count": 5,
   "id": "3cbf212d-3570-4345-b0cb-bc4963d3b2a2",
   "metadata": {},
   "outputs": [
    {
     "data": {
      "text/plain": [
       "'Blue Crush'"
      ]
     },
     "execution_count": 5,
     "metadata": {},
     "output_type": "execute_result"
    }
   ],
   "source": [
    "film_names = div_notes[0].find('a').text\n",
    "film_names"
   ]
  },
  {
   "cell_type": "markdown",
   "id": "91a9c49f-d1a4-4e2e-a671-3f685cf5eb81",
   "metadata": {},
   "source": [
    "2. Year it was produced"
   ]
  },
  {
   "cell_type": "code",
   "execution_count": 10,
   "id": "22b4c388-f85e-40ec-837f-796a5548e288",
   "metadata": {},
   "outputs": [
    {
     "data": {
      "text/plain": [
       "'2002'"
      ]
     },
     "execution_count": 10,
     "metadata": {},
     "output_type": "execute_result"
    }
   ],
   "source": [
    "film_year = div_notes[0].find('span').text.strip(\"()\")\n",
    "film_year"
   ]
  },
  {
   "cell_type": "markdown",
   "id": "0620db1f-a2ef-45bc-9897-14a8062a3071",
   "metadata": {},
   "source": [
    "3. Score"
   ]
  },
  {
   "cell_type": "code",
   "execution_count": 16,
   "id": "4c374e53-910c-4506-af61-bf5bb0651cd4",
   "metadata": {},
   "outputs": [
    {
     "data": {
      "text/plain": [
       "'%62'"
      ]
     },
     "execution_count": 16,
     "metadata": {},
     "output_type": "execute_result"
    }
   ],
   "source": [
    "film_score = div_notes[0].find('span', {\"class\":\"tMeterScore\"}).text\n",
    "film_score = \"%\"+film_score[:-1]\n",
    "film_score"
   ]
  },
  {
   "cell_type": "markdown",
   "id": "3eff2548-9751-4720-93c2-d0fa28b9b7d6",
   "metadata": {},
   "source": [
    "4. Director"
   ]
  },
  {
   "cell_type": "code",
   "execution_count": 17,
   "id": "3c4319fd-494e-41b4-a1ef-5a24d1ffc1fa",
   "metadata": {},
   "outputs": [
    {
     "data": {
      "text/plain": [
       "[<div class=\"info director\">\n",
       " <span class=\"descriptor\">Directed By:</span> <a class=\"\" href=\"//www.rottentomatoes.com/celebrity/john_stockwell\">John Stockwell</a></div>,\n",
       " <div class=\"info director\">\n",
       " <span class=\"descriptor\">Directed By:</span> <a class=\"\" href=\"//www.rottentomatoes.com/celebrity/bill_paxton\">Bill Paxton</a></div>,\n",
       " <div class=\"info director\">\n",
       " <span class=\"descriptor\">Directed By:</span> <a class=\"\" href=\"//www.rottentomatoes.com/celebrity/gary_fleder\">Gary Fleder</a></div>]"
      ]
     },
     "execution_count": 17,
     "metadata": {},
     "output_type": "execute_result"
    }
   ],
   "source": [
    "div_notes2 = soup.find_all(\"div\", {\"class\": \"info director\"})\n",
    "div_notes2[:3]"
   ]
  },
  {
   "cell_type": "code",
   "execution_count": 18,
   "id": "c06c943b-616d-4302-be48-fedc12c6b37e",
   "metadata": {},
   "outputs": [
    {
     "data": {
      "text/plain": [
       "'John Stockwell'"
      ]
     },
     "execution_count": 18,
     "metadata": {},
     "output_type": "execute_result"
    }
   ],
   "source": [
    "film_director = div_notes2[0].find('a').text\n",
    "film_director"
   ]
  },
  {
   "cell_type": "code",
   "execution_count": 32,
   "id": "f0922334-4d27-48d0-877e-208afa1d5d5e",
   "metadata": {},
   "outputs": [],
   "source": [
    "names = []\n",
    "year = []\n",
    "score = []\n",
    "director = []\n",
    "\n",
    "for div in div_notes:\n",
    "    sub_titles = div.find('a').text\n",
    "    sub_year = div.find('span').text.strip(\"()\")\n",
    "    sub_score = \"%\"+div.find('span', {\"class\":\"tMeterScore\"}).text[:-1]\n",
    "    \n",
    "    names.append(sub_titles)\n",
    "    year.append(sub_year)\n",
    "    score.append(sub_score)\n",
    "    \n",
    "for div in div_notes2:\n",
    "    sub_director = div.find('a').text\n",
    "    director.append(sub_director)\n",
    "    "
   ]
  },
  {
   "cell_type": "code",
   "execution_count": 33,
   "id": "cf3ce338-4c84-4ce1-82a8-a898756203aa",
   "metadata": {},
   "outputs": [
    {
     "data": {
      "text/plain": [
       "150"
      ]
     },
     "execution_count": 33,
     "metadata": {},
     "output_type": "execute_result"
    }
   ],
   "source": [
    "len(names)"
   ]
  },
  {
   "cell_type": "code",
   "execution_count": 34,
   "id": "3c0494f1-6468-48d8-a246-f1655b44af8b",
   "metadata": {},
   "outputs": [
    {
     "data": {
      "text/plain": [
       "150"
      ]
     },
     "execution_count": 34,
     "metadata": {},
     "output_type": "execute_result"
    }
   ],
   "source": [
    "len(year)"
   ]
  },
  {
   "cell_type": "code",
   "execution_count": 35,
   "id": "931d1ed5-9daa-4153-aa93-951dd6c79a85",
   "metadata": {},
   "outputs": [
    {
     "data": {
      "text/plain": [
       "150"
      ]
     },
     "execution_count": 35,
     "metadata": {},
     "output_type": "execute_result"
    }
   ],
   "source": [
    "len(score)"
   ]
  },
  {
   "cell_type": "code",
   "execution_count": 36,
   "id": "2399dc5c-9f42-4f32-81d3-58b6605db3a5",
   "metadata": {},
   "outputs": [
    {
     "data": {
      "text/plain": [
       "150"
      ]
     },
     "execution_count": 36,
     "metadata": {},
     "output_type": "execute_result"
    }
   ],
   "source": [
    "len(director)"
   ]
  },
  {
   "cell_type": "code",
   "execution_count": 37,
   "id": "4c2d6fad-7890-41ad-afc0-1d743036f896",
   "metadata": {},
   "outputs": [
    {
     "data": {
      "text/plain": [
       "str"
      ]
     },
     "execution_count": 37,
     "metadata": {},
     "output_type": "execute_result"
    }
   ],
   "source": [
    "type(score[0])"
   ]
  },
  {
   "cell_type": "code",
   "execution_count": 38,
   "id": "a8f57b98-e97a-47a2-8453-e9212a67ace3",
   "metadata": {},
   "outputs": [
    {
     "data": {
      "text/plain": [
       "str"
      ]
     },
     "execution_count": 38,
     "metadata": {},
     "output_type": "execute_result"
    }
   ],
   "source": [
    "type(director[0])"
   ]
  },
  {
   "cell_type": "markdown",
   "id": "1f44be71-f89f-44fd-96af-cdfa5f06d55f",
   "metadata": {},
   "source": [
    "5. Combine all the above infor in a single, useful file."
   ]
  },
  {
   "cell_type": "code",
   "execution_count": 39,
   "id": "7ec61f4a-3580-4d12-89e1-628b8885b020",
   "metadata": {},
   "outputs": [],
   "source": [
    "import pandas as pd"
   ]
  },
  {
   "cell_type": "code",
   "execution_count": 40,
   "id": "3c8e79ed-0222-46cd-82db-3af5c2749e17",
   "metadata": {
    "tags": []
   },
   "outputs": [],
   "source": [
    "nm = pd.DataFrame(names, columns = [\"title\"])"
   ]
  },
  {
   "cell_type": "code",
   "execution_count": 41,
   "id": "949e1136-8c68-4f13-9c4c-9e3813550bcf",
   "metadata": {
    "tags": []
   },
   "outputs": [],
   "source": [
    "yr = pd.DataFrame(year, columns = [\"year\"])"
   ]
  },
  {
   "cell_type": "code",
   "execution_count": 42,
   "id": "fe596b34-c4f7-4de8-8b2c-3325da12f892",
   "metadata": {
    "tags": []
   },
   "outputs": [],
   "source": [
    "sc = pd.DataFrame(score, columns = [\"score\"])"
   ]
  },
  {
   "cell_type": "code",
   "execution_count": 43,
   "id": "1bea93b2-b385-4bab-a046-2a4c9e25b396",
   "metadata": {
    "tags": []
   },
   "outputs": [],
   "source": [
    "drc = pd.DataFrame(director, columns = [\"director\"])"
   ]
  },
  {
   "cell_type": "code",
   "execution_count": 44,
   "id": "99419320-6bb9-4cee-9095-846afcc61afb",
   "metadata": {},
   "outputs": [
    {
     "data": {
      "text/html": [
       "<div>\n",
       "<style scoped>\n",
       "    .dataframe tbody tr th:only-of-type {\n",
       "        vertical-align: middle;\n",
       "    }\n",
       "\n",
       "    .dataframe tbody tr th {\n",
       "        vertical-align: top;\n",
       "    }\n",
       "\n",
       "    .dataframe thead th {\n",
       "        text-align: right;\n",
       "    }\n",
       "</style>\n",
       "<table border=\"1\" class=\"dataframe\">\n",
       "  <thead>\n",
       "    <tr style=\"text-align: right;\">\n",
       "      <th></th>\n",
       "      <th>title</th>\n",
       "      <th>year</th>\n",
       "      <th>score</th>\n",
       "      <th>director</th>\n",
       "    </tr>\n",
       "  </thead>\n",
       "  <tbody>\n",
       "    <tr>\n",
       "      <th>0</th>\n",
       "      <td>Blue Crush</td>\n",
       "      <td>2002</td>\n",
       "      <td>%62</td>\n",
       "      <td>John Stockwell</td>\n",
       "    </tr>\n",
       "    <tr>\n",
       "      <th>1</th>\n",
       "      <td>The Greatest Game Ever Played</td>\n",
       "      <td>2005</td>\n",
       "      <td>%63</td>\n",
       "      <td>Bill Paxton</td>\n",
       "    </tr>\n",
       "    <tr>\n",
       "      <th>2</th>\n",
       "      <td>The Express</td>\n",
       "      <td>2008</td>\n",
       "      <td>%62</td>\n",
       "      <td>Gary Fleder</td>\n",
       "    </tr>\n",
       "    <tr>\n",
       "      <th>3</th>\n",
       "      <td>Rocky III</td>\n",
       "      <td>1982</td>\n",
       "      <td>%64</td>\n",
       "      <td>Sylvester Stallone</td>\n",
       "    </tr>\n",
       "    <tr>\n",
       "      <th>4</th>\n",
       "      <td>Cobb</td>\n",
       "      <td>1994</td>\n",
       "      <td>%65</td>\n",
       "      <td>Ron Shelton</td>\n",
       "    </tr>\n",
       "    <tr>\n",
       "      <th>...</th>\n",
       "      <td>...</td>\n",
       "      <td>...</td>\n",
       "      <td>...</td>\n",
       "      <td>...</td>\n",
       "    </tr>\n",
       "    <tr>\n",
       "      <th>145</th>\n",
       "      <td>Fighting With My Family</td>\n",
       "      <td>2019</td>\n",
       "      <td>%93</td>\n",
       "      <td>Stephen Merchant</td>\n",
       "    </tr>\n",
       "    <tr>\n",
       "      <th>146</th>\n",
       "      <td>The Wrestler</td>\n",
       "      <td>2008</td>\n",
       "      <td>%98</td>\n",
       "      <td>Darren Aronofsky</td>\n",
       "    </tr>\n",
       "    <tr>\n",
       "      <th>147</th>\n",
       "      <td>I, Tonya</td>\n",
       "      <td>2017</td>\n",
       "      <td>%90</td>\n",
       "      <td>Craig Gillespie</td>\n",
       "    </tr>\n",
       "    <tr>\n",
       "      <th>148</th>\n",
       "      <td>Creed</td>\n",
       "      <td>2015</td>\n",
       "      <td>%95</td>\n",
       "      <td>Ryan Coogler</td>\n",
       "    </tr>\n",
       "    <tr>\n",
       "      <th>149</th>\n",
       "      <td>Ford v Ferrari</td>\n",
       "      <td>2019</td>\n",
       "      <td>%92</td>\n",
       "      <td>James Mangold</td>\n",
       "    </tr>\n",
       "  </tbody>\n",
       "</table>\n",
       "<p>150 rows × 4 columns</p>\n",
       "</div>"
      ],
      "text/plain": [
       "                             title  year score            director\n",
       "0                       Blue Crush  2002   %62      John Stockwell\n",
       "1    The Greatest Game Ever Played  2005   %63         Bill Paxton\n",
       "2                      The Express  2008   %62         Gary Fleder\n",
       "3                        Rocky III  1982   %64  Sylvester Stallone\n",
       "4                             Cobb  1994   %65         Ron Shelton\n",
       "..                             ...   ...   ...                 ...\n",
       "145        Fighting With My Family  2019   %93    Stephen Merchant\n",
       "146                   The Wrestler  2008   %98    Darren Aronofsky\n",
       "147                       I, Tonya  2017   %90     Craig Gillespie\n",
       "148                          Creed  2015   %95        Ryan Coogler\n",
       "149                 Ford v Ferrari  2019   %92       James Mangold\n",
       "\n",
       "[150 rows x 4 columns]"
      ]
     },
     "execution_count": 44,
     "metadata": {},
     "output_type": "execute_result"
    }
   ],
   "source": [
    "combine = pd.concat([nm, yr, sc, drc], axis = 1)\n",
    "combine"
   ]
  },
  {
   "cell_type": "code",
   "execution_count": 45,
   "id": "0d05b356-cc77-40d5-8137-2d9e757a9fc8",
   "metadata": {},
   "outputs": [
    {
     "data": {
      "text/plain": [
       "title       0\n",
       "year        0\n",
       "score       0\n",
       "director    0\n",
       "dtype: int64"
      ]
     },
     "execution_count": 45,
     "metadata": {},
     "output_type": "execute_result"
    }
   ],
   "source": [
    "combine.isna().sum()"
   ]
  },
  {
   "cell_type": "code",
   "execution_count": null,
   "id": "52e75318-9480-451f-8f1d-36df5d812c7b",
   "metadata": {},
   "outputs": [],
   "source": []
  }
 ],
 "metadata": {
  "kernelspec": {
   "display_name": "Python 3 (ipykernel)",
   "language": "python",
   "name": "python3"
  },
  "language_info": {
   "codemirror_mode": {
    "name": "ipython",
    "version": 3
   },
   "file_extension": ".py",
   "mimetype": "text/x-python",
   "name": "python",
   "nbconvert_exporter": "python",
   "pygments_lexer": "ipython3",
   "version": "3.8.8"
  }
 },
 "nbformat": 4,
 "nbformat_minor": 5
}
